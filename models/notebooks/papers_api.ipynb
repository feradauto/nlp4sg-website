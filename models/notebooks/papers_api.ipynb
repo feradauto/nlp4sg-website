{
 "cells": [
  {
   "cell_type": "code",
   "execution_count": 1,
   "metadata": {},
   "outputs": [],
   "source": [
    "import sys  \n",
    "sys.path.insert(0, '../')"
   ]
  },
  {
   "cell_type": "code",
   "execution_count": 3,
   "metadata": {},
   "outputs": [
    {
     "data": {
      "text/plain": [
       "[{'paperId': 'b1d24e8e08435b7c52335485a0d635abf9bc604c',\n",
       "  'title': 'FEVER: a Large-scale Dataset for Fact Extraction and VERification'}]"
      ]
     },
     "execution_count": 3,
     "metadata": {},
     "output_type": "execute_result"
    }
   ],
   "source": [
    "from src.datamodules.apis.semantic_scholar_api import SemanticScholarAPI\n",
    "\n",
    "api = SemanticScholarAPI() \n",
    "query = api.query('FEVER: a large-scale dataset for Fact Extraction and VERification.', fields=['title'], limit=2)\n",
    "query['data']\n",
    "#paper = api.paper('83a0ae0a6e780d6f2ee672905b827d806edb5d1b', fields=['title', 'abstract', 'externalIds'])\n",
    "#paper"
   ]
  },
  {
   "cell_type": "code",
   "execution_count": null,
   "metadata": {},
   "outputs": [],
   "source": []
  }
 ],
 "metadata": {
  "kernelspec": {
   "display_name": "Python 3 (ipykernel)",
   "language": "python",
   "name": "python3"
  },
  "language_info": {
   "codemirror_mode": {
    "name": "ipython",
    "version": 3
   },
   "file_extension": ".py",
   "mimetype": "text/x-python",
   "name": "python",
   "nbconvert_exporter": "python",
   "pygments_lexer": "ipython3",
   "version": "3.9.5"
  }
 },
 "nbformat": 4,
 "nbformat_minor": 2
}
