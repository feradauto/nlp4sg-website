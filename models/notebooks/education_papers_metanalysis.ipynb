{
 "cells": [
  {
   "cell_type": "code",
   "execution_count": 1,
   "id": "25e1ed76",
   "metadata": {},
   "outputs": [],
   "source": [
    "import glob\n",
    "import pandas as pd\n",
    "import json\n",
    "import sys  \n",
    "sys.path.insert(0, '../')\n",
    "\n",
    "files = glob.glob('../data/json/*.json')\n",
    "json_files = []\n",
    "\n",
    "for file in files:\n",
    "    with open(file) as json_file:\n",
    "        json_files.append(json.load(json_file))\n"
   ]
  },
  {
   "cell_type": "code",
   "execution_count": 2,
   "id": "802de73a",
   "metadata": {},
   "outputs": [
    {
     "name": "stdout",
     "output_type": "stream",
     "text": [
      "{\n",
      "  \"text\": \"The objectives of this study were to determine the influence of various motivation variables on task-specific mathematics performance and to explore whether these variables change during the first year of middle school (N \\u03ed 273). Students' taskspecific self-efficacy was the only motivation variable to predict performance and did so both at start and end of year. There were no differences in anxiety, selfconcept, or self-efficacy for self-regulation between start and end of year, but, by end of year, students described mathematics as less valuable and reported lower effort and persistence. Gifted students had stronger mathematics self-concept beliefs, and they had more accurate and less overconfident self-efficacy beliefs than did regular education students. There were no gender differences in any of the motivation constructs.\",\n",
      "  \"spans\": []\n",
      "},\n"
     ]
    }
   ],
   "source": [
    "import re \n",
    "\n",
    "def extract_entity(text, entities):\n",
    "    spans = []\n",
    "    for label, matches in entities:\n",
    "        for match in matches:\n",
    "            for m in re.finditer(match, text, flags=re.IGNORECASE):\n",
    "                spans += [{ \n",
    "                    'start': m.start(), \n",
    "                    'end': m.end(), \n",
    "                    'label': label, \n",
    "                    'text': text[m.start():m.end()] \n",
    "                }]\n",
    "    return { 'text': text, 'spans': spans }\n",
    "\n",
    "\n",
    "text = str(json_files[1]['abstract'])   \n",
    "sample_size = ('SAMPLE_SIZE', ['929'])\n",
    "print(json.dumps(extract_entity(text, [sample_size]), indent=2)+',')"
   ]
  },
  {
   "cell_type": "code",
   "execution_count": 6,
   "id": "a1f8c666",
   "metadata": {},
   "outputs": [
    {
     "name": "stdout",
     "output_type": "stream",
     "text": [
      "(two, 1702, 53 %, age 12-14, 1636, 64 %, age 16-18, Finnish) ('CARDINAL', 'DATE', 'EVENT', 'FAC', 'GPE', 'LANGUAGE', 'LAW', 'LOC', 'MONEY', 'NORP', 'ORDINAL', 'ORG', 'PERCENT', 'PERSON', 'PRODUCT', 'QUANTITY', 'TIME', 'WORK_OF_ART')\n"
     ]
    },
    {
     "ename": "AttributeError",
     "evalue": "'tuple' object has no attribute 'push'",
     "output_type": "error",
     "traceback": [
      "\u001b[0;31m---------------------------------------------------------------------------\u001b[0m",
      "\u001b[0;31mAttributeError\u001b[0m                            Traceback (most recent call last)",
      "\u001b[0;32m/var/folders/64/x32rfnbd78n2jj1z9x_tgx9h0000gn/T/ipykernel_49798/1452886520.py\u001b[0m in \u001b[0;36m<module>\u001b[0;34m\u001b[0m\n\u001b[1;32m      9\u001b[0m \u001b[0mner\u001b[0m\u001b[0;34m=\u001b[0m\u001b[0mnlp\u001b[0m\u001b[0;34m.\u001b[0m\u001b[0mget_pipe\u001b[0m\u001b[0;34m(\u001b[0m\u001b[0;34m'ner'\u001b[0m\u001b[0;34m)\u001b[0m\u001b[0;34m\u001b[0m\u001b[0;34m\u001b[0m\u001b[0m\n\u001b[1;32m     10\u001b[0m \u001b[0mprint\u001b[0m\u001b[0;34m(\u001b[0m\u001b[0mdoc\u001b[0m\u001b[0;34m.\u001b[0m\u001b[0ments\u001b[0m\u001b[0;34m,\u001b[0m \u001b[0mner\u001b[0m\u001b[0;34m.\u001b[0m\u001b[0mlabels\u001b[0m\u001b[0;34m)\u001b[0m\u001b[0;34m\u001b[0m\u001b[0;34m\u001b[0m\u001b[0m\n\u001b[0;32m---> 11\u001b[0;31m \u001b[0mprint\u001b[0m\u001b[0;34m(\u001b[0m\u001b[0mdoc\u001b[0m\u001b[0;34m.\u001b[0m\u001b[0ments\u001b[0m\u001b[0;34m.\u001b[0m\u001b[0mpush\u001b[0m\u001b[0;34m(\u001b[0m\u001b[0;34m'test'\u001b[0m\u001b[0;34m)\u001b[0m\u001b[0;34m)\u001b[0m\u001b[0;34m\u001b[0m\u001b[0;34m\u001b[0m\u001b[0m\n\u001b[0m\u001b[1;32m     12\u001b[0m \u001b[0moptions\u001b[0m \u001b[0;34m=\u001b[0m \u001b[0;34m{\u001b[0m\u001b[0;34m\"ents\"\u001b[0m\u001b[0;34m:\u001b[0m \u001b[0;34m[\u001b[0m\u001b[0;34m]\u001b[0m\u001b[0;34m,\u001b[0m \u001b[0;34m\"colors\"\u001b[0m\u001b[0;34m:\u001b[0m \u001b[0;34m{\u001b[0m \u001b[0;34m'CARDINAL'\u001b[0m\u001b[0;34m:\u001b[0m \u001b[0;34m'#fab1a0'\u001b[0m \u001b[0;34m}\u001b[0m\u001b[0;34m}\u001b[0m\u001b[0;34m\u001b[0m\u001b[0;34m\u001b[0m\u001b[0m\n\u001b[1;32m     13\u001b[0m \u001b[0mdisplacy\u001b[0m\u001b[0;34m.\u001b[0m\u001b[0mrender\u001b[0m\u001b[0;34m(\u001b[0m\u001b[0mdoc\u001b[0m\u001b[0;34m,\u001b[0m \u001b[0mstyle\u001b[0m\u001b[0;34m=\u001b[0m\u001b[0;34m\"ent\"\u001b[0m\u001b[0;34m)\u001b[0m\u001b[0;34m\u001b[0m\u001b[0;34m\u001b[0m\u001b[0m\n",
      "\u001b[0;31mAttributeError\u001b[0m: 'tuple' object has no attribute 'push'"
     ]
    }
   ],
   "source": [
    "import spacy\n",
    "from spacy import displacy\n",
    "\n",
    "text = str(json_files[40]['abstract']) \n",
    "\n",
    "nlp=spacy.load(\"en_core_web_sm\") \n",
    "#nlp.from_disk(\"../data/ner_sample_size\")\n",
    "doc = nlp(text)\n",
    "ner=nlp.get_pipe('ner')\n",
    "print(doc.ents, ner.labels)\n",
    "print(doc.ents.push('test'))\n",
    "options = {\"ents\": [], \"colors\": { 'CARDINAL': '#fab1a0' }}\n",
    "displacy.render(doc, style=\"ent\")"
   ]
  },
  {
   "cell_type": "code",
   "execution_count": 16,
   "id": "e2f955b0",
   "metadata": {},
   "outputs": [],
   "source": [
    "from transformers import AutoModelForQuestionAnswering, AutoTokenizer, pipeline\n",
    "\n",
    "model_name = \"deepset/roberta-base-squad2\"\n",
    "pipe = pipeline('question-answering', model=model_name, tokenizer=model_name)\n",
    "\n",
    "def get_entity(text, question):\n",
    "    return pipe({ 'context': text, 'question': question })\n",
    "    "
   ]
  },
  {
   "cell_type": "code",
   "execution_count": 45,
   "id": "d61da30a",
   "metadata": {
    "scrolled": true
   },
   "outputs": [
    {
     "data": {
      "text/html": [
       "<span class=\"tex2jax_ignore\"><div class=\"entities\" style=\"line-height: 2.5; direction: ltr\">This two-wave longitudinal study examined how developmental changes in students' mastery goal orientation, academic effort, and intrinsic motivation were predicted by student-perceived support of motivational support (support for autonomy, competence, and relatedness) in secondary classrooms. The study extends previous knowledge that showed that support for motivational support in class is related to students' intrinsic motivation as it focused on the developmental changes of a set of different motivational variables and the relations of these changes to student-perceived motivational support in class. Thus, differential classroom effects on students' motivational development were investigated. A sample of \n",
       "<mark class=\"entity\" style=\"background: #fab1a0; padding: 0.45em 0.6em; margin: 0 0.25em; line-height: 1; border-radius: 0.35em;\">\n",
       "    1088 German students\n",
       "    <span style=\"font-size: 0.8em; font-weight: bold; line-height: 1; border-radius: 0.35em; vertical-align: middle; margin-left: 0.5rem\">SAMPLE_SIZE</span>\n",
       "</mark>\n",
       " was assessed in the beginning of the school year when students were in grade 8 (Mean age = 13.70, SD = 0.53, 54% girls) and again at the end of the next school year when students were in grade 9. Results of latent change models showed a tendency toward decline in mastery goal orientation and a significant decrease in academic effort from grade 8 to 9. Intrinsic motivation did not decrease significantly across time. Student-perceived support of competence in class predicted the level and change in students' academic effort. The findings emphasized that it is beneficial to create classroom learning environments that enhance students' perceptions of competence in class when aiming to enhance students' academic effort in secondary school classrooms.</div></span>"
      ],
      "text/plain": [
       "<IPython.core.display.HTML object>"
      ]
     },
     "metadata": {},
     "output_type": "display_data"
    },
    {
     "data": {
      "text/html": [
       "<span class=\"tex2jax_ignore\"><div class=\"entities\" style=\"line-height: 2.5; direction: ltr\">The objectives of this study were to determine the influence of various motivation variables on task-specific mathematics performance and to explore whether these variables change during the first year of middle school (\n",
       "<mark class=\"entity\" style=\"background: #fab1a0; padding: 0.45em 0.6em; margin: 0 0.25em; line-height: 1; border-radius: 0.35em;\">\n",
       "    N ϭ 273\n",
       "    <span style=\"font-size: 0.8em; font-weight: bold; line-height: 1; border-radius: 0.35em; vertical-align: middle; margin-left: 0.5rem\">SAMPLE_SIZE</span>\n",
       "</mark>\n",
       "). Students' taskspecific self-efficacy was the only motivation variable to predict performance and did so both at start and end of year. There were no differences in anxiety, selfconcept, or self-efficacy for self-regulation between start and end of year, but, by end of year, students described mathematics as less valuable and reported lower effort and persistence. Gifted students had stronger mathematics self-concept beliefs, and they had more accurate and less overconfident self-efficacy beliefs than did regular education students. There were no gender differences in any of the motivation constructs.</div></span>"
      ],
      "text/plain": [
       "<IPython.core.display.HTML object>"
      ]
     },
     "metadata": {},
     "output_type": "display_data"
    },
    {
     "data": {
      "text/html": [
       "<span class=\"tex2jax_ignore\"><div class=\"entities\" style=\"line-height: 2.5; direction: ltr\">The purpose of the current research was to examine the reciprocal relationship among early adolescents between self-esteem and career maturity from the developmental/longitudinal perspective. Data from \n",
       "<mark class=\"entity\" style=\"background: #fab1a0; padding: 0.45em 0.6em; margin: 0 0.25em; line-height: 1; border-radius: 0.35em;\">\n",
       "    1 to 4 (Grades 4-7\n",
       "    <span style=\"font-size: 0.8em; font-weight: bold; line-height: 1; border-radius: 0.35em; vertical-align: middle; margin-left: 0.5rem\">SAMPLE_SIZE</span>\n",
       "</mark>\n",
       ") survey waves of the Korea Youth Panel Study, a longitudinal study of Korean youth organized by the National Youth Policy Institute and funded by the government of South Korea, were analyzed using autoregressive cross-lagged (ARCL) modeling. The results indicated (a) a positive autoregressive longitudinal relationship between career maturity and self-esteem over time, (b) no cross-lagged longitudinal relationship from career maturity to self-esteem over time, but a cross-lagged longitudinal relationship from self-esteem to career maturity over time, and (c) no gender difference in the ARCL model with self-esteem and career maturity. Findings hold implications for research and practice.</div></span>"
      ],
      "text/plain": [
       "<IPython.core.display.HTML object>"
      ]
     },
     "metadata": {},
     "output_type": "display_data"
    },
    {
     "data": {
      "text/html": [
       "<span class=\"tex2jax_ignore\"><div class=\"entities\" style=\"line-height: 2.5; direction: ltr\">Introduction. -The contribution of the learning climate and attachment security to students' academic competence and anxiety symptoms during the middle school transition has not been examined. Objectives. -The main purpose of this prospective study was to examine the complementary contributions of these two contextual determinants. A second goal was to test the moderating effect of attachment security perceived by students in the relationship between the learning climate and both outcomes (academic competence, anxiety symptoms). Method and results. -Participants were \n",
       "<mark class=\"entity\" style=\"background: #fab1a0; padding: 0.45em 0.6em; margin: 0 0.25em; line-height: 1; border-radius: 0.35em;\">\n",
       "    627 students in Grade 6 (54% girls).\n",
       "    <span style=\"font-size: 0.8em; font-weight: bold; line-height: 1; border-radius: 0.35em; vertical-align: middle; margin-left: 0.5rem\">SAMPLE_SIZE</span>\n",
       "</mark>\n",
       " Latent structural modeling analysis revealed that a mastery climate predicted higher levels of perceived academic competence perceived in the first year of middle school, although attachment security to the mother in Grade 6 predicted perceived academic competence and anxiety symptoms in the first year of middle school. A moderating effect was found, in which greater attachment security to the mother appeared to lessen the relationship between a performance climate and anxiety symptoms during the middle school transition. Conclusion. -The results suggest that attachment security to the mother predicts perceived academic competence and anxiety symptoms during the middle school transition. Additionally, attachment security to the mother can moderate the potentially harmful effects of a learning climate emphasizing social comparison and performance on anxiety.</div></span>"
      ],
      "text/plain": [
       "<IPython.core.display.HTML object>"
      ]
     },
     "metadata": {},
     "output_type": "display_data"
    },
    {
     "data": {
      "text/html": [
       "<span class=\"tex2jax_ignore\"><div class=\"entities\" style=\"line-height: 2.5; direction: ltr\">Research based on the Eccles model of parent socialization demonstrated that parents are an important source of value and ability information for their children. Little is known, however, about the bidirectional effects between students' perceptions of their parents' beliefs and behaviors and the students' own domain-specific values. This study analyzed how students' perceptions of parents' beliefs and behaviors and students' mathematics values and mathematicsrelated career plans affect each other bidirectionally, and analyzed the role of students' gender as a moderator of these relations. Data from \n",
       "<mark class=\"entity\" style=\"background: #fab1a0; padding: 0.45em 0.6em; margin: 0 0.25em; line-height: 1; border-radius: 0.35em;\">\n",
       "    475 students in 11 th and 12 th grade\n",
       "    <span style=\"font-size: 0.8em; font-weight: bold; line-height: 1; border-radius: 0.35em; vertical-align: middle; margin-left: 0.5rem\">SAMPLE_SIZE</span>\n",
       "</mark>\n",
       " (girls: 50.3%; 31 classrooms; 12 schools), who participated in two waves of the study, were analyzed. Results of longitudinal structural equation models demonstrated that students' perceptions of their parents' mathematics value beliefs at Time 1 affected the students' own mathematics utility value at Time 2. Bidirectional effects were not shown in the full sample but were identified for boys. The paths within the tested model varied for boys and girls. For example, boys', not girls', mathematics intrinsic value predicted their reported conversations with their fathers about future occupational plans. Boys', not girls', perceived parents' mathematics value predicted the mathematics utility value. Findings are discussed in relation to their implications for parents and teachers, as well as in relation to gendered motivational processes.</div></span>"
      ],
      "text/plain": [
       "<IPython.core.display.HTML object>"
      ]
     },
     "metadata": {},
     "output_type": "display_data"
    },
    {
     "data": {
      "text/html": [
       "<span class=\"tex2jax_ignore\"><div class=\"entities\" style=\"line-height: 2.5; direction: ltr\">Only a few studies have examined the direction of associations between academic achievement, interest, and self-concept of ability simultaneously by using longitudinal data over several school years. To examine the cross-lagged relationships between students' interest, self-concept of ability, and performance in mathematics and reading, longitudinal data from Grade 1 to Grade 7 of comprehensive school was gathered from \n",
       "<mark class=\"entity\" style=\"background: #fab1a0; padding: 0.45em 0.6em; margin: 0 0.25em; line-height: 1; border-radius: 0.35em;\">\n",
       "    216 students\n",
       "    <span style=\"font-size: 0.8em; font-weight: bold; line-height: 1; border-radius: 0.35em; vertical-align: middle; margin-left: 0.5rem\">SAMPLE_SIZE</span>\n",
       "</mark>\n",
       ". The results showed that, in both reading and math, performance predicted students' subsequent self-concept of ability. Some evidence was also found that math performance predicts subsequent interest in mathematics, and that selfconcept of math ability mediates the impact of math performance on interest. No evidence was found for the assumption that self-concept of ability or interest would predict subsequent academic performance.</div></span>"
      ],
      "text/plain": [
       "<IPython.core.display.HTML object>"
      ]
     },
     "metadata": {},
     "output_type": "display_data"
    },
    {
     "data": {
      "text/html": [
       "<span class=\"tex2jax_ignore\"><div class=\"entities\" style=\"line-height: 2.5; direction: ltr\">The present investigation was designed to explore the relations between sport participation, peer acceptance, and global self-esteem. Peer acceptance was considered as a possible mediator of the relationship between sport participation and global self-esteem. The sample included girls (\n",
       "<mark class=\"entity\" style=\"background: #fab1a0; padding: 0.45em 0.6em; margin: 0 0.25em; line-height: 1; border-radius: 0.35em;\">\n",
       "    N=4,689\n",
       "    <span style=\"font-size: 0.8em; font-weight: bold; line-height: 1; border-radius: 0.35em; vertical-align: middle; margin-left: 0.5rem\">SAMPLE_SIZE</span>\n",
       "</mark>\n",
       ") and boys (N=5,811) between the ages of 12 and 21 (M=15 years) who were part of the National Longitudinal Study of Adolescent Health. Analyses revealed that peer acceptance partially mediated the relation between sport participation and global self-esteem for girls as well as boys. Findings suggest the importance of considering how sport participation and self-evaluations in particular domains may contribute to global feelings of self-worth. The role of peers in this relationship is discussed in relation to changing social attitudes about girls' sport participation.</div></span>"
      ],
      "text/plain": [
       "<IPython.core.display.HTML object>"
      ]
     },
     "metadata": {},
     "output_type": "display_data"
    },
    {
     "data": {
      "text/html": [
       "<span class=\"tex2jax_ignore\"><div class=\"entities\" style=\"line-height: 2.5; direction: ltr\">Young adolescents grapple with a host of changes that may influence how they perceive themselves: rapid physical and emotional development, the transition to new school environments, and the onset of adolescence. The purpose of this study is to investigate young adolescents' perceptions of self prior to and during their middle grades years. Data were collected from \n",
       "<mark class=\"entity\" style=\"background: #fab1a0; padding: 0.45em 0.6em; margin: 0 0.25em; line-height: 1; border-radius: 0.35em;\">\n",
       "    78 fifth grade students\n",
       "    <span style=\"font-size: 0.8em; font-weight: bold; line-height: 1; border-radius: 0.35em; vertical-align: middle; margin-left: 0.5rem\">SAMPLE_SIZE</span>\n",
       "</mark>\n",
       " using the Piers Harris Self-Concept Scale beginning in the spring of their fifth grade year and continuing across multiple data points in middle school. Data analyses indicate that young adolescents initially experience positive changes in five of six domainspecific aspects of self-concept after the transition to middle school, followed by subsequent declines to mean ratings at or below their elementary school values. Findings highlight the importance of attending to young adolescents' self-concept needs prior to and during their middle grades experiences.</div></span>"
      ],
      "text/plain": [
       "<IPython.core.display.HTML object>"
      ]
     },
     "metadata": {},
     "output_type": "display_data"
    },
    {
     "data": {
      "text/html": [
       "<span class=\"tex2jax_ignore\"><div class=\"entities\" style=\"line-height: 2.5; direction: ltr\">A new, individual administration procedure for assessing multiple dimensions of self-concept for young children \n",
       "<mark class=\"entity\" style=\"background: #fab1a0; padding: 0.45em 0.6em; margin: 0 0.25em; line-height: 1; border-radius: 0.35em;\">\n",
       "    5-8 years of age\n",
       "    <span style=\"font-size: 0.8em; font-weight: bold; line-height: 1; border-radius: 0.35em; vertical-align: middle; margin-left: 0.5rem\">SAMPLE_SIZE</span>\n",
       "</mark>\n",
       " (Marsh, Craven, &amp; Debus) was the basis of this study. We expanded this application in a multicohort-multioccasion (MCMO) study that provides simultaneous multicohort comparisons (crosssectional comparisons of different age cohorts) and longitudinal comparisons of the same children on multiple occasions. There was reasonable support for predictions that reliability, stability, factor structure, and the distinctiveness of the SDQ factors would improve with age (a between-group age cohort comparison) and from 1 year to the next (a longitudinal comparison), and that small gender differences were reasonably stable over age. Consistent with the proposal that children's self-perceptions become more realistic with age, Time 1 (Tl) teacher ratings were more highly correlated with student self-ratings at T2 than T1 and contributed to the prediction of T2 self-concept beyond effects mediated by T1 self-concepts. The results support and expand the surprisingly good support for the multidimensionality of self-concept responses for very young children using this procedure.</div></span>"
      ],
      "text/plain": [
       "<IPython.core.display.HTML object>"
      ]
     },
     "metadata": {},
     "output_type": "display_data"
    },
    {
     "data": {
      "text/html": [
       "<span class=\"tex2jax_ignore\"><div class=\"entities\" style=\"line-height: 2.5; direction: ltr\">Previous studies revealed that low self-esteem is prospectively associated with depression. However, self-esteem has been shown to change over time. We thus hypothesized that not only level but also change in self-esteem affect depression. Using data from a 23-year longitudinal study (\n",
       "<mark class=\"entity\" style=\"background: #fab1a0; padding: 0.45em 0.6em; margin: 0 0.25em; line-height: 1; border-radius: 0.35em;\">\n",
       "    N ϭ 1,527\n",
       "    <span style=\"font-size: 0.8em; font-weight: bold; line-height: 1; border-radius: 0.35em; vertical-align: middle; margin-left: 0.5rem\">SAMPLE_SIZE</span>\n",
       "</mark>\n",
       "), we therefore examined the prospective effects of global and domain-specific self-esteem (physical attractiveness, academic competence) level and change on depressive symptoms 2 decades later. Self-esteem was assessed annually from age 12 to 16, and depression was assessed at age 16 and 35. Results from latent growth curve analyses demonstrated that both level and change in self-esteem served as predictors for adult depression. Individuals who entered adolescence with low self-esteem, and/or whose selfesteem declined further during the adolescent years, were more likely to exhibit symptoms of depression 2 decades later as adults; this pattern held both for global and domain-specific self-esteem. These findings highlight the importance of adolescent self-esteem development for mental health outcomes in adulthood.</div></span>"
      ],
      "text/plain": [
       "<IPython.core.display.HTML object>"
      ]
     },
     "metadata": {},
     "output_type": "display_data"
    },
    {
     "data": {
      "text/html": [
       "<span class=\"tex2jax_ignore\"><div class=\"entities\" style=\"line-height: 2.5; direction: ltr\">A longitudinal study was carried out to inz;estigate changes in specific aspects of self-concept, motiz,sation and school achiez;ement, and to explore the influmce of specific aspects of self-concept on other facets of the self-system aJter the transition from the fifth grade of primary school to the first year of lower middle school. \n",
       "<mark class=\"entity\" style=\"background: #fab1a0; padding: 0.45em 0.6em; margin: 0 0.25em; line-height: 1; border-radius: 0.35em;\">\n",
       "    Ninetg-two\n",
       "    <span style=\"font-size: 0.8em; font-weight: bold; line-height: 1; border-radius: 0.35em; vertical-align: middle; margin-left: 0.5rem\">SAMPLE_SIZE</span>\n",
       "</mark>\n",
       " pupils panicipated to the study. Each child was required to complete questionnaires to assess domain-specific self-concepts and motiztational orientation. Resuhs show areas of both stabil'ity and change in the transition from primary to lower middle school. A dynamic model explains relationships among domainspeffic self-concepts, motiztation and school grades: after the transition the role of competenre self-concept increases in importance on influencing the other components of self-system.</div></span>"
      ],
      "text/plain": [
       "<IPython.core.display.HTML object>"
      ]
     },
     "metadata": {},
     "output_type": "display_data"
    },
    {
     "data": {
      "text/html": [
       "<span class=\"tex2jax_ignore\"><div class=\"entities\" style=\"line-height: 2.5; direction: ltr\">This study focuses on processes involved in students' academic self-concept constructions before, during, and after secondary school transition. The study is based on a four-wave longitudinal dataset (\n",
       "<mark class=\"entity\" style=\"background: #fab1a0; padding: 0.45em 0.6em; margin: 0 0.25em; line-height: 1; border-radius: 0.35em;\">\n",
       "    N = 1953\n",
       "    <span style=\"font-size: 0.8em; font-weight: bold; line-height: 1; border-radius: 0.35em; vertical-align: middle; margin-left: 0.5rem\">SAMPLE_SIZE</span>\n",
       "</mark>\n",
       "). Structural equation modeling showed that during school transition, the impact of grades on students' academic self-concepts in Math and English decreased whereas the effects of maternal competence perceptions increased. After the transition, the effects of grades increased, while the effects maternal competence beliefs decreased again. The results are interpreted in terms of differential emphasizing of sources of information for students' self-concept construction. During school transition, elementary school grades lost informational value for selfevaluations due to the changed frame of reference. To secure stable and valid selfassessments, students emphasized other sources than grades; in this, case information obtained through parental competence appraisals. After transition, when valid grades were available for the students' constructions again, the temporarily heightened parental influence decreased again.</div></span>"
      ],
      "text/plain": [
       "<IPython.core.display.HTML object>"
      ]
     },
     "metadata": {},
     "output_type": "display_data"
    },
    {
     "data": {
      "text/html": [
       "<span class=\"tex2jax_ignore\"><div class=\"entities\" style=\"line-height: 2.5; direction: ltr\">Two studies of lww elementary sclwol and middle sclwol-aged children s general self-esteem, competence beliefs, and subjective task values for different activities change over time are presented. In Study 1, elementary sclwol children completed questionnaires once a year for \n",
       "<mark class=\"entity\" style=\"background: #fab1a0; padding: 0.45em 0.6em; margin: 0 0.25em; line-height: 1; border-radius: 0.35em;\">\n",
       "    3 years\n",
       "    <span style=\"font-size: 0.8em; font-weight: bold; line-height: 1; border-radius: 0.35em; vertical-align: middle; margin-left: 0.5rem\">SAMPLE_SIZE</span>\n",
       "</mark>\n",
       ". Study 2 assessed lww the transition to junior high sclwol influenced children s self-beliefs. Children completed questionnaires in the fall and spring of their sixth-grade year in elementary sclwol and the fall and spring of their seventh-grade year in junior high sclwol. Results showed that children s self-esteem did not change during elementary school but decreased following the junior high transition. Children s competence beliefs and beliefs about the usefulness and importance of different activities generally decreased. Children s interest in the activities slwwed a more mixed pattern of change. Boys' and girls' beliefs and values differed in fairly genderstereotypic ways. Many psychological and educational researchers have been interested in the development of the self system. These researchers have examined both general beliefs such as self-esteem and more specific beliefs that children and adolescents have about themselves. Researchers define self-esteem as the Portions of this article were presented by the first author as an invited address to Division E, Counseling and</div></span>"
      ],
      "text/plain": [
       "<IPython.core.display.HTML object>"
      ]
     },
     "metadata": {},
     "output_type": "display_data"
    },
    {
     "data": {
      "text/html": [
       "<span class=\"tex2jax_ignore\"><div class=\"entities\" style=\"line-height: 2.5; direction: ltr\">Background. Children's perceived competence and intrinsic motivation are assumed to be very high at the outset of schooling. However, how they change and how they relate to each other and to academic achievement across early schooling years remain open to question Aims. This 3-year longitudinal study was aimed at examining the following questions. Do children's perceived competence and intrinsic motivation about reading and mathematics change across the first 3 years of schooling? Do their perceived competence and intrinsic motivation differ according to academic domains? Do their perceived competence and intrinsic motivation relate to their academic achievement in each academic domain? Sample. A total of \n",
       "<mark class=\"entity\" style=\"background: #fab1a0; padding: 0.45em 0.6em; margin: 0 0.25em; line-height: 1; border-radius: 0.35em;\">\n",
       "    115\n",
       "    <span style=\"font-size: 0.8em; font-weight: bold; line-height: 1; border-radius: 0.35em; vertical-align: middle; margin-left: 0.5rem\">SAMPLE_SIZE</span>\n",
       "</mark>\n",
       " elementary schoolchildren (63 boys and 52 girls) were examined in first grade (mean age = 84,5 months, SD = .67) and for the next 2 years.Children responded to questionnaires about their perceived competence and intrinsic motivation in reading and mathematics. Year-end grades in these two subjects were used as a measure of performance. Results. Changes in perceived competence and intrinsic motivation, and between-year intercorrelations, were observed to differ according to academic domains and gender. Intrinsic motivation did not make a significant contribution to academic achievement at either school grade or in any academic domain, whereas perceived competence was significantly related to achievement at each school grade in both reading and mathematics. Conclusions. Differences between boys and girls observed in this study were not linked to a specific domain and cannot be attributed to gender-role stereotypes. Girls www.bps.org.uk</div></span>"
      ],
      "text/plain": [
       "<IPython.core.display.HTML object>"
      ]
     },
     "metadata": {},
     "output_type": "display_data"
    },
    {
     "data": {
      "text/html": [
       "<span class=\"tex2jax_ignore\"><div class=\"entities\" style=\"line-height: 2.5; direction: ltr\">This study examined the relative influence of adolescents' supportive relationships with teachers, peers, and parents on trajectories of different dimensions of school engagement from middle to high school and how these associations differed by gender and race or ethnicity. The sample consisted of \n",
       "<mark class=\"entity\" style=\"background: #fab1a0; padding: 0.45em 0.6em; margin: 0 0.25em; line-height: 1; border-radius: 0.35em;\">\n",
       "    1,479 students\n",
       "    <span style=\"font-size: 0.8em; font-weight: bold; line-height: 1; border-radius: 0.35em; vertical-align: middle; margin-left: 0.5rem\">SAMPLE_SIZE</span>\n",
       "</mark>\n",
       " (52% females, 56% African American). The average growth trajectories of school compliance, participation in extracurricular activities, school identification, and subjective valuing of learning decreased from 7th to 11th grades (mean ages = 12.9 years to 17.2 years). Different sources of social support were not equally important in their impact on school engagement, and the effect of these sources differed by the aspect of engagement studied. For instance, peer social support predicted adolescents' school compliance more strongly and school identification less strongly than teacher social support. This project was supported by a Pathway to Adulthood Fellowship to Ming-Te Wang and a grant from Spencer Foundation to both Ming-Te Wang and Jacquelynne S. Eccles.</div></span>"
      ],
      "text/plain": [
       "<IPython.core.display.HTML object>"
      ]
     },
     "metadata": {},
     "output_type": "display_data"
    },
    {
     "data": {
      "text/html": [
       "<span class=\"tex2jax_ignore\"><div class=\"entities\" style=\"line-height: 2.5; direction: ltr\">Introduction. -The contribution of the learning climate and attachment security to students' academic competence and anxiety symptoms during the middle school transition has not been examined. Objectives. -The main purpose of this prospective study was to examine the complementary contributions of these two contextual determinants. A second goal was to test the moderating effect of attachment security perceived by students in the relationship between the learning climate and both outcomes (academic competence, anxiety symptoms). Method and results. -Participants were \n",
       "<mark class=\"entity\" style=\"background: #fab1a0; padding: 0.45em 0.6em; margin: 0 0.25em; line-height: 1; border-radius: 0.35em;\">\n",
       "    627 students in Grade 6 (54% girls).\n",
       "    <span style=\"font-size: 0.8em; font-weight: bold; line-height: 1; border-radius: 0.35em; vertical-align: middle; margin-left: 0.5rem\">SAMPLE_SIZE</span>\n",
       "</mark>\n",
       " Latent structural modeling analysis revealed that a mastery climate predicted higher levels of perceived academic competence perceived in the first year of middle school, although attachment security to the mother in Grade 6 predicted perceived academic competence and anxiety symptoms in the first year of middle school. A moderating effect was found, in which greater attachment security to the mother appeared to lessen the relationship between a performance climate and anxiety symptoms during the middle school transition. Conclusion. -The results suggest that attachment security to the mother predicts perceived academic competence and anxiety symptoms during the middle school transition. Additionally, attachment security to the mother can moderate the potentially harmful effects of a learning climate emphasizing social comparison and performance on anxiety.</div></span>"
      ],
      "text/plain": [
       "<IPython.core.display.HTML object>"
      ]
     },
     "metadata": {},
     "output_type": "display_data"
    },
    {
     "data": {
      "text/html": [
       "<span class=\"tex2jax_ignore\"><div class=\"entities\" style=\"line-height: 2.5; direction: ltr\">Goal orientation theory was used to examine changes in student motivation during the transition from elementary to middle school. Surveys were given to \n",
       "<mark class=\"entity\" style=\"background: #fab1a0; padding: 0.45em 0.6em; margin: 0 0.25em; line-height: 1; border-radius: 0.35em;\">\n",
       "    341\n",
       "    <span style=\"font-size: 0.8em; font-weight: bold; line-height: 1; border-radius: 0.35em; vertical-align: middle; margin-left: 0.5rem\">SAMPLE_SIZE</span>\n",
       "</mark>\n",
       " students in the fifth grade in elementary and again in sixth grade in middle school. Students were more oriented to task goals (wanting to improve their competency), perceived a greater emphasis on task goals during instruction, and felt more academically competent in fifth grade in elementary school than in sixth grade in middle school. They perceived a greater emphasis on performance goals (an emphasis on relative ability and right answers) in middle school than in elementary school. Several interactions emerged between year (fifth grade, sixth grade), and both student level of ability (higher, lower, based on standardized achievement tests) and subject domain (math, English). ᭧ 1997Studies suggest that the transition to middle level schools is associated with a decline in motivation and performance for a number of children (see Eccles &amp; Midgley, 1989, for a review). The assumption is sometimes made that these declines are related to physiological and psychological changes associated with puberty and are inevitable. Eccles and Midgley (1989) challenged that assumption, demonstrating that differences in the classroom environment before and after the transition were related to declines in students' expectancies and values in mathematics (e.g., Midgley, Feldlaufer, &amp; Eccles, The research reported in this article was supported by grants from the US Department of Education (R215A00430, R117C80003). Special thanks for comments on earlier drafts of this article to</div></span>"
      ],
      "text/plain": [
       "<IPython.core.display.HTML object>"
      ]
     },
     "metadata": {},
     "output_type": "display_data"
    },
    {
     "data": {
      "text/html": [
       "<span class=\"tex2jax_ignore\"><div class=\"entities\" style=\"line-height: 2.5; direction: ltr\">In a five-year longitudinal study, we investigated the role of body objectification in shaping girls' self-esteem and depressive symptoms over the course of adolescence. Multivariate Latent Growth Curve Modeling (MLGM) was used to test the association between body objectification and both self-esteem and depressive symptoms with data from \n",
       "<mark class=\"entity\" style=\"background: #fab1a0; padding: 0.45em 0.6em; margin: 0 0.25em; line-height: 1; border-radius: 0.35em;\">\n",
       "    587\n",
       "    <span style=\"font-size: 0.8em; font-weight: bold; line-height: 1; border-radius: 0.35em; vertical-align: middle; margin-left: 0.5rem\">SAMPLE_SIZE</span>\n",
       "</mark>\n",
       " adolescent girls who began the study at age 13 and completed the study at age 18. Results revealed that body objectification decreased, self-esteem increased, and depressive symptoms remained relatively steady across adolescence. Girls who experienced decreases in body objectification also tended to increase in self-esteem and decrease in depressive symptoms over the course of adolescence, even after accounting for several factors known to be associated with positive youth development including race/ethnicity, socioeconomic status, educational achievement, religiosity, and body satisfaction. Practical implications for reducing objectification and enhancing girls' well-being through health, physical, and sexuality education, as well as through media literacy programs are discussed. Directions for future research are also discussed, including a greater focus on the role of race/ethnicity, research on boys, and the need for more experimental studies of body objectification.</div></span>"
      ],
      "text/plain": [
       "<IPython.core.display.HTML object>"
      ]
     },
     "metadata": {},
     "output_type": "display_data"
    },
    {
     "data": {
      "text/html": [
       "<span class=\"tex2jax_ignore\"><div class=\"entities\" style=\"line-height: 2.5; direction: ltr\">The authors examined the temporal stability of elementary school students' (\n",
       "<mark class=\"entity\" style=\"background: #fab1a0; padding: 0.45em 0.6em; margin: 0 0.25em; line-height: 1; border-radius: 0.35em;\">\n",
       "    N ϭ 432\n",
       "    <span style=\"font-size: 0.8em; font-weight: bold; line-height: 1; border-radius: 0.35em; vertical-align: middle; margin-left: 0.5rem\">SAMPLE_SIZE</span>\n",
       "</mark>\n",
       ") motivation goals (task-mastery, performance, and work-avoidant) for literacy activities in the classroom. Task-specific assessments of students' goals were collected in the fall and spring of Grades 3, 4, and 5. Stability coefficients indicated a reasonable degree of consistency in students' goal responses over time, even though goals were initially assessed in relation to a specific learning assignment. However, there were also significant mean-level changes in students' goals within the school year and significant linear declines in task-mastery and performance goals over time. Changes were consistent across gender groups and across ability levels. Additionally, changes in task-mastery goal ratings explained variations in students' reported use of active learning strategies in reading and writing activities. The important implications of this study for future research are discussed.</div></span>"
      ],
      "text/plain": [
       "<IPython.core.display.HTML object>"
      ]
     },
     "metadata": {},
     "output_type": "display_data"
    },
    {
     "data": {
      "text/html": [
       "<span class=\"tex2jax_ignore\"><div class=\"entities\" style=\"line-height: 2.5; direction: ltr\">This research examined changes in intrinsic and extrinsic motivation during the transition from junior to senior high school as well as the impact of motivational changes on various educational consequences (i.e., dropout intentions, absenteeism, homework frequency, and educational aspirations). A total of \n",
       "<mark class=\"entity\" style=\"background: #fab1a0; padding: 0.45em 0.6em; margin: 0 0.25em; line-height: 1; border-radius: 0.35em;\">\n",
       "    646\n",
       "    <span style=\"font-size: 0.8em; font-weight: bold; line-height: 1; border-radius: 0.35em; vertical-align: middle; margin-left: 0.5rem\">SAMPLE_SIZE</span>\n",
       "</mark>\n",
       " participants completed a questionnaire in 8th, 9th, and 10th grade. Using the true intraindividual change modeling technique (R. Steyer, I. Partchev, &amp; M. J. Shanahan, 2000), the authors reached results revealing that students' intrinsic motivation and extrinsic motivation decreased gradually from 8th to 10th grade. Furthermore, less educational adjustment was observed for students experiencing a decline in external regulation during the transitional year and students experiencing a decline in intrinsic motivation and identified regulation during the year after the transition.</div></span>"
      ],
      "text/plain": [
       "<IPython.core.display.HTML object>"
      ]
     },
     "metadata": {},
     "output_type": "display_data"
    },
    {
     "data": {
      "text/html": [
       "<span class=\"tex2jax_ignore\"><div class=\"entities\" style=\"line-height: 2.5; direction: ltr\">Using latent variable path analysis with partial least squares (LVPLS), the study examines the pathways between parenting practices and children's motivational orientation toward school work over the transition to middle school. Greater external control and lack of guidance by parents in the \n",
       "<mark class=\"entity\" style=\"background: #fab1a0; padding: 0.45em 0.6em; margin: 0 0.25em; line-height: 1; border-radius: 0.35em;\">\n",
       "    5th-grade year\n",
       "    <span style=\"font-size: 0.8em; font-weight: bold; line-height: 1; border-radius: 0.35em; vertical-align: middle; margin-left: 0.5rem\">SAMPLE_SIZE</span>\n",
       "</mark>\n",
       " were related to children's poorer academic achievement that year, which in turn predicted a more extrinsic motivational orientation in 7th grade. In contrast, greater parental autonomy-supporting behavior in the 5th-grade year was related to children's higher academic achievement that year, which in turn predicted a more intrinsic motivational orientation in 7th grade. In all instances, children's perceptions of their academic competence mediated the relation between 5th-grade academic performance and 7th-grade motivational orientation.</div></span>"
      ],
      "text/plain": [
       "<IPython.core.display.HTML object>"
      ]
     },
     "metadata": {},
     "output_type": "display_data"
    },
    {
     "data": {
      "text/html": [
       "<span class=\"tex2jax_ignore\"><div class=\"entities\" style=\"line-height: 2.5; direction: ltr\">Objective: Although optimism's beneficial role for various life areas is well documented, previous findings regarding its significance for students' achievement at school are inconclusive. This study examined the relation between optimism and academic achievement in early adolescents. It investigated the functional form of this relation, addressed whether the initial achievement level moderates this association, and compared this with effects on self-esteem. Method: We used a large German sample (\n",
       "<mark class=\"entity\" style=\"background: #fab1a0; padding: 0.45em 0.6em; margin: 0 0.25em; line-height: 1; border-radius: 0.35em;\">\n",
       "    N 5 6,010\n",
       "    <span style=\"font-size: 0.8em; font-weight: bold; line-height: 1; border-radius: 0.35em; vertical-align: middle; margin-left: 0.5rem\">SAMPLE_SIZE</span>\n",
       "</mark>\n",
       "; 53.2% females; baseline M age 5 14.1) with two measurement points over a period of 5 months (middle and end of 7th grade). Estimating LOESS curves and latent change-regression models revealed three main findings. Results: (a) Optimism showed a nonlinear association with subsequent changes in academic achievement: Optimism promoted academic achievement, but this positive association reached a plateau in above-average optimism ranges and a minimum value in below-average ranges of optimism. (b) The achievement level at t 1 moderated this relation so that high optimism exerted a more positive effect for high-achieving adolescents. (c) By contrast, optimism had an overall positive effect on self-esteem.The results therefore broaden the evidence on benefits of optimism by linking optimism to academic success in early adolescents but indicate only small and nonlinear associations.</div></span>"
      ],
      "text/plain": [
       "<IPython.core.display.HTML object>"
      ]
     },
     "metadata": {},
     "output_type": "display_data"
    },
    {
     "data": {
      "text/html": [
       "<span class=\"tex2jax_ignore\"><div class=\"entities\" style=\"line-height: 2.5; direction: ltr\">Finding ways to enhance the effectiveness of student learning is of perennial interest to researchers and practitioners alike. One approach to these issues has been to examine the relations between motivation and cognition over time. In addition, it is likely that students perceptions of the classroom context may play a role in facilitating effective learning. The current study examines these issues from a goal orientation theory perspective using a sample of middle school students (\n",
       "<mark class=\"entity\" style=\"background: #fab1a0; padding: 0.45em 0.6em; margin: 0 0.25em; line-height: 1; border-radius: 0.35em;\">\n",
       "    n = 306\n",
       "    <span style=\"font-size: 0.8em; font-weight: bold; line-height: 1; border-radius: 0.35em; vertical-align: middle; margin-left: 0.5rem\">SAMPLE_SIZE</span>\n",
       "</mark>\n",
       "). Data on students' personal motivational beliefs and cognitive strategy use as well as perceptions of the classroom goal structures were gathered using surveys. A longitudinal design was used to examine the research questions. Results suggest that motivation and cognition are reciprocally related over time. In addition, perceptions of classroom context were found to have an explanatory effect over and above the variance explained by prior measures of motivation and cognition. The implications for this work include the notion that student motivation can be enhanced through instruction in cognitive strategy use as well as through alteration of classroom goal structures so that there is a stronger emphasis on tasks and learning rather than on grades or external recognition. A key issue for teachers, parents and administrators alike involves the role of student motivation in the learning process. Most often, we believe that students must</div></span>"
      ],
      "text/plain": [
       "<IPython.core.display.HTML object>"
      ]
     },
     "metadata": {},
     "output_type": "display_data"
    },
    {
     "data": {
      "text/html": [
       "<span class=\"tex2jax_ignore\"><div class=\"entities\" style=\"line-height: 2.5; direction: ltr\">This study extends previous research on the long-term connections between motivation constructs in expectancy-value theory and achievement outcomes. Using growth mixture modelling, we examined trajectories of change for \n",
       "<mark class=\"entity\" style=\"background: #fab1a0; padding: 0.45em 0.6em; margin: 0 0.25em; line-height: 1; border-radius: 0.35em;\">\n",
       "    421\n",
       "    <span style=\"font-size: 0.8em; font-weight: bold; line-height: 1; border-radius: 0.35em; vertical-align: middle; margin-left: 0.5rem\">SAMPLE_SIZE</span>\n",
       "</mark>\n",
       " students from 4th grade through college in their self-concept of ability (SCA) in math, interest in math, and perceived importance of math. We also assessed how these trajectories relate to choice of college major, focusing on math-intensive and non-intensive majors. Gender, parental income, and initial achievement were included as covariates in the analyses. A 3-class solution best represented underlying trajectories of change for each of the 3 constructs. A latent class relatively high in math self-concept, interest, and importance emerged for each construct respectively, and individuals in these high classes were most likely to choose a math-intensive college major. Interpretations and implications of the trajectories of change and their influence on college major classification are discussed.</div></span>"
      ],
      "text/plain": [
       "<IPython.core.display.HTML object>"
      ]
     },
     "metadata": {},
     "output_type": "display_data"
    },
    {
     "data": {
      "text/html": [
       "<span class=\"tex2jax_ignore\"><div class=\"entities\" style=\"line-height: 2.5; direction: ltr\">This study examined the effects of change in teacher goal emphases on students' efficacy beliefs in mathematics across the transition to middle school. The sample (\n",
       "<mark class=\"entity\" style=\"background: #fab1a0; padding: 0.45em 0.6em; margin: 0 0.25em; line-height: 1; border-radius: 0.35em;\">\n",
       "    N ϭ 929\n",
       "    <span style=\"font-size: 0.8em; font-weight: bold; line-height: 1; border-radius: 0.35em; vertical-align: middle; margin-left: 0.5rem\">SAMPLE_SIZE</span>\n",
       "</mark>\n",
       ") included primarily White (65%) and Black (27%) students, and approximately one third received free or reduced-fee lunch. Analyses grouped children by cross-classification of teachers (N ϭ 53 elementary and N ϭ 34 middle school teachers). On average, students' efficacy beliefs remained stable and relatively high across the transition. Compared with their elementary school teacher, children reported declines in both perceived teacher mastery and performance goal emphases in middle school. A cross-classified hierarchical linear model was used to estimate the effects of perceived teacher and parent goal emphases during 6th and 7th grades on changes in students' efficacy beliefs. An increase in self-efficacy beliefs from elementary to middle school was predicted by an increase in group-level perceptions of teachers' mastery goal emphasis, even after controlling for parents' goal emphases. These findings underscore the important role that both teachers' and parents' goal emphases play as children develop a sense of efficacy in mathematics.</div></span>"
      ],
      "text/plain": [
       "<IPython.core.display.HTML object>"
      ]
     },
     "metadata": {},
     "output_type": "display_data"
    },
    {
     "data": {
      "text/html": [
       "<span class=\"tex2jax_ignore\"><div class=\"entities\" style=\"line-height: 2.5; direction: ltr\">This study examined how interest and importance values concerning mathematics and literacy develop from grade 7 to grade 9 in comprehensive school and to what extent gender, in addition to mothers' and fathers' beliefs about the abilities of individual children, predicts the level of and changes in these values. A total of \n",
       "<mark class=\"entity\" style=\"background: #fab1a0; padding: 0.45em 0.6em; margin: 0 0.25em; line-height: 1; border-radius: 0.35em;\">\n",
       "    206\n",
       "    <span style=\"font-size: 0.8em; font-weight: bold; line-height: 1; border-radius: 0.35em; vertical-align: middle; margin-left: 0.5rem\">SAMPLE_SIZE</span>\n",
       "</mark>\n",
       " Finnish students (100 girls, 106 boys) were followed from grade 7 to grade 9, just before an important transition from compulsory comprehensive school to secondary education occurs in the Finnish context. Students' parents participated in the study when the students were in grade 7. The results of multivariate latent change models showed that interest and importance values and their development in one particular subject were associated with one another. Mothers' and fathers' beliefs seemed to play a different role in relation to task values, and this role also varied according to the subject: mothers' ability beliefs predicted the students' level of interest in mathematics and evaluation of the importance of literacy. However, fathers' ability beliefs were found to predict the changes related to interest and importance values in mathematics. The role of gender in students' values was more evident in the case of literacy than in mathematics.</div></span>"
      ],
      "text/plain": [
       "<IPython.core.display.HTML object>"
      ]
     },
     "metadata": {},
     "output_type": "display_data"
    },
    {
     "data": {
      "text/html": [
       "<span class=\"tex2jax_ignore\"><div class=\"entities\" style=\"line-height: 2.5; direction: ltr\">This study examined the longitudinal relations among math-related interest, performance goals, and math skills in different ability groups. The participants were \n",
       "<mark class=\"entity\" style=\"background: #fab1a0; padding: 0.45em 0.6em; margin: 0 0.25em; line-height: 1; border-radius: 0.35em;\">\n",
       "    790\n",
       "    <span style=\"font-size: 0.8em; font-weight: bold; line-height: 1; border-radius: 0.35em; vertical-align: middle; margin-left: 0.5rem\">SAMPLE_SIZE</span>\n",
       "</mark>\n",
       " Estonian children who were assessed at Grade 2 and Grade 3. The results of SEM analysis showed that previous math skills predicted positively math interest and negatively performance-avoidance goals at Grade 3. Also, Grade 2 performance-avoidance goals were negatively related to subsequent interest towards math. Comparing low-ability students with other students indicated that Grade 3 interest was positively predicted by previous skills, and negatively by performance-approach and -avoidance goals specifically in low-ability group. The results have a practical value, emphasizing the crucial role of mathrelated skills and goals in the development of young students' interest and goals in math and indicating that relations among interest, goals, and skills in math may be stronger for low-ability students.</div></span>"
      ],
      "text/plain": [
       "<IPython.core.display.HTML object>"
      ]
     },
     "metadata": {},
     "output_type": "display_data"
    },
    {
     "data": {
      "text/html": [
       "<span class=\"tex2jax_ignore\"><div class=\"entities\" style=\"line-height: 2.5; direction: ltr\">The current 6-year study investigates the impact of the elementary (K-8)-tohigh school (9-12) transition on the school completion outcomes of \n",
       "<mark class=\"entity\" style=\"background: #fab1a0; padding: 0.45em 0.6em; margin: 0 0.25em; line-height: 1; border-radius: 0.35em;\">\n",
       "    107\n",
       "    <span style=\"font-size: 0.8em; font-weight: bold; line-height: 1; border-radius: 0.35em; vertical-align: middle; margin-left: 0.5rem\">SAMPLE_SIZE</span>\n",
       "</mark>\n",
       " adolescents from urban, minority, low-income status backgrounds. Descriptive findings provide a longitudinal profile of students' enrollment status throughout high school. Students who had graduated or were Active in the school system at the end of the study evidenced more marked change in perceptions of social support following the transition to the ninth grade compared to Inactive students, dropouts, who evidenced little change. With respect to academic performance, while both groups evidenced declines following the transition and failed to recover sustained losses, Inactive students declined more sharply in grades and attendance. Findings are discussed in terms of the mixed support for the transitional life events perspective. In addition, study limitations and directions for future research are discussed, including variables that should be considered in research with the targeted group.</div></span>"
      ],
      "text/plain": [
       "<IPython.core.display.HTML object>"
      ]
     },
     "metadata": {},
     "output_type": "display_data"
    },
    {
     "data": {
      "text/html": [
       "<span class=\"tex2jax_ignore\"><div class=\"entities\" style=\"line-height: 2.5; direction: ltr\">Students' cognitive and motivational profiles have a large impact on their academic careers. The development of such profiles can partly be explained by the reciprocal internal/external frame of reference model (RI/E model). The RI/E model predicts positive and negative longitudinal effects between academic self-concepts and achievements within and across 2 academic domains (i.e., the mathematics and verbal domains). In the present study, we replicated the RI/E model in \n",
       "<mark class=\"entity\" style=\"background: #fab1a0; padding: 0.45em 0.6em; margin: 0 0.25em; line-height: 1; border-radius: 0.35em;\">\n",
       "    2\n",
       "    <span style=\"font-size: 0.8em; font-weight: bold; line-height: 1; border-radius: 0.35em; vertical-align: middle; margin-left: 0.5rem\">SAMPLE_SIZE</span>\n",
       "</mark>\n",
       " samples and extended it by simultaneously investigating the longitudinal associations of academic self-concepts and achievements in 3 academic domains (i.e., mathematics, German as a native language, English as a foreign language). We examined 2 domains across 4 measurement occasions in 2 independent student samples who were in Grades 5-8 (Study 1: N ϭ 1,529) or Grades 5-7 (Study 2: N ϭ 639). In a 3rd study, we examined a subsample of the 2nd sample (N ϭ 465) in 3 domains. Results demonstrated support for the RI/E model for 2 as well as 3 academic domains. We found positive reciprocal effects of academic self-concepts and achievements within a domain, positive reciprocal effects between achievements across domains, negative effects of achievements on subsequent cross-domain self-concepts, negative effects of academic self-concepts on subsequent cross-domain achievements, and some support for negative effects of academic self-concepts on subsequent cross-domain self-concepts. Furthermore, we found that RI/E model effects were of comparable size across time. To conclude, the RI/E model provides significant insights into the development of distinct motivational and cognitive profiles and, thus, of becoming either a math or verbal person. Implications for research and educational practice are discussed.</div></span>"
      ],
      "text/plain": [
       "<IPython.core.display.HTML object>"
      ]
     },
     "metadata": {},
     "output_type": "display_data"
    },
    {
     "data": {
      "text/html": [
       "<span class=\"tex2jax_ignore\"><div class=\"entities\" style=\"line-height: 2.5; direction: ltr\">This longitudinal study examined how school belonging changes over the years of high school, and how it is associated with academic achievement and motivation. Students from Latin American, Asian, and European backgrounds participated (\n",
       "<mark class=\"entity\" style=\"background: #fab1a0; padding: 0.45em 0.6em; margin: 0 0.25em; line-height: 1; border-radius: 0.35em;\">\n",
       "    N = 572\n",
       "    <span style=\"font-size: 0.8em; font-weight: bold; line-height: 1; border-radius: 0.35em; vertical-align: middle; margin-left: 0.5rem\">SAMPLE_SIZE</span>\n",
       "</mark>\n",
       "; age span = 13.94-19.15 years). In ninth grade, girls' school belonging was higher than boys'. Over the course of high school, however, girls' school belonging declined, whereas boys' remained stable. Within-person longitudinal analyses indicated that years in which students had higher school belonging were also years in which they felt that school was more enjoyable and more useful, above and beyond their actual level of achievement. Results highlight the importance of belonging for maintaining students' academic engagement during the teenage years.</div></span>"
      ],
      "text/plain": [
       "<IPython.core.display.HTML object>"
      ]
     },
     "metadata": {},
     "output_type": "display_data"
    },
    {
     "data": {
      "text/html": [
       "<span class=\"tex2jax_ignore\"><div class=\"entities\" style=\"line-height: 2.5; direction: ltr\">We examined the stability of responses to a \n",
       "<mark class=\"entity\" style=\"background: #fab1a0; padding: 0.45em 0.6em; margin: 0 0.25em; line-height: 1; border-radius: 0.35em;\">\n",
       "    multi-item self-esteem scale\n",
       "    <span style=\"font-size: 0.8em; font-weight: bold; line-height: 1; border-radius: 0.35em; vertical-align: middle; margin-left: 0.5rem\">SAMPLE_SIZE</span>\n",
       "</mark>\n",
       " collected on five occasions over an 8-year period. A wide variety of approaches were critically examined that considered the stability of means, individual differences (i.e., test-retest correlations), and factor structures using traditional approaches (e.g., ANOVA and correlations) and structural equation models. Structural equation models based on multiple indicators provided a unified analytic approach for evaluating different aspects of stability and offered important advantages over traditional approaches. We describe a hierarchy of invariances and the nature of interpretations that are justified by different patterns of factor structure invariance associated with each level. We conclude that the assumptions underlying the typical repeated-measures ANOVA approach to testing mean differences in longitudinal data are far more restrictive, less easily tested, and less likely to be met than those in the structural equation modeling approach advocated here, and that the use of ANOVA for this purpose requires a huge leap of faith that can rarely be justified on logical or empirical grounds. This investigation is a methodological demonstration of different approaches to evaluating stability in longitudinal, multiwave panel studies. We demonstrate these approaches in relation to substantively important issues in Requests for reprints should be sent to</div></span>"
      ],
      "text/plain": [
       "<IPython.core.display.HTML object>"
      ]
     },
     "metadata": {},
     "output_type": "display_data"
    },
    {
     "data": {
      "text/html": [
       "<span class=\"tex2jax_ignore\"><div class=\"entities\" style=\"line-height: 2.5; direction: ltr\">Little is known about the changes in self-perceptions over the course of middle childhood, despite this being a crucial period for the development of the self. This study examined stability and change in children's self-competence and self-esteem in a two-wave longitudinal study of primary school children. The in uence of psychosocial factors, gender, religion/ethnicity and socio-economic status (SES), on the development of self-perceptions was also examined. A sample of \n",
       "<mark class=\"entity\" style=\"background: #fab1a0; padding: 0.45em 0.6em; margin: 0 0.25em; line-height: 1; border-radius: 0.35em;\">\n",
       "    110\n",
       "    <span style=\"font-size: 0.8em; font-weight: bold; line-height: 1; border-radius: 0.35em; vertical-align: middle; margin-left: 0.5rem\">SAMPLE_SIZE</span>\n",
       "</mark>\n",
       " children completed the Harter Self Perception Pro le for Children at age 8 and age 11. Analysis of these data indicated considerable stability in children's perceptions of themselves. At age 11, a greater variety of domain-speci c self-perceptions was predictive of global self-esteem, suggesting a more complex view of the self. Additionally, between-group differences suggested that girls' global and athletic competence, as well as their con dence in their physical appearance, decreased over time. Further, children from lower socio-economic backgrounds and those from the minority community in Northern Ireland (Roman Catholics) displayed less positive self-perceptions in a number of life domains at both age 11 and age 8. Discussion of these results highlights the in uence of societal factors on children's social development and the need to consider the combined effects of psychosocial identities and socio-economic background on the development of the self.</div></span>"
      ],
      "text/plain": [
       "<IPython.core.display.HTML object>"
      ]
     },
     "metadata": {},
     "output_type": "display_data"
    },
    {
     "data": {
      "text/html": [
       "<span class=\"tex2jax_ignore\"><div class=\"entities\" style=\"line-height: 2.5; direction: ltr\">This study investigated whether adolescents' appraisals of their education-related goals change during the transition from comprehensive school to postcomprehensive secondary education (academic vs. vocational track) and how such appraisals contribute to their selfesteem. \n",
       "<mark class=\"entity\" style=\"background: #fab1a0; padding: 0.45em 0.6em; margin: 0 0.25em; line-height: 1; border-radius: 0.35em;\">\n",
       "    Six hundred and seven\n",
       "    <span style=\"font-size: 0.8em; font-weight: bold; line-height: 1; border-radius: 0.35em; vertical-align: middle; margin-left: 0.5rem\">SAMPLE_SIZE</span>\n",
       "</mark>\n",
       " 16-year-old adolescents were surveyed three times: (1) at the beginning, (2) at the end of the final spring term of comprehensive school, and (3) one year after the transition to postcomprehensive secondary education. They were asked to appraise their education-related goal in terms of intrinsic and extrinsic reasons for goal striving, goal progress, effort, and stress. The results showed that, when adolescents ended up in a mode of education that was congruent with their skills, their intrinsic reasons for goal strivings and goal progress increased. Moreover, progress towards goal attainment contributed to self-esteem, and self-esteem also predicted goal progress. Furthermore, the higher the self-esteem in comprehensive school, the lower the level of extrinsic reasons for goal striving after the transition.</div></span>"
      ],
      "text/plain": [
       "<IPython.core.display.HTML object>"
      ]
     },
     "metadata": {},
     "output_type": "display_data"
    },
    {
     "data": {
      "text/html": [
       "<span class=\"tex2jax_ignore\"><div class=\"entities\" style=\"line-height: 2.5; direction: ltr\">The present study examined the patterns of individual adjustment changes in a sample of \n",
       "<mark class=\"entity\" style=\"background: #fab1a0; padding: 0.45em 0.6em; margin: 0 0.25em; line-height: 1; border-radius: 0.35em;\">\n",
       "    99\n",
       "    <span style=\"font-size: 0.8em; font-weight: bold; line-height: 1; border-radius: 0.35em; vertical-align: middle; margin-left: 0.5rem\">SAMPLE_SIZE</span>\n",
       "</mark>\n",
       " early adolescents during an ecological transition from elementary school to middle school. Early adolescents in the sample showed significant changes in their adjustment following the transition, as indicated by their increased psychological distress or decreased academic achievement following the transition. Gender differences were found in adjustment changes over time, suggesting that boys and girls may be differentially affected by middle school transition. Different patterns of adjustment changes were explored by means of cluster analysis on the basis of psychological distress scores before and after the transition. Three distinct patterns were identified across genders, including (a) an average start but increasing to high pattern, (b) an initial low but increasing to moderately high pattern, and (c) a pattern of consistently high scores over time. The results are discussed in terms of individual differences among early adolescents in their adjustment to middle school transition. Implications for research and practice in school psychology also are elaborated.</div></span>"
      ],
      "text/plain": [
       "<IPython.core.display.HTML object>"
      ]
     },
     "metadata": {},
     "output_type": "display_data"
    },
    {
     "data": {
      "text/html": [
       "<span class=\"tex2jax_ignore\"><div class=\"entities\" style=\"line-height: 2.5; direction: ltr\">The two purposes of this research were to develop and validate latent growth curve model between academic self-concept, nonacademic self-concept, and academic achievement and to test invariance of model form and parameters in the model between boy and girl groups of students. The research samples were \n",
       "<mark class=\"entity\" style=\"background: #fab1a0; padding: 0.45em 0.6em; margin: 0 0.25em; line-height: 1; border-radius: 0.35em;\">\n",
       "    820 nine-grade students\n",
       "    <span style=\"font-size: 0.8em; font-weight: bold; line-height: 1; border-radius: 0.35em; vertical-align: middle; margin-left: 0.5rem\">SAMPLE_SIZE</span>\n",
       "</mark>\n",
       ". The research instruments consisted of Self-descriptive Questionnaire and The student academic achievement tests in Mathematics, English, Science, and Thai Language. The data analysis were employed descriptive statistics, multiple correlation, MANOVA repeated measures, multivariate latent growth curve analysis, and multiple group analysis. The research results revealed the model between academic self-concept, nonacademic self-concept, and academic achievement was good fit with the empirical data with goodness of fit statistics of χ 2 =25.240, df=24, p=0.393, RMSEA=0.008, CFI=1.000, RMR=0.031, GFI=0.994, and AGFI=0.989 and the model was invariance in form and variance only in parameter of the observe variable error correlation matrix.</div></span>"
      ],
      "text/plain": [
       "<IPython.core.display.HTML object>"
      ]
     },
     "metadata": {},
     "output_type": "display_data"
    },
    {
     "data": {
      "text/html": [
       "<span class=\"tex2jax_ignore\"><div class=\"entities\" style=\"line-height: 2.5; direction: ltr\">This longitudinal study of adolescents in the first year of secondary school, examined the relationship between psychological functioning at the beginning of year 7 (\n",
       "<mark class=\"entity\" style=\"background: #fab1a0; padding: 0.45em 0.6em; margin: 0 0.25em; line-height: 1; border-radius: 0.35em;\">\n",
       "    mean age 11.25 years\n",
       "    <span style=\"font-size: 0.8em; font-weight: bold; line-height: 1; border-radius: 0.35em; vertical-align: middle; margin-left: 0.5rem\">SAMPLE_SIZE</span>\n",
       "</mark>\n",
       ") with attainment at the end of year 7 (mean age 11.78 years). Depressive symptoms, school liking and conduct problems predicted lower attainment across time having controlled for the temporal stability in psychological functioning and attainment. School concerns predicted lower attainment for boys only, and the effects of depressive symptoms on later attainment were significantly stronger for boys compared to girls. School liking -and school concerns for boys -remained significant predictors of attainment when controlling for conduct problems. The transition to secondary school may represent a window of opportunity for developing interventions aimed at improving both pupil psychological functioning and attainment.Periods of transition are often stressful and can influence short and long-term psychological functioning (West, Sweeting, &amp; Young, 2008). The World Bank World Development Report (2007) identifies the transition from primary or elementary to secondary or middle/junior high school as one of five transitions related to positive health outcomes for young people. This transition involves simultaneous changes in school environments, social interactions and academic expectations and involves a degree of anxiety for most pupils (Rice, Frederickson &amp; Seymour, 2011). This transition usually occurs at the age of 11 years and coincides with other biological and social changes associated with the transition from childhood to adolescence. The primary-secondary transition can negatively affect pupils' adjustment in a number of ways, as shown by lower grades, low attendance, increased anxiety and conduct</div></span>"
      ],
      "text/plain": [
       "<IPython.core.display.HTML object>"
      ]
     },
     "metadata": {},
     "output_type": "display_data"
    },
    {
     "data": {
      "text/html": [
       "<span class=\"tex2jax_ignore\"><div class=\"entities\" style=\"line-height: 2.5; direction: ltr\">This research examined motivational trajectories during early adolescence in the United States and China. Upon their entry into middle school at 7th grade and every 6 months thereafter until the end of 8th grade, \n",
       "<mark class=\"entity\" style=\"background: #fab1a0; padding: 0.45em 0.6em; margin: 0 0.25em; line-height: 1; border-radius: 0.35em;\">\n",
       "    825 American and Chinese children (mean age = 12.73 years\n",
       "    <span style=\"font-size: 0.8em; font-weight: bold; line-height: 1; border-radius: 0.35em; vertical-align: middle; margin-left: 0.5rem\">SAMPLE_SIZE</span>\n",
       "</mark>\n",
       ") reported on their motivational beliefs (e.g., mastery orientation) and behavior (e.g., self-regulated learning strategies). The quality of children's motivational beliefs deteriorated over the 7th and 8th grades (e.g., children became less mastery oriented) in both the United States and China. American children also valued academics less, with declines in their motivational behavior as well. Chinese children continued to value academics, sustaining their motivational behavior. In both countries, children's motivational beliefs and behavior predicted their grades over time. This research was supported by National Institute of Mental Health Grant R01 MH57505. We are grateful to the children who participated in this research. We thank Huichang Chen, Scott Litwack, Molly McDonald, and Haimei Wang for their help in collecting and managing the data. We also thank Serena Sungok Shim for her advice on data analyses. We appreciate the constructive comments on an earlier version of this article provided by Allison Ryan and members of the Center for Parent-Child Studies at</div></span>"
      ],
      "text/plain": [
       "<IPython.core.display.HTML object>"
      ]
     },
     "metadata": {},
     "output_type": "display_data"
    },
    {
     "data": {
      "text/html": [
       "<span class=\"tex2jax_ignore\"><div class=\"entities\" style=\"line-height: 2.5; direction: ltr\">This study addresses the longitudinal associations between youths' out-of-school activities, expectancies-values, and high school course enrollment in the domains of math and science. Data were collected on \n",
       "<mark class=\"entity\" style=\"background: #fab1a0; padding: 0.45em 0.6em; margin: 0 0.25em; line-height: 1; border-radius: 0.35em;\">\n",
       "    227\n",
       "    <span style=\"font-size: 0.8em; font-weight: bold; line-height: 1; border-radius: 0.35em; vertical-align: middle; margin-left: 0.5rem\">SAMPLE_SIZE</span>\n",
       "</mark>\n",
       " youth who reported on their activity participation in 5th grade, expectancies-values in 6th and 10th grade, and courses taken throughout high school. Math and science course grades at 5th and 10th grade were gathered through school record data. Results indicated youths' math and science activity participation predicted their expectancies and values, which, in turn, predicted the number of high school courses above the predictive power of grades. Although there were mean-level differences between boys and girls on some of these indicators, relations among indicators did not significantly differ by gender.</div></span>"
      ],
      "text/plain": [
       "<IPython.core.display.HTML object>"
      ]
     },
     "metadata": {},
     "output_type": "display_data"
    },
    {
     "data": {
      "text/html": [
       "<span class=\"tex2jax_ignore\"><div class=\"entities\" style=\"line-height: 2.5; direction: ltr\">Recent research shows an increased concern with well-being at school and potential problems associated with students' use of socio-digital technologies, i.e., the mobile devices, computers, social media, and the Internet. Simultaneously with supporting creative social activities, socio-digital participation may also lead to compulsive and addictive behavioral patterns affecting both general and school-related mental health problems. Using two longitudinal data waves gathered among \n",
       "<mark class=\"entity\" style=\"background: #fab1a0; padding: 0.45em 0.6em; margin: 0 0.25em; line-height: 1; border-radius: 0.35em;\">\n",
       "    1702 (53 % female)\n",
       "    <span style=\"font-size: 0.8em; font-weight: bold; line-height: 1; border-radius: 0.35em; vertical-align: middle; margin-left: 0.5rem\">SAMPLE_SIZE</span>\n",
       "</mark>\n",
       " early (age 12-14) and 1636 (64 % female) late (age 16-18) Finnish adolescents, we examined crosslagged paths between excessive internet use, school engagement and burnout, and depressive symptoms. Structural equation modeling revealed reciprocal crosslagged paths between excessive internet use and school burnout among both adolescent groups: school burnout predicted later excessive internet use and excessive internet use predicted later school burnout. Reciprocal paths between school burnout and depressive symptoms were also found. Girls typically suffered more than boys from depressive symptoms and, in late adolescence, school burnout. Boys, in turn, more typically suffered from excessive internet use. These results show that, among adolescents, excessive internet use can be a cause of school burnout that can later spill over to depressive symptoms.</div></span>"
      ],
      "text/plain": [
       "<IPython.core.display.HTML object>"
      ]
     },
     "metadata": {},
     "output_type": "display_data"
    },
    {
     "data": {
      "text/html": [
       "<span class=\"tex2jax_ignore\"><div class=\"entities\" style=\"line-height: 2.5; direction: ltr\">Based on data from a 17-year longitudinal study of \n",
       "<mark class=\"entity\" style=\"background: #fab1a0; padding: 0.45em 0.6em; margin: 0 0.25em; line-height: 1; border-radius: 0.35em;\">\n",
       "    1083 adolescents\n",
       "    <span style=\"font-size: 0.8em; font-weight: bold; line-height: 1; border-radius: 0.35em; vertical-align: middle; margin-left: 0.5rem\">SAMPLE_SIZE</span>\n",
       "</mark>\n",
       ", from the ages of 13 to 30 years, the average development of self-reported global self-esteem was found to be high and stable during adolescence. However, there is considerable inter-individual variance in baseline and development of global self-esteem. This study used latent growth mixture modelling to characterize three trajectory classes of global self esteem between ages 14 and 23 years: consistently high, chronically low, and U-shaped. The respondents in three classes showed statistically significant different levels of life satisfaction, depressive mood, somatic complaints and insomnia at age 30. Attempts to predict trajectories from age 13 were only partially successful, with body image, relations with parents and frequency of physical activity as the significant predictors.</div></span>"
      ],
      "text/plain": [
       "<IPython.core.display.HTML object>"
      ]
     },
     "metadata": {},
     "output_type": "display_data"
    },
    {
     "data": {
      "text/html": [
       "<span class=\"tex2jax_ignore\"><div class=\"entities\" style=\"line-height: 2.5; direction: ltr\">We examined (a) the relative importance of perceived social support from parents, peers, and teachers; (b) the consequences associated with different types of perceived social support; and (c) the mediation by achievement goals in the relationship between perceived social support and academic outcomes. We analyzed the first \n",
       "<mark class=\"entity\" style=\"background: #fab1a0; padding: 0.45em 0.6em; margin: 0 0.25em; line-height: 1; border-radius: 0.35em;\">\n",
       "    3\n",
       "    <span style=\"font-size: 0.8em; font-weight: bold; line-height: 1; border-radius: 0.35em; vertical-align: middle; margin-left: 0.5rem\">SAMPLE_SIZE</span>\n",
       "</mark>\n",
       " waves of the Korean Educational Longitudinal Study 2005 data (Y. Kim et al., 2007), which followed students from Grade 7 to Grade 9 in middle school. Compared with the other 2 social agent groups, support from parents predicted the widest variety of adolescent motivation and achievement indexes. Parental emotional support was most beneficial, predicting stronger mastery goals, weaker performance-avoidance goals, lower test anxiety, and higher academic achievement than any other type of support. Parental academic support functioned as a double-edged sword, predicting not only stronger mastery goals but also stronger performance-approach goals, stronger performance-avoidance goals, and higher test anxiety. Achievement pressure from teachers had the same predictive relationships but was weaker in strength. Perceived emotional support from teachers was not as effective as that from parents in predicting adolescent motivation achievement; however, perceived academic support from teachers was helpful for adolescents in predicting stronger mastery goals. Support from peers worked as a buffer against maladaptive motivation, predicting weaker performance-avoidance goals and lower test anxiety. Mastery goals mediated the relationship between social support and academic achievement, whereas performance-approach goals and performance-avoidance goals mediated the relationship between social support and test anxiety. The same patterns emerged consistently for all 3 years at middle school.</div></span>"
      ],
      "text/plain": [
       "<IPython.core.display.HTML object>"
      ]
     },
     "metadata": {},
     "output_type": "display_data"
    },
    {
     "data": {
      "text/html": [
       "<span class=\"tex2jax_ignore\"><div class=\"entities\" style=\"line-height: 2.5; direction: ltr\">This study examined the independent and combined influence of demographic variables (gender and ethnicity) and contextual variables (perceived family and friend support, and school climate) on changes in psychological adjustment (self-esteem and depressive symptoms) over a 2-year period. The sample included \n",
       "<mark class=\"entity\" style=\"background: #fab1a0; padding: 0.45em 0.6em; margin: 0 0.25em; line-height: 1; border-radius: 0.35em;\">\n",
       "    100 Black, Latino, and Asian American adolescents from low-income families\n",
       "    <span style=\"font-size: 0.8em; font-weight: bold; line-height: 1; border-radius: 0.35em; vertical-align: middle; margin-left: 0.5rem\">SAMPLE_SIZE</span>\n",
       "</mark>\n",
       ". Hierarchical regression analyses indicated that the increase over time in reported levels of self-esteem was significantly greater for those who reported more positive perceptions of school climate at Time 1. Unexpectedly, the increase in self-esteem and the decrease in depressive symptoms over time were also significantly greater for those who reported lower family support at Time 1. Post hoc analyses were conducted to better understand the patterns detected. Findings underscore the importance of positive school experiences for students' psychological well-being and the need to examine the meaning of family support.</div></span>"
      ],
      "text/plain": [
       "<IPython.core.display.HTML object>"
      ]
     },
     "metadata": {},
     "output_type": "display_data"
    },
    {
     "data": {
      "text/html": [
       "<span class=\"tex2jax_ignore\"><div class=\"entities\" style=\"line-height: 2.5; direction: ltr\">Gender differences in the development of children's and adolescents' academic self-perceptions have received increasing attention in recent years. This study extends previous research by examining the development of mathematics self-concept across grades 7-12 in three cultural settings: Australia (Sydney; \n",
       "<mark class=\"entity\" style=\"background: #fab1a0; padding: 0.45em 0.6em; margin: 0 0.25em; line-height: 1; border-radius: 0.35em;\">\n",
       "    N 5 1,333\n",
       "    <span style=\"font-size: 0.8em; font-weight: bold; line-height: 1; border-radius: 0.35em; vertical-align: middle; margin-left: 0.5rem\">SAMPLE_SIZE</span>\n",
       "</mark>\n",
       "), the United States (Michigan; N 5 2,443), and Germany (four federal states; N 5 4,688). Results of latent growth curve models document very similar patterns of self-concept development in males and females in the three settings. First, gender differences in favor of boys were observed at the beginning of the observation period (grade 7). Second, gender was not significantly related to self-concept change in either group, meaning that initial differences persisted across time. Third, the results provided no evidence that the form of the longitudinal change trajectories for mathematics self-concept differed across the cultural settings. This pattern of results is inconsistent with explanatory models that predict converging or diverging gender differences in mathematics self-concept. Furthermore, the results indicate that self-concept development may be highly similar across western cultural settings.</div></span>"
      ],
      "text/plain": [
       "<IPython.core.display.HTML object>"
      ]
     },
     "metadata": {},
     "output_type": "display_data"
    },
    {
     "data": {
      "text/html": [
       "<span class=\"tex2jax_ignore\"><div class=\"entities\" style=\"line-height: 2.5; direction: ltr\">Although activity involvement has been linked to positive youth development, the value that adolescents place on these activities (i.e., how much they enjoy the activities, find them important, and spend time on them) has received less attention. The purpose of the present study was to examine the bidirectional longitudinal association between engagement in valued activities and adolescent positive adjustment (optimism, purpose in life, and self-esteem), as well as investigate a possible underlying mechanism for this link. High school students (N = \n",
       "<mark class=\"entity\" style=\"background: #fab1a0; padding: 0.45em 0.6em; margin: 0 0.25em; line-height: 1; border-radius: 0.35em;\">\n",
       "    2,270, 48.7 % female\n",
       "    <span style=\"font-size: 0.8em; font-weight: bold; line-height: 1; border-radius: 0.35em; vertical-align: middle; margin-left: 0.5rem\">SAMPLE_SIZE</span>\n",
       "</mark>\n",
       ") from Ontario, Canada completed questionnaires annually in grades 10, 11, and 12. Auto-regressive cross-lagged path analyses were conducted over time, controlling for gender, parental education, and academic grades. Greater engagement in valued activities predicted higher optimism, purpose, and self-esteem over time. Importantly, the results did not support an alternate hypothesis of selection effects, in that adolescents who were better adjusted were not more likely than their peers to engage in valued activities over time. We also found that the longitudinal associations between valued activities and positive adjustment may be due partly to an underlying effect of increased positive mood. Thus, engagement in valued activities appears to be important for adolescent positive adjustment, and may help to foster thriving. Communities, educators, and parents should actively support and encourage adolescents to develop valued activities, and seek to ensure that there are ample opportunities and resources available for them to do so.</div></span>"
      ],
      "text/plain": [
       "<IPython.core.display.HTML object>"
      ]
     },
     "metadata": {},
     "output_type": "display_data"
    },
    {
     "data": {
      "text/html": [
       "<span class=\"tex2jax_ignore\"><div class=\"entities\" style=\"line-height: 2.5; direction: ltr\">This study used a cluster analytic approach to identify self-esteem trajectories among adolescents over a four-year period from sixth to tenth grades (\n",
       "<mark class=\"entity\" style=\"background: #fab1a0; padding: 0.45em 0.6em; margin: 0 0.25em; line-height: 1; border-radius: 0.35em;\">\n",
       "    N = 1,160\n",
       "    <span style=\"font-size: 0.8em; font-weight: bold; line-height: 1; border-radius: 0.35em; vertical-align: middle; margin-left: 0.5rem\">SAMPLE_SIZE</span>\n",
       "</mark>\n",
       "). Four self-esteem trajectories were identified thai replicated previous research: (1) consistently high, (2) moderate and rising, (3) steadily decreasing, and (4) consistently low. Female adolescents were more likely to be in the steadily decreasing self-esteem group while male adolescents were more likefy to be in the moderate and rising ffoup. African American and white youth were equally distributed across groups. Using repeated measures analysis, we found that youth with consistently high and moderate and rising self-esteem reported developmentalfy healthier outcomes in Grade 10 than youth in the other two clusters. Outcomes included susceptibility to peer pressure, school</div></span>"
      ],
      "text/plain": [
       "<IPython.core.display.HTML object>"
      ]
     },
     "metadata": {},
     "output_type": "display_data"
    },
    {
     "data": {
      "text/html": [
       "<span class=\"tex2jax_ignore\"><div class=\"entities\" style=\"line-height: 2.5; direction: ltr\">The linkages between self-regulatory processes and achievement were examined across three years in 733 children beginning at 1 st grade (\n",
       "<mark class=\"entity\" style=\"background: #fab1a0; padding: 0.45em 0.6em; margin: 0 0.25em; line-height: 1; border-radius: 0.35em;\">\n",
       "    M = 6.57 years\n",
       "    <span style=\"font-size: 0.8em; font-weight: bold; line-height: 1; border-radius: 0.35em; vertical-align: middle; margin-left: 0.5rem\">SAMPLE_SIZE</span>\n",
       "</mark>\n",
       ", SD = .39 at 1 st grade) who were identified as lower achieving in literacy. Accounting for consistencies in measures (from one year prior) and for influences of child's age, gender, IQ, ethnicity and economic adversity on achievement, results indicate that adaptive/effortful control at 1 st grade contributed to both academic self-efficacy beliefs at 2 nd grade, and reading (but not math) achievement at 3 rd grade. Although academic self-efficacy did not partially mediate the linkage between adaptive/effortful control and achievement, academic self-efficacy beliefs were positively correlated with reading and math. Results support the notion that early efforts to promote children's self-regulatory skills would enhance future academic selfbeliefs and achievement, particularly in literacy. Early childhood education has historically emphasized the preparation of children for the &quot;3 R's of school,&quot; or in more current terminology: literacy and math skills (Freeman &amp; Hatch, 1989). However, there is growing consensus that social and emotional competencies enable children to succeed academically (Duncan et al., 2007;Raver &amp; Knitzer, 2002). Despite such emerging evidence that socioemotional and self-regulatory skills contribute to achievement (Duncan et al., 2007), schools often feel pressured to de-emphasize the development of nonacademic (e.g., socioemotional and attentional) skills in the current era of standards-based accountability. Yet, academic and non-academic development are likely intertwined, and early efforts to promote children's social and emotional learning positively influence their concurrent and future academic success (e.g., Rimm-Kaufman, Fan, Chiu, &amp; You, 2007;Zins, Bloodworth, Weissberg, &amp; Walberg, 2004). Thus, there is little need to partition school readiness skills along academic and non-academic lines as both aspects are important for achievement (Duncan et al., 2007). The present study aims to further explore the linkages in the early elementary grades between a) non-academic self-regulatory skills, b) academic selfefficacy beliefs, and c) academic achievement. Specifically, we hypothesized that adaptive/ effortful control at 1 st grade will contribute to academic self-efficacy beliefs at 2 nd grade which, in turn, contribute to reading and/or math achievement at 3 rd grade.</div></span>"
      ],
      "text/plain": [
       "<IPython.core.display.HTML object>"
      ]
     },
     "metadata": {},
     "output_type": "display_data"
    },
    {
     "data": {
      "text/html": [
       "<span class=\"tex2jax_ignore\"><div class=\"entities\" style=\"line-height: 2.5; direction: ltr\">The present study examined the link between general school-related learning motivation and competence beliefs in elementary school children. In a cross-sequential design, the populations of four German elementary schools (total \n",
       "<mark class=\"entity\" style=\"background: #fab1a0; padding: 0.45em 0.6em; margin: 0 0.25em; line-height: 1; border-radius: 0.35em;\">\n",
       "    N Z 789\n",
       "    <span style=\"font-size: 0.8em; font-weight: bold; line-height: 1; border-radius: 0.35em; vertical-align: middle; margin-left: 0.5rem\">SAMPLE_SIZE</span>\n",
       "</mark>\n",
       ") were examined over a twoyear period. Children completed self-report questionnaires every six months. Absolute (i.e. mean-level) and relative (i.e. correlational) changes in both variables were examined longitudinally. The results show that learning motivation and competence beliefs decreased over the elementary school years. Children's competence beliefs were moderately to strongly associated with their learning motivation. No evidence for causal determination of learning motivation through ability perception or vice versa was found at any point in time. Results are discussed with regard to practical consequences for teachers and researchers.</div></span>"
      ],
      "text/plain": [
       "<IPython.core.display.HTML object>"
      ]
     },
     "metadata": {},
     "output_type": "display_data"
    },
    {
     "data": {
      "text/html": [
       "<span class=\"tex2jax_ignore\"><div class=\"entities\" style=\"line-height: 2.5; direction: ltr\">This short-term longitudinal study investigated \n",
       "<mark class=\"entity\" style=\"background: #fab1a0; padding: 0.45em 0.6em; margin: 0 0.25em; line-height: 1; border-radius: 0.35em;\">\n",
       "    918\n",
       "    <span style=\"font-size: 0.8em; font-weight: bold; line-height: 1; border-radius: 0.35em; vertical-align: middle; margin-left: 0.5rem\">SAMPLE_SIZE</span>\n",
       "</mark>\n",
       " students' school-related affect across the transition to high school. The study focused specifically on the moderating effect of change in student ethnic congruence from middle to high school. Results indicate that students experiencing more ethnic incongruence from middle to high school, in particular African American and male students, reported declining feelings of school belonging over time. Moreover, students experiencing ethnic incongruence also had increasing worries about their academic success. These results suggest that the changing school demographics from middle school to high school may negatively impact students' school-related affect, especially if they move to high schools which include fewer students who are ethnically similar to themselves. As they move from childhood to adulthood, adolescents negotiate a variety of transitions (e.g., pubertal onset, changes in peer networks), and it is within this developmental backdrop that students must navigate the middle to high school transition (Eccles, Lord, &amp; Midgley, 1991;Steinberg, 2002). As students move to high school, they encounter a new (and often larger) school, teachers who may be less available, more challenging classes, older students, and new social cliques. For many students, entry</div></span>"
      ],
      "text/plain": [
       "<IPython.core.display.HTML object>"
      ]
     },
     "metadata": {},
     "output_type": "display_data"
    },
    {
     "data": {
      "text/html": [
       "<span class=\"tex2jax_ignore\"><div class=\"entities\" style=\"line-height: 2.5; direction: ltr\">The accuracy of the \n",
       "<mark class=\"entity\" style=\"background: #fab1a0; padding: 0.45em 0.6em; margin: 0 0.25em; line-height: 1; border-radius: 0.35em;\">\n",
       "    Content\n",
       "    <span style=\"font-size: 0.8em; font-weight: bold; line-height: 1; border-radius: 0.35em; vertical-align: middle; margin-left: 0.5rem\">SAMPLE_SIZE</span>\n",
       "</mark>\n",
       " should not be relied upon and should be independently verified with primary sources of information. Taylor and Francis shall not be liable for any losses, actions, claims, proceedings, demands, costs, expenses, damages, and other liabilities whatsoever or howsoever caused arising directly or indirectly in connection with, in relation to or arising out of the use of the Content. This article may be used for research, teaching, and private study purposes. Any substantial or systematic reproduction, redistribution, reselling, loan, sub-licensing, systematic supply, or distribution in any form to anyone is expressly forbidden.</div></span>"
      ],
      "text/plain": [
       "<IPython.core.display.HTML object>"
      ]
     },
     "metadata": {},
     "output_type": "display_data"
    },
    {
     "data": {
      "text/html": [
       "<span class=\"tex2jax_ignore\"><div class=\"entities\" style=\"line-height: 2.5; direction: ltr\">For decades, researchers have proclaimed the positive psychosocial benefits of participation in physical activity. However, recent meta-analyses of the literature have found infrequent and inconclusive empirical support for the link between physical activity and psychosocial well-being. In this study, we use data from a longitudinal study to explore the links between participation in physical activity and global self-esteem among girls from childhood into early adolescence and the direction of this relationship. Methods: Participants included \n",
       "<mark class=\"entity\" style=\"background: #fab1a0; padding: 0.45em 0.6em; margin: 0 0.25em; line-height: 1; border-radius: 0.35em;\">\n",
       "    197\n",
       "    <span style=\"font-size: 0.8em; font-weight: bold; line-height: 1; border-radius: 0.35em; vertical-align: middle; margin-left: 0.5rem\">SAMPLE_SIZE</span>\n",
       "</mark>\n",
       " non-Hispanic white girls. Girls' participation in physical activity and their global self-esteem were assessed when they were 9, 11, and 13 years old. Panel regression was used to assess the lagged effect of physical activity on self-esteem and the lagged effect of self-esteem on physical activity, controlling for family socioeconomic status (SES) and girls' body mass index (BMI). Results: A significant lagged effect of physical activity on self-esteem was identified. Specifically, higher physical activity at ages 9 and 11 years predicted higher self-esteem at ages 11 and 13 years respectively, controlling for covariates. Positive effects of physical activity on self-esteem were most apparent at age 11 and for girls with higher BMI. No support was gained for the lagged effect of selfesteem on physical activity.Results suggest that participating in physical activity can lead to positive self-esteem among adolescent girls, particularly for younger girls and those at greatest risk of overweight. These findings highlight the necessity of promoting physical activity among adolescent girls as a method of fostering positive self-worth.</div></span>"
      ],
      "text/plain": [
       "<IPython.core.display.HTML object>"
      ]
     },
     "metadata": {},
     "output_type": "display_data"
    },
    {
     "data": {
      "text/html": [
       "<span class=\"tex2jax_ignore\"><div class=\"entities\" style=\"line-height: 2.5; direction: ltr\">\n",
       "<mark class=\"entity\" style=\"background: #fab1a0; padding: 0.45em 0.6em; margin: 0 0.25em; line-height: 1; border-radius: 0.35em;\">\n",
       "    336 students, 186 girls and 150 boys\n",
       "    <span style=\"font-size: 0.8em; font-weight: bold; line-height: 1; border-radius: 0.35em; vertical-align: middle; margin-left: 0.5rem\">SAMPLE_SIZE</span>\n",
       "</mark>\n",
       " were met at the end of the school year, both at grade six and at Secondary one, in order to examine the impact of the transition from elementary to secondary school on various motivational variables. Analyses showed changes in self-efficacy beliefs and learning goals, whatever students' level of achievement and gender. However, self-efficacy beliefs appeared as the most powerful predictor ofacademic performance at both school levels. In addition, the pattern of relations between academic performance and the variables examined was relatively similar at both times of measurement. The discussion focuses on changes in self-efficacy beliefs and learning goals and on their relations to academic performance. Data Collection and preparation of this article were supported by grants to the first author from The Social Sciences and Humanities Research Council of Canada (government of Canada) and the Fonds FCAR (government of Quebec).</div></span>"
      ],
      "text/plain": [
       "<IPython.core.display.HTML object>"
      ]
     },
     "metadata": {},
     "output_type": "display_data"
    },
    {
     "data": {
      "text/html": [
       "<span class=\"tex2jax_ignore\"><div class=\"entities\" style=\"line-height: 2.5; direction: ltr\">This article addresses the question of the causal ordering of self-concept of ability and academic achievement during elementary school. The questions were (a) Do self-concept and achievement influence each other? and (b) Does it make a difference whether achievement is assessed by marks or by tests? The sample consisted of \n",
       "<mark class=\"entity\" style=\"background: #fab1a0; padding: 0.45em 0.6em; margin: 0 0.25em; line-height: 1; border-radius: 0.35em;\">\n",
       "    697 students from 54 German elementary school classes\n",
       "    <span style=\"font-size: 0.8em; font-weight: bold; line-height: 1; border-radius: 0.35em; vertical-align: middle; margin-left: 0.5rem\">SAMPLE_SIZE</span>\n",
       "</mark>\n",
       ". The design of the study allowed 3 measurement waves from Grade 2 to Grade 4. Mathematics achievement was measured both by marks and by tests. The results of the structural equation modeling analyses show that it makes a difference whether achievement is (as usually) measured with only one indicator (either mark or test performance), or if both indicators are integrated in the model. The latter model clearly supports the skill development model: In elementary school, prior self-concept does not significantly contribute to the prediction of subsequent achievement.</div></span>"
      ],
      "text/plain": [
       "<IPython.core.display.HTML object>"
      ]
     },
     "metadata": {},
     "output_type": "display_data"
    },
    {
     "data": {
      "text/html": [
       "<span class=\"tex2jax_ignore\"><div class=\"entities\" style=\"line-height: 2.5; direction: ltr\">A six-year longitudinal study investigated the impact of maternal hostile child-rearing attitudes, role dissatisfaction, and maternal perceptions of adolescent temperamental difficultness on self-esteem in late adolescence, after controlling for the initial self-esteem measured in early adolescence. Adolescents (n \n",
       "<mark class=\"entity\" style=\"background: #fab1a0; padding: 0.45em 0.6em; margin: 0 0.25em; line-height: 1; border-radius: 0.35em;\">\n",
       "    ¼ 313\n",
       "    <span style=\"font-size: 0.8em; font-weight: bold; line-height: 1; border-radius: 0.35em; vertical-align: middle; margin-left: 0.5rem\">SAMPLE_SIZE</span>\n",
       "</mark>\n",
       "), derived from the Cardiovascular Risk in Young Finns study, rated their self-esteem at the study entry at age 12, and six years later at age 18. Maternal reports of child-rearing attitudes, of role satisfaction, and of the temperament of the adolescent were obtained at the study entry and three years later. Mother's perceptions of adolescent's temperament as difficult at ages 12 and 15 predicted adolescent's self-reported self-esteem in late adolescence, whereas earlier self-esteem did not predict later perceptions of temperament or parenting. We found no evidence that maternal perceptions of parenting indirectly, or after controlling for the initial level, predicted adolescent's self-reported self-esteem.</div></span>"
      ],
      "text/plain": [
       "<IPython.core.display.HTML object>"
      ]
     },
     "metadata": {},
     "output_type": "display_data"
    },
    {
     "data": {
      "text/html": [
       "<span class=\"tex2jax_ignore\"><div class=\"entities\" style=\"line-height: 2.5; direction: ltr\">Drawing on the expectancy-value model, stage-environment fit theory, and self-determination theory, this study examined the longitudinal associations between classroom characteristics, expectancies-values, high school course enrollment, and career aspirations in the domain of math. Data were collected on \n",
       "<mark class=\"entity\" style=\"background: #fab1a0; padding: 0.45em 0.6em; margin: 0 0.25em; line-height: 1; border-radius: 0.35em;\">\n",
       "    3,048\n",
       "    <span style=\"font-size: 0.8em; font-weight: bold; line-height: 1; border-radius: 0.35em; vertical-align: middle; margin-left: 0.5rem\">SAMPLE_SIZE</span>\n",
       "</mark>\n",
       " youth who reported on their classroom experiences in 7th grade, expectancies-values in 6th, 7th, and 10th grades, and career aspirations in 12th grade. Student grades for math courses were collected from school records at 6th, 7th, and 10th grades, and their math course enrollment was collected from 9th through 12th grades. Results indicated that students' math classroom experiences predicted their expectancies and values, which, in turn, predicted the number of high school math courses taken and career aspirations in math. Gender and math ability differences are also discussed.</div></span>"
      ],
      "text/plain": [
       "<IPython.core.display.HTML object>"
      ]
     },
     "metadata": {},
     "output_type": "display_data"
    },
    {
     "data": {
      "text/html": [
       "<span class=\"tex2jax_ignore\"><div class=\"entities\" style=\"line-height: 2.5; direction: ltr\">The aim of the present study was to examine developmental changes in metacognitive knowledge of reading strategies and attitudes toward reading during early adolescence (from 10 to 14 years), taking gender into account. A secondary aim was also to test a model of the relationships among gender, attitudes toward reading, metacognitive knowledge of reading strategies, and reading comprehension. The sample for this longitudinal study consisted of \n",
       "<mark class=\"entity\" style=\"background: #fab1a0; padding: 0.45em 0.6em; margin: 0 0.25em; line-height: 1; border-radius: 0.35em;\">\n",
       "    175 students\n",
       "    <span style=\"font-size: 0.8em; font-weight: bold; line-height: 1; border-radius: 0.35em; vertical-align: middle; margin-left: 0.5rem\">SAMPLE_SIZE</span>\n",
       "</mark>\n",
       ". The first data collection took place when the students were enrolled in grade 4 (10 years old), and the follow-up measurements were conducted in grades 6 and 8. At each measurement point, measures of metacognitive knowledge of reading strategies and attitudes toward reading were applied in addition to text comprehension tasks. The obtained results indicated that metacognitive knowledge of reading strategies continuously improved during early adolescence, while attitudes toward recreational reading showed continuous decline from the fourth to the eighth grade, and attitudes toward academic reading dropped significantly between sixth and eighth grades. Girls consistently demonstrated better metacognitive knowledge, as well as more positive attitudes toward both recreational and academic reading when compared to boys. The model that included only attitudes toward recreational reading fitted the data better than the model comprising both academic and recreational reading attitudes. The findings of the path analysis indicated that gender had an effect on recreational reading attitudes that consistently predicted text comprehension directly and indirectly through metacognitive knowledge during early adolescence. The model fitted the data better as students got older.</div></span>"
      ],
      "text/plain": [
       "<IPython.core.display.HTML object>"
      ]
     },
     "metadata": {},
     "output_type": "display_data"
    },
    {
     "data": {
      "text/html": [
       "<span class=\"tex2jax_ignore\"><div class=\"entities\" style=\"line-height: 2.5; direction: ltr\">This article presents results from a \n",
       "<mark class=\"entity\" style=\"background: #fab1a0; padding: 0.45em 0.6em; margin: 0 0.25em; line-height: 1; border-radius: 0.35em;\">\n",
       "    3-year\n",
       "    <span style=\"font-size: 0.8em; font-weight: bold; line-height: 1; border-radius: 0.35em; vertical-align: middle; margin-left: 0.5rem\">SAMPLE_SIZE</span>\n",
       "</mark>\n",
       " longitudinal study of the growth patterns and correlates of perceived discrimination by adults and by peers among Black, Latino, and Asian American high school students. Results revealed a linear increase over time in levels of perceived discrimination by adults, whereas perceptions of discrimination by peers remained stable over time. Asian American and non-Puerto Rican Latino adolescents (primarily Dominican) reported higher levels of peer and/or adult discrimination than did Puerto Rican youth, whereas Black adolescents reported a steeper increase over time in levels of perceived discrimination by peers and by adults than did Puerto Rican adolescents. Peer and adult discrimination was significantly associated with decreased self-esteem and increased depressive symptoms over time. Ethnic identity and ethnicity were found to moderate the relationships between perceived discrimination and changes in psychological well-being over time. Results underscore the need to include perceptions of discrimination when studying the development and well-being of ethnic minority adolescents.</div></span>"
      ],
      "text/plain": [
       "<IPython.core.display.HTML object>"
      ]
     },
     "metadata": {},
     "output_type": "display_data"
    },
    {
     "data": {
      "text/html": [
       "<span class=\"tex2jax_ignore\"><div class=\"entities\" style=\"line-height: 2.5; direction: ltr\">The present study advances understanding of (a) the development of achievement goals, (b) the changing association of achievement goals and achievement over time, and (c) the implications of changes in achievement goals for changes in achievement over time. African American and European American adolescents' (N ϭ 588) achievement goals and subsequent achievement were assessed at \n",
       "<mark class=\"entity\" style=\"background: #fab1a0; padding: 0.45em 0.6em; margin: 0 0.25em; line-height: 1; border-radius: 0.35em;\">\n",
       "    4 time points (fall and spring of 6th and 7th grades\n",
       "    <span style=\"font-size: 0.8em; font-weight: bold; line-height: 1; border-radius: 0.35em; vertical-align: middle; margin-left: 0.5rem\">SAMPLE_SIZE</span>\n",
       "</mark>\n",
       ") and modeled using growth-curve analytic techniques. There was an overall decline in all 3 types of achievement goals (mastery, performance-approach, and performanceavoidance goals), because of within-year rather than between-year decreases. The association between mastery goals and achievement was null at Time 1 and then positive at the following 3 time points. The association between performance-approach goals and achievement went from negative to null across time. Changes in students' goals, as well as their initial levels of goals, were particularly important in understanding how mastery goals foreshadow achievement. The implications of the findings for both theory and practice are discussed.</div></span>"
      ],
      "text/plain": [
       "<IPython.core.display.HTML object>"
      ]
     },
     "metadata": {},
     "output_type": "display_data"
    },
    {
     "data": {
      "text/html": [
       "<span class=\"tex2jax_ignore\"><div class=\"entities\" style=\"line-height: 2.5; direction: ltr\">This longitudinal study examined \n",
       "<mark class=\"entity\" style=\"background: #fab1a0; padding: 0.45em 0.6em; margin: 0 0.25em; line-height: 1; border-radius: 0.35em;\">\n",
       "    75\n",
       "    <span style=\"font-size: 0.8em; font-weight: bold; line-height: 1; border-radius: 0.35em; vertical-align: middle; margin-left: 0.5rem\">SAMPLE_SIZE</span>\n",
       "</mark>\n",
       " young adolescents to explore whether selfcompetence predicts the emergence of gender differences in depression and anxiety. During both 6th and 7th grade, boys reported signi®cantly higher levels of selfcompetence than did girls. In addition, boys were signi®cantly less depressed and anxious than girls in 7th grade, but not in 6th grade. Finally, when the variance contributed by self-competence was accounted for, the relationship between gender and trait anxiety weakened and the relationship between gender and depression became non-signi®cant. These results support the hypothesis that self-competence is partially responsible for the emergence of gender differences in depression and anxiety during early adolescence.</div></span>"
      ],
      "text/plain": [
       "<IPython.core.display.HTML object>"
      ]
     },
     "metadata": {},
     "output_type": "display_data"
    },
    {
     "data": {
      "text/html": [
       "<span class=\"tex2jax_ignore\"><div class=\"entities\" style=\"line-height: 2.5; direction: ltr\">Background. Although achievement-related self-perceptions are causally related to academic performance, it is not clear at what age this relationship starts to form, especially in terms of learning to read. Aims. The aim of this longitudinal study was to examine the emerging causal interplay between reading self-concept and beginning reading performance. Sample. \n",
       "<mark class=\"entity\" style=\"background: #fab1a0; padding: 0.45em 0.6em; margin: 0 0.25em; line-height: 1; border-radius: 0.35em;\">\n",
       "    One hundred and twelve\n",
       "    <span style=\"font-size: 0.8em; font-weight: bold; line-height: 1; border-radius: 0.35em; vertical-align: middle; margin-left: 0.5rem\">SAMPLE_SIZE</span>\n",
       "</mark>\n",
       " children who started school at the age of 5 years participated in the study over a two and a half-year period. Method. Path analyses were used to examine the relationships between readingrelated skills and reading self-concept at the start of Year 1, the middle of Year 2, and the middle of Year 3. Results. Reading performance emerged as causally predominant over reading selfconcept between the middle of Year 2 and the middle of Year 3. Conclusions. Initial reading-related experiences in school are associated with the development of reading self-concepts within the first two and a half years of schooling. This period may mark the time during which negative 'Matthew effects' develop for those who experience initial difficulties in learning to read.</div></span>"
      ],
      "text/plain": [
       "<IPython.core.display.HTML object>"
      ]
     },
     "metadata": {},
     "output_type": "display_data"
    },
    {
     "data": {
      "text/html": [
       "<span class=\"tex2jax_ignore\"><div class=\"entities\" style=\"line-height: 2.5; direction: ltr\">A large body of literature suggests a clear, concurrent association between peer approval and self-esteem in adolescence. However, little empirical work exists on either the prospective or reciprocal relation between peer approval and self-esteem during this age period. Moreover, it is unclear from past research whether both subjectively perceived peer approval and objectively measured peer approval are related to subsequent self-esteem over time (and vice versa) and whether these paths have long-term associations into adulthood. Using data from a large longitudinal study that covers a time span of \n",
       "<mark class=\"entity\" style=\"background: #fab1a0; padding: 0.45em 0.6em; margin: 0 0.25em; line-height: 1; border-radius: 0.35em;\">\n",
       "    2 decades\n",
       "    <span style=\"font-size: 0.8em; font-weight: bold; line-height: 1; border-radius: 0.35em; vertical-align: middle; margin-left: 0.5rem\">SAMPLE_SIZE</span>\n",
       "</mark>\n",
       ", we examined reciprocal, prospective relations between self-esteem and peer approval during ages 12-16 in addition to long-term relations between these variables and later social constructs at age 35. Cross-lagged regression analyses revealed small but persistent effect sizes from both types of peer approval to subsequent self-esteem in adolescence, controlling for prior self-esteem. However, effects in the reverse direction were not confirmed. These findings support the notion that peer relationships serve an important function for later self-esteem, consistent with many theoretical tenets of the importance of peers for building a strong identity. Finally, we found long-term relations between adult social constructs and adolescent objective and subjective peer approval as well as self-esteem. Therefore, not only do peer relationships play a role in self-esteem development across adolescence, but they remain impactful throughout adulthood. In sum, the current findings highlight the lasting, yet small link between peer relationships and self-esteem development and call for investigations of further influential factors for self-esteem over time.</div></span>"
      ],
      "text/plain": [
       "<IPython.core.display.HTML object>"
      ]
     },
     "metadata": {},
     "output_type": "display_data"
    },
    {
     "data": {
      "text/html": [
       "<span class=\"tex2jax_ignore\"><div class=\"entities\" style=\"line-height: 2.5; direction: ltr\">In a longitudinal research the development of attitude toward reading adolescent literature and reading behavior is studied. Participants are \n",
       "<mark class=\"entity\" style=\"background: #fab1a0; padding: 0.45em 0.6em; margin: 0 0.25em; line-height: 1; border-radius: 0.35em;\">\n",
       "    students in higher general and pre-academic secondary education\n",
       "    <span style=\"font-size: 0.8em; font-weight: bold; line-height: 1; border-radius: 0.35em; vertical-align: middle; margin-left: 0.5rem\">SAMPLE_SIZE</span>\n",
       "</mark>\n",
       ". The attitude model used is the Model of Planned Behavior [Ajzen, I., 1991. The theory of planned behavior. Organizational Behavior and Human Decision Processes 50, 179-211]. The best predictors of reading behavior are cognitions, affect, intentions and subjective norm. When students grow older, affect and control become more important as predictors of reading behavior and the subjective norm becomes less important. All attitude scores and reading behavior diminish with age, but less so for girls, for students having parents with a higher level of education, for students coming from a culturally more sophisticated home environment and for students receiving more support for school work. Students showing less decline in attitude scores and reading behavior have larger vocabularies and receive more lessons in literary education per week. Structural analysis, literary history and most of all text experiencing appear to be beneficial for the attitude towards reading adolescent literature and for reading adolescent literature.</div></span>"
      ],
      "text/plain": [
       "<IPython.core.display.HTML object>"
      ]
     },
     "metadata": {},
     "output_type": "display_data"
    },
    {
     "data": {
      "text/html": [
       "<span class=\"tex2jax_ignore\"><div class=\"entities\" style=\"line-height: 2.5; direction: ltr\">The current study aimed to explore the concept of transition self-efficacy, which is defined as individuals' subjective evaluation of their ability to execute the actions required for a successful transition from elementary to middle school. The study followed a sample of \n",
       "<mark class=\"entity\" style=\"background: #fab1a0; padding: 0.45em 0.6em; margin: 0 0.25em; line-height: 1; border-radius: 0.35em;\">\n",
       "    128\n",
       "    <span style=\"font-size: 0.8em; font-weight: bold; line-height: 1; border-radius: 0.35em; vertical-align: middle; margin-left: 0.5rem\">SAMPLE_SIZE</span>\n",
       "</mark>\n",
       " sixth-grade students for 2 consecutive years (before and after the school transition). A path analysis based on structural equation modelling revealed that the students' perceptions of the teachers' emphasis on mastery goal orientations predicted academic and social aspects of self-efficacy. The social aspect of self-efficacy in turn predicted changes in the students' emotional and behavioural engagement after the transition. The results were robust when we controlled for self-reported GPA and gender. An interaction between gender and aspects of self-efficacy was also observed. The findings emphasise the importance of transition self-efficacy for adaptive school transitions and provide evidence that teachers' goal emphases play a significant role in promoting self-efficacy. Most students across the globe experience at least one school transition during the sequence of their formal education. The implications of such transitions are still debated; some findings indicate a decline in student achievement, engagement and well-</div></span>"
      ],
      "text/plain": [
       "<IPython.core.display.HTML object>"
      ]
     },
     "metadata": {},
     "output_type": "display_data"
    },
    {
     "data": {
      "text/html": [
       "<span class=\"tex2jax_ignore\"><div class=\"entities\" style=\"line-height: 2.5; direction: ltr\">Latent growth curve modeling was used to estimate developmental trajectories of self-esteem and cultural identity among American Indian high school students and to explore the relationships of these trajectories to personal resources, problem behaviors, and academic performance at the end of high school. The sample included \n",
       "<mark class=\"entity\" style=\"background: #fab1a0; padding: 0.45em 0.6em; margin: 0 0.25em; line-height: 1; border-radius: 0.35em;\">\n",
       "    1,611\n",
       "    <span style=\"font-size: 0.8em; font-weight: bold; line-height: 1; border-radius: 0.35em; vertical-align: middle; margin-left: 0.5rem\">SAMPLE_SIZE</span>\n",
       "</mark>\n",
       " participants from the Voices of Indian Teens project, a threeyear longitudinal study of adolescents from three diverse American Indian cultural groups in the western U.S. Trajectories of self-esteem were clearly related to academic achievement; cultural identity, in contrast, was largely unrelated, with no direct effects and only very small indirect effects. The relationships between self-esteem and success were mediated by personal resources and problem behaviors. Disparities in academic achievement across ethnic groups in the United States have long been of concern to both educational and developmental scholars, and a considerable body of research has attempted to uncover the causes of these disparities (</div></span>"
      ],
      "text/plain": [
       "<IPython.core.display.HTML object>"
      ]
     },
     "metadata": {},
     "output_type": "display_data"
    },
    {
     "data": {
      "text/html": [
       "<span class=\"tex2jax_ignore\"><div class=\"entities\" style=\"line-height: 2.5; direction: ltr\">The purpose of the study was to examine 2 types of conflict for Chinese American families that have not been integrated in previous literature: everyday conflict and acculturation-based conflict. We explored the relation between the 2 types of conflict over time and their associations with adolescent adjustment (i.e., anxiety/somatization, loneliness, depressive symptoms, and self-esteem). The sample consisted of \n",
       "<mark class=\"entity\" style=\"background: #fab1a0; padding: 0.45em 0.6em; margin: 0 0.25em; line-height: 1; border-radius: 0.35em;\">\n",
       "    316\n",
       "    <span style=\"font-size: 0.8em; font-weight: bold; line-height: 1; border-radius: 0.35em; vertical-align: middle; margin-left: 0.5rem\">SAMPLE_SIZE</span>\n",
       "</mark>\n",
       " Chinese American adolescents (M ϭ 14.8 years, SD ϭ .73 at Wave 1) who participated in a 3-wave longitudinal study. The results showed that everyday and acculturation-based conflict are related and change in parallel over time. However, the 2 types of conflict are unique predictors of the 4 different indicators of psychological functioning. Results also suggested that psychological functioning is a better predictor of trajectories of conflict than vice versa. Taken together, the results highlight the importance of considering how the acculturation process contributes to parent-adolescent conflict regarding everyday issues and deeper cultural values.</div></span>"
      ],
      "text/plain": [
       "<IPython.core.display.HTML object>"
      ]
     },
     "metadata": {},
     "output_type": "display_data"
    },
    {
     "data": {
      "text/html": [
       "<span class=\"tex2jax_ignore\"><div class=\"entities\" style=\"line-height: 2.5; direction: ltr\">This is an \n",
       "<mark class=\"entity\" style=\"background: #fab1a0; padding: 0.45em 0.6em; margin: 0 0.25em; line-height: 1; border-radius: 0.35em;\">\n",
       "    electronic reprint of the original article\n",
       "    <span style=\"font-size: 0.8em; font-weight: bold; line-height: 1; border-radius: 0.35em; vertical-align: middle; margin-left: 0.5rem\">SAMPLE_SIZE</span>\n",
       "</mark>\n",
       ". This reprint may differ from the original in pagination and typographic detail.</div></span>"
      ],
      "text/plain": [
       "<IPython.core.display.HTML object>"
      ]
     },
     "metadata": {},
     "output_type": "display_data"
    },
    {
     "data": {
      "text/html": [
       "<span class=\"tex2jax_ignore\"><div class=\"entities\" style=\"line-height: 2.5; direction: ltr\">Feminist psychologists have long posited that relationship authenticity (i.e., the congruence between what one thinks and feels and what one does and says in relational contexts) is integral to self-esteem and well-being. Guided by a feminist developmental framework, the authors investigated the role of relationship authenticity in promoting girls' self-esteem over the course of adolescence. Latent growth curve modeling was used to test the association between relationship authenticity and self-esteem with data from a 5-year, 3-wave longitudinal study of \n",
       "<mark class=\"entity\" style=\"background: #fab1a0; padding: 0.45em 0.6em; margin: 0 0.25em; line-height: 1; border-radius: 0.35em;\">\n",
       "    183\n",
       "    <span style=\"font-size: 0.8em; font-weight: bold; line-height: 1; border-radius: 0.35em; vertical-align: middle; margin-left: 0.5rem\">SAMPLE_SIZE</span>\n",
       "</mark>\n",
       " adolescent girls. Results revealed that both relationship authenticity and self-esteem increased steadily in a linear fashion from the 8th to the 12th grade. Girls who scored high on the measure of relationship authenticity in the 8th grade experienced greater increases in self-esteem over the course of adolescence than girls who scored low on relationship authenticity. Further, girls who increased in authenticity also tended to increase in self-esteem over the course of adolescence. The importance of a feminist developmental framework for identifying and understanding salient dimensions of female adolescence is discussed.</div></span>"
      ],
      "text/plain": [
       "<IPython.core.display.HTML object>"
      ]
     },
     "metadata": {},
     "output_type": "display_data"
    },
    {
     "data": {
      "text/html": [
       "<span class=\"tex2jax_ignore\"><div class=\"entities\" style=\"line-height: 2.5; direction: ltr\">This study examined the associations between intrinsic motivation and achievement in mathematics in a sample of \n",
       "<mark class=\"entity\" style=\"background: #fab1a0; padding: 0.45em 0.6em; margin: 0 0.25em; line-height: 1; border-radius: 0.35em;\">\n",
       "    1,478\n",
       "    <span style=\"font-size: 0.8em; font-weight: bold; line-height: 1; border-radius: 0.35em; vertical-align: middle; margin-left: 0.5rem\">SAMPLE_SIZE</span>\n",
       "</mark>\n",
       " Canadian school-age children followed from Grades 1 to 4 (ages 7-10). Children self-reported their intrinsic motivation toward mathematics, whereas achievement was measured through direct assessment of mathematics abilities. Cross-lagged models showed that achievement predicted intrinsic motivation from Grades 1 to 2, and from Grades 2 to 4. However, intrinsic motivation did not predict achievement at any time. This developmental pattern of association was gender invariant. Contrary to the hypothesis that motivation and achievement are reciprocally associated over time, our results point to a directional association from prior achievement to subsequent intrinsic motivation. Results are discussed in light of their theoretical and practical implications.</div></span>"
      ],
      "text/plain": [
       "<IPython.core.display.HTML object>"
      ]
     },
     "metadata": {},
     "output_type": "display_data"
    },
    {
     "data": {
      "text/html": [
       "<span class=\"tex2jax_ignore\"><div class=\"entities\" style=\"line-height: 2.5; direction: ltr\">This article appeared in a journal published by Elsevier. The \n",
       "<mark class=\"entity\" style=\"background: #fab1a0; padding: 0.45em 0.6em; margin: 0 0.25em; line-height: 1; border-radius: 0.35em;\">\n",
       "    attached copy\n",
       "    <span style=\"font-size: 0.8em; font-weight: bold; line-height: 1; border-radius: 0.35em; vertical-align: middle; margin-left: 0.5rem\">SAMPLE_SIZE</span>\n",
       "</mark>\n",
       " is furnished to the author for internal non-commercial research and education use, including for instruction at the authors institution and sharing with colleagues. Other uses, including reproduction and distribution, or selling or licensing copies, or posting to personal, institutional or third party websites are prohibited. In most cases authors are permitted to post their version of the article (e.g. in Word or Tex form) to their personal website or institutional repository. Authors requiring further information regarding Elsevier's archiving and manuscript policies are encouraged to visit: http://www.elsevier.com/copyright</div></span>"
      ],
      "text/plain": [
       "<IPython.core.display.HTML object>"
      ]
     },
     "metadata": {},
     "output_type": "display_data"
    },
    {
     "data": {
      "text/html": [
       "<span class=\"tex2jax_ignore\"><div class=\"entities\" style=\"line-height: 2.5; direction: ltr\">We examined changes in self-esteem and feelings of competence with physical appearance and social acceptance over approximately 5 years in \n",
       "<mark class=\"entity\" style=\"background: #fab1a0; padding: 0.45em 0.6em; margin: 0 0.25em; line-height: 1; border-radius: 0.35em;\">\n",
       "    1166 white and 1213\n",
       "    <span style=\"font-size: 0.8em; font-weight: bold; line-height: 1; border-radius: 0.35em; vertical-align: middle; margin-left: 0.5rem\">SAMPLE_SIZE</span>\n",
       "</mark>\n",
       " black girls, aged 9 and 10 years at baseline. Methods: Maturation stage and body mass index (BMI) were assessed annually. Biennially girls completed Harter's Self-Perception Profile for Children. Changes were analyzed in the context of race, sexual maturation, BMI, and household income. Longitudinal regression models were used to compare trends with age in global selfworth, physical appearance, and social acceptance. Results: Mean global self-worth showed little change over ages 9 -14 years in blacks (p 5 0.09) but decreased in whites (p &lt; 0.001). Mean physical appearance scores for both races declined between ages 9 and 14 years (blacks, p &lt; 0.001; whites, p &lt; 0.001). Mean social acceptance scores increased for both races between ages 9 and 14 years (blacks, p &lt; 0.001; whites, p &lt; 0.001). For all three scores, these changes differed between blacks and whites changes with age in global self-worth and physical appearance scores. Self-worth, physical appearance, and social acceptance scores decreased with increasing BMI. Decreases in physical appearance and social acceptance scores with increasing BMI were smaller in blacks than in whites (p &lt; 0.05). After adjustment for maturation stage and household income, racial differences in social acceptance scores depended on BMI (p &lt; 0.05) but not on age (p 5 0.08). Conclusions: This article reports the first data on selfesteem scores by age for a large population of black girls aged 9 and 14 years and concludes that self-esteem does not follow the same developmental pattern in black as in white girls. A reason for black girls' higher and more stable self-worth and their greater satisfaction with their physical appearance compared to white girls may be racial differences in attitudes toward physical appearance and obesity.</div></span>"
      ],
      "text/plain": [
       "<IPython.core.display.HTML object>"
      ]
     },
     "metadata": {},
     "output_type": "display_data"
    },
    {
     "data": {
      "text/html": [
       "<span class=\"tex2jax_ignore\"><div class=\"entities\" style=\"line-height: 2.5; direction: ltr\">This study tested whether students' motivation and perceptions of the learning environment changed significantly within the school year. Korean high school girls' (\n",
       "<mark class=\"entity\" style=\"background: #fab1a0; padding: 0.45em 0.6em; margin: 0 0.25em; line-height: 1; border-radius: 0.35em;\">\n",
       "    N ϭ 375\n",
       "    <span style=\"font-size: 0.8em; font-weight: bold; line-height: 1; border-radius: 0.35em; vertical-align: middle; margin-left: 0.5rem\">SAMPLE_SIZE</span>\n",
       "</mark>\n",
       ") perceptions of the performance goal structures in the environment increased significantly throughout the school year. The girls' personal achievement goals and task value demonstrated few significant within-grade changes, but their selfefficacy fluctuated significantly around examinations. Motivational beliefs were more stable than were perceptions of the environment. Nevertheless, the modified perceptions of the learning environment explained changes in motivation, justifying continued efforts to create a motivationally adaptive environment. Construct relations were consistent across different academic contexts. There was no evidence that low-achieving girls responded more negatively to the classroom performance goals than did their better-achieving peers.</div></span>"
      ],
      "text/plain": [
       "<IPython.core.display.HTML object>"
      ]
     },
     "metadata": {},
     "output_type": "display_data"
    },
    {
     "data": {
      "text/html": [
       "<span class=\"tex2jax_ignore\"><div class=\"entities\" style=\"line-height: 2.5; direction: ltr\">Through the use of longitudinal survey data the change of achievement goal orientations was tested in a sample of \n",
       "<mark class=\"entity\" style=\"background: #fab1a0; padding: 0.45em 0.6em; margin: 0 0.25em; line-height: 1; border-radius: 0.35em;\">\n",
       "    middle school students in mathematics as they moved from sixth to seventh grade\n",
       "    <span style=\"font-size: 0.8em; font-weight: bold; line-height: 1; border-radius: 0.35em; vertical-align: middle; margin-left: 0.5rem\">SAMPLE_SIZE</span>\n",
       "</mark>\n",
       ". Achievement goals include task goals and performance goals, with the partitioning of performance goals into approach and avoidance components. Results indicate that all goal orientations were moderately stable over time. Task goals in sixth grade positively predicted academic efficacy in seventh grade. Performance-approach goals in sixth grade positively predicted performance-avoid goals in seventh grade. Multiple regression and multi-sample analyses revealed that the path from performance-approach goals to performance-avoid goals was significant only among students reporting high academic efficacy before the transition. The results suggest that individuals who feel efficacious in math while endorsing a performance-approach goal orientation may be particularly vulnerable to adopting maladaptive performance-avoid goals over time and with change in circumstances.</div></span>"
      ],
      "text/plain": [
       "<IPython.core.display.HTML object>"
      ]
     },
     "metadata": {},
     "output_type": "display_data"
    },
    {
     "data": {
      "text/html": [
       "<span class=\"tex2jax_ignore\"><div class=\"entities\" style=\"line-height: 2.5; direction: ltr\">Close parent-child relationships are viewed as important for the development of global self-esteem. Cross-sectional research supports this hypothesis, but longitudinal studies provide inconsistent prospective effects. The current study uses data from Germany (\n",
       "<mark class=\"entity\" style=\"background: #fab1a0; padding: 0.45em 0.6em; margin: 0 0.25em; line-height: 1; border-radius: 0.35em;\">\n",
       "    N = 982\n",
       "    <span style=\"font-size: 0.8em; font-weight: bold; line-height: 1; border-radius: 0.35em; vertical-align: middle; margin-left: 0.5rem\">SAMPLE_SIZE</span>\n",
       "</mark>\n",
       ") and the United States (N = 451) to test longitudinal relations between parent-child closeness and adolescent self-esteem. The authors used self-, parent-, and observerreported parent-child closeness and self-reported self-esteem from ages 12 to 16. Results replicated concurrent correlations found in the literature, but six longitudinal models failed to show prospective relations. Thus, the longitudinal effect of parent-child closeness and self-esteem is difficult to detect with adolescent samples. These findings suggest the need for additional theorizing about influences on adolescent self-esteem development and longitudinal research with younger samples. The authors would like to thank Ulrich Orth for feedback on prior versions of this manuscript.</div></span>"
      ],
      "text/plain": [
       "<IPython.core.display.HTML object>"
      ]
     },
     "metadata": {},
     "output_type": "display_data"
    },
    {
     "data": {
      "text/html": [
       "<span class=\"tex2jax_ignore\"><div class=\"entities\" style=\"line-height: 2.5; direction: ltr\">A cross-domain latent growth curve model was used to examine the trajectories of change in student perceptions of four critical dimensions of school climate (i.e., teacher support, peer support, student autonomy in the classroom, and clarity and consistency in school rules and regulations) among \n",
       "<mark class=\"entity\" style=\"background: #fab1a0; padding: 0.45em 0.6em; margin: 0 0.25em; line-height: 1; border-radius: 0.35em;\">\n",
       "    1,451\n",
       "    <span style=\"font-size: 0.8em; font-weight: bold; line-height: 1; border-radius: 0.35em; vertical-align: middle; margin-left: 0.5rem\">SAMPLE_SIZE</span>\n",
       "</mark>\n",
       " early adolescents from the beginning of sixth through the end of eighth grade; and the effects of such trajectories on the rate of change in psychological and behavioral adjustment. Findings indicated that all of the dimensions of perceived school climate declined over the 3 years of middle school. Furthermore, declines in each of the dimensions of perceived school climate were associated with declines over time in psychological and behavioral adjustment. Moreover, the direction of effects between each dimension of perceived school climate and psychological or behavioral adjustment were often unidirectional rather than bi-directional, underscoring the role of perceived school climate in the psychological and behavioral health of early adolescents. Gender and socioeconomic class differences in these patterns are noted.</div></span>"
      ],
      "text/plain": [
       "<IPython.core.display.HTML object>"
      ]
     },
     "metadata": {},
     "output_type": "display_data"
    },
    {
     "data": {
      "text/html": [
       "<span class=\"tex2jax_ignore\"><div class=\"entities\" style=\"line-height: 2.5; direction: ltr\">The present study investigated (1) gender differences in the longitudinal development of language achievement and school engagement (i.e., effort for language, attitude toward learning tasks, interest in learning tasks, and relationship with teachers) across secondary school (Grades 7-12, ages 12-18) and (2) gender differences in the association between these developmental processes. Data were drawn from the Longitudinal Project in Secondary School (LOSO project) that followed a cohort of \n",
       "<mark class=\"entity\" style=\"background: #fab1a0; padding: 0.45em 0.6em; margin: 0 0.25em; line-height: 1; border-radius: 0.35em;\">\n",
       "    2,270\n",
       "    <span style=\"font-size: 0.8em; font-weight: bold; line-height: 1; border-radius: 0.35em; vertical-align: middle; margin-left: 0.5rem\">SAMPLE_SIZE</span>\n",
       "</mark>\n",
       " students in Flanders (Dutch-speaking part of Belgium) during secondary school. We used univariate and multivariate latent growth curve models to analyze the longitudinal data. The results showed, as expected, significant gender differences in the development of language. Girls showed a quasi-linear positive learning gain in language across secondary school, whereas boys started with a decline followed by acceleration in their learning gain in language. With regard to school engagement we observed a decline both for boys and girls, but the decline in the effort for language and the attitude toward learning tasks was steeper for boys than for girls. In addition, we found evidence for a positive longitudinal association between language achievement and school engagement, meaning that students who showed a smaller decline in school engagement also showed more learning gains in language. Moreover, only for boys were the school engagement starting levels related to their learning rates in language.</div></span>"
      ],
      "text/plain": [
       "<IPython.core.display.HTML object>"
      ]
     },
     "metadata": {},
     "output_type": "display_data"
    },
    {
     "data": {
      "text/html": [
       "<span class=\"tex2jax_ignore\"><div class=\"entities\" style=\"line-height: 2.5; direction: ltr\">This study uses intraindividual variability and change methods to test theoretical accounts of self-concept and its change across time and context and to test the developmental implications of this variability. The 5-year longitudinal study of \n",
       "<mark class=\"entity\" style=\"background: #fab1a0; padding: 0.45em 0.6em; margin: 0 0.25em; line-height: 1; border-radius: 0.35em;\">\n",
       "    541\n",
       "    <span style=\"font-size: 0.8em; font-weight: bold; line-height: 1; border-radius: 0.35em; vertical-align: middle; margin-left: 0.5rem\">SAMPLE_SIZE</span>\n",
       "</mark>\n",
       " youths in a rural Pennsylvania community from 3rd through 7th grade included twice-yearly assessments of self-concept (academic and social), corresponding external evaluations of competence (e.g., teacher-rated academic skills, peer-nominated &quot;likeability&quot;), and multiple measures of youths' overall adjustment. Multiphase growth models replicate previous research, suggesting significant decline in academic self-concept during middle school but modest growth in social self-concept from 3rd through 7th grade. Next, a new contribution is made to the literature by quantifying the amount of within-subject variability (i.e., &quot;lability&quot;) around these linear self-concept trajectories as a between-subjects characteristic. Self-concept lability was found to associate with a general profile of poorer competence and adjustment and to predict poorer academic and social competence at the end of 7th grade above and beyond level of self-concept. Finally, there was substantial evidence that wave-towave changes in youths' self-concepts correspond to teacher and peer evaluations of youths' competence, that attention to peer feedback may be particularly strong during middle school, and that these relations may be moderated by between-subjects indicators of youths' general adjustment. Overall, findings highlight the utility of methods sensitive to within-subject variation for clarifying the dynamics of youths' self-system development.</div></span>"
      ],
      "text/plain": [
       "<IPython.core.display.HTML object>"
      ]
     },
     "metadata": {},
     "output_type": "display_data"
    },
    {
     "data": {
      "text/html": [
       "<span class=\"tex2jax_ignore\"><div class=\"entities\" style=\"line-height: 2.5; direction: ltr\">The present study investigated 3 theoretically plausible explanations for changes in school-related intrinsic motivation. A sample of \n",
       "<mark class=\"entity\" style=\"background: #fab1a0; padding: 0.45em 0.6em; margin: 0 0.25em; line-height: 1; border-radius: 0.35em;\">\n",
       "    348\n",
       "    <span style=\"font-size: 0.8em; font-weight: bold; line-height: 1; border-radius: 0.35em; vertical-align: middle; margin-left: 0.5rem\">SAMPLE_SIZE</span>\n",
       "</mark>\n",
       " German 11th-grade students was followed for 1 year. At 2 measurement occasions, students completed self-reports regarding their school-related intrinsic motivation, goal orientations, and competence beliefs. In line with previous studies, cross-lagged analyses provided little evidence for the hypothesis that prior competence beliefs affect subsequent intrinsic motivation after controlling for prior intrinsic motivation. Considering goal orientations as a moderator did not change this result. Instead, learning goals, but not performance goals, directly predicted the change in students' intrinsic motivation, but not vice versa. Findings are discussed with regard to advancing motivation theory and practical implications.</div></span>"
      ],
      "text/plain": [
       "<IPython.core.display.HTML object>"
      ]
     },
     "metadata": {},
     "output_type": "display_data"
    },
    {
     "data": {
      "text/html": [
       "<span class=\"tex2jax_ignore\"><div class=\"entities\" style=\"line-height: 2.5; direction: ltr\">This longitudinal study builds on research addressing changes in achievement goal orientations (AG) across the transition to middle school. We had two objectives. The first was to identify and describe different development trajectories of AG (mastery, performance-approach, and performanceavoidance) from the last year of elementary school (Grade 6) to the third year of middle school (Grade 9, or Secondary 3). The second was to determine whether these trajectories depend on individual dispositions such as anxiety, depression, aggressiveness, and inattention. A sample of \n",
       "<mark class=\"entity\" style=\"background: #fab1a0; padding: 0.45em 0.6em; margin: 0 0.25em; line-height: 1; border-radius: 0.35em;\">\n",
       "    378\n",
       "    <span style=\"font-size: 0.8em; font-weight: bold; line-height: 1; border-radius: 0.35em; vertical-align: middle; margin-left: 0.5rem\">SAMPLE_SIZE</span>\n",
       "</mark>\n",
       " French-speaking students from the province of Quebec and their mothers participated in a 4-year longitudinal study. Results showed three trajectories for mastery goals (High, Moderate, and Moderate-declining) and four trajectories for performance-approach (High, Moderate-declining,</div></span>"
      ],
      "text/plain": [
       "<IPython.core.display.HTML object>"
      ]
     },
     "metadata": {},
     "output_type": "display_data"
    },
    {
     "data": {
      "text/html": [
       "<span class=\"tex2jax_ignore\"><div class=\"entities\" style=\"line-height: 2.5; direction: ltr\">The influence of perceived teacher support on trajectories of depression and self-esteem in middle school was examined using multigroup latent growth cross-domain models. A longitudinal sample of \n",
       "<mark class=\"entity\" style=\"background: #fab1a0; padding: 0.45em 0.6em; margin: 0 0.25em; line-height: 1; border-radius: 0.35em;\">\n",
       "    2,585\n",
       "    <span style=\"font-size: 0.8em; font-weight: bold; line-height: 1; border-radius: 0.35em; vertical-align: middle; margin-left: 0.5rem\">SAMPLE_SIZE</span>\n",
       "</mark>\n",
       " students was followed from the sixth through the eighth grades. Students' perceptions of teacher support and general self-esteem declined and depressive symptoms increased over the course of middle school. We further found that, for both boys and girls, changes in perceptions of teachers' support reliably predicted changes in both self-esteem and depression. In particular, those students perceiving increasing teacher support showed corresponding decreases in depressive symptoms and increases in self-esteem. Gender differences were found for the initial levels of both perceptions of teacher support and general self-esteem. A competing model was also tested, which gave additional support for pathways of influence from perceptions of teacher support to depression and self-esteem, rather than the reverse. This study underscores the role of teacher support in facilitating students' adjustment to middle school and highlights the importance of using idiographic methodologies in the study of developmental processes. Implications and future directions are discussed. Middle schools are a crucial developmental times serve as confidants, mentors, and friends (Lynch &amp; Cicchetti, 1992). Despite context, and teachers play an important role in students' adjustment (Roeser, Eccles, &amp; the importance of student-teacher relationships, middle schools are often structured in Sameroff, 1998Sameroff, , 2000. Students have extensive involvement with teachers, who some-ways that impede the formation of close ties. Indeed, the shift from a primary teacher to multiple classroom assignments, larger class We are indebted to Professor John B. Willett, Harvard sizes, the growing emphasis on standardized School of Education, for all his guidance and input contesting, and dense curricular demands often cerning the cross-domain modeling methodology. We translate into fewer opportunities for supportalso gratefully acknowledge the contribution of the reive contact between teachers and students searchers at the Illinois Center for Prevention Research and of Robert D. Felner, who served as the Principal In- (Lynch &amp; Cicchetti, 1997). Students are likely vestigator of the Alliance of Illinois Middle Schools netto vary, however, in the extent to which they work evaluation. The evaluation was funded by a Carnecan successfully negotiate these challenges to gie Foundation grant to the University of Illinois. A grant form close relationships with their teachers. In from the Spencer Foundation to the second author permitthis study, we focused on the role of teacher ted the analyses in this study. We would also like to thank the anonymous reviewers for their insightful feedback support in predicting early adolescents' adand suggestions.</div></span>"
      ],
      "text/plain": [
       "<IPython.core.display.HTML object>"
      ]
     },
     "metadata": {},
     "output_type": "display_data"
    },
    {
     "data": {
      "text/html": [
       "<span class=\"tex2jax_ignore\"><div class=\"entities\" style=\"line-height: 2.5; direction: ltr\">The purpose of the study was to investigate adolescents' longitudinal development of intrinsic motivation in learning English and mathematics, focusing on gender differences and school characteristics. We used the \n",
       "<mark class=\"entity\" style=\"background: #fab1a0; padding: 0.45em 0.6em; margin: 0 0.25em; line-height: 1; border-radius: 0.35em;\">\n",
       "    fiveyear\n",
       "    <span style=\"font-size: 0.8em; font-weight: bold; line-height: 1; border-radius: 0.35em; vertical-align: middle; margin-left: 0.5rem\">SAMPLE_SIZE</span>\n",
       "</mark>\n",
       " panel data of the Korea Education Longitudinal Study (KELS) from middle school 7th grade to high school 11th grade. English intrinsic motivation decreased during the middle school years but increased during high school years whereas math intrinsic motivation continually decreased across the whole of the years. Gender differences by subject existed in intrinsic motivations: girls' higher intrinsic motivation in English and boys' higher intrinsic motivation in math; boys' faster decrease in intrinsic motivations during middle school years; boys' slower increase in English intrinsic motivation during high school years. School characteristics only had an effect on intrinsic motivations for high school students: higher math intrinsic motivation of high schools in smallmedium cities; higher intrinsic motivations of students on elite academic tracks.</div></span>"
      ],
      "text/plain": [
       "<IPython.core.display.HTML object>"
      ]
     },
     "metadata": {},
     "output_type": "display_data"
    },
    {
     "data": {
      "text/html": [
       "<span class=\"tex2jax_ignore\"><div class=\"entities\" style=\"line-height: 2.5; direction: ltr\">Background. The multidimensionality of the academic self-concept in terms of domain specificity has been well established in previous studies, whereas its multidimensionality in terms of motivational functions (the so-called affect-competence separation) needs further examination. Aim. This study aims at exploring differential effects of enjoyment and competence beliefs on two external validity criteria in the field of mathematics. Sample. Data analysed in this study were part of a large-scale longitudinal research project. Following a five-wave design, math enjoyment, math competence beliefs, math achievement, and perceived math effort expenditure measures were repeatedly collected from a cohort of \n",
       "<mark class=\"entity\" style=\"background: #fab1a0; padding: 0.45em 0.6em; margin: 0 0.25em; line-height: 1; border-radius: 0.35em;\">\n",
       "    4,724\n",
       "    <span style=\"font-size: 0.8em; font-weight: bold; line-height: 1; border-radius: 0.35em; vertical-align: middle; margin-left: 0.5rem\">SAMPLE_SIZE</span>\n",
       "</mark>\n",
       " pupils in Grades 3-7. Method. Confirmatory factor analysis (CFA) was used to test the internal factor structure of the math self-concept. Additionally, a series of nested models was tested using structural equation modelling to examine longitudinal reciprocal interrelations between math competence beliefs and math enjoyment on the one hand and math achievement and perceived math effort expenditure on the other.</div></span>"
      ],
      "text/plain": [
       "<IPython.core.display.HTML object>"
      ]
     },
     "metadata": {},
     "output_type": "display_data"
    },
    {
     "data": {
      "text/html": [
       "<span class=\"tex2jax_ignore\"><div class=\"entities\" style=\"line-height: 2.5; direction: ltr\">Teachers differ in their tendency to prefer temporal comparisons (temporal reference norm orientation, TO) and social comparisons (social reference norm orientation, SO) when judging students' achievements. A TO was postulated to enhance students' motivational beliefs. We used a longitudinal sample of \n",
       "<mark class=\"entity\" style=\"background: #fab1a0; padding: 0.45em 0.6em; margin: 0 0.25em; line-height: 1; border-radius: 0.35em;\">\n",
       "    1 641 students\n",
       "    <span style=\"font-size: 0.8em; font-weight: bold; line-height: 1; border-radius: 0.35em; vertical-align: middle; margin-left: 0.5rem\">SAMPLE_SIZE</span>\n",
       "</mark>\n",
       " (69 mathematics classes) from comprehensive secondary schools (Gymnasium) across grades 5 and 6 to test this hypothesis. Students' mathematical self-concepts and their implicit theory of math ability as incremental were assessed at each point of measurement. Their math teachers' TO and SO were assessed using aggregated students' ratings. Growth curve modeling showed a decline in students' self-concepts and their implicit theory. Between-class differences in the amount of decline were associated with teachers' reference norm orientations: TO was associated with a decelerated decline in students' self-concepts and implicit theory, SO with an accelerated decline. The SO effects on students' self-concept were more pronounced given lower students' achievement.</div></span>"
      ],
      "text/plain": [
       "<IPython.core.display.HTML object>"
      ]
     },
     "metadata": {},
     "output_type": "display_data"
    },
    {
     "data": {
      "text/html": [
       "<span class=\"tex2jax_ignore\"><div class=\"entities\" style=\"line-height: 2.5; direction: ltr\">Within the framework of stage-environment fit theory, the authors examined the contribution of family relations to adolescent outcomes concurrently and longitudinally, as well as the moderating effects of gender and ethnicity in these associations. Data came from a longitudinal study of European American and African American families from a range of socioeconomic backgrounds. Results demonstrated that gender and ethnicity influenced both the level and rate of change in family relations and adolescent outcomes. Family relations contributed either concurrently or longitudinally to \n",
       "<mark class=\"entity\" style=\"background: #fab1a0; padding: 0.45em 0.6em; margin: 0 0.25em; line-height: 1; border-radius: 0.35em;\">\n",
       "    at least 1\n",
       "    <span style=\"font-size: 0.8em; font-weight: bold; line-height: 1; border-radius: 0.35em; vertical-align: middle; margin-left: 0.5rem\">SAMPLE_SIZE</span>\n",
       "</mark>\n",
       " of the adolescent outcomes. The effects of gender and ethnic moderation differed according to both the time frame and the outcome assessed.</div></span>"
      ],
      "text/plain": [
       "<IPython.core.display.HTML object>"
      ]
     },
     "metadata": {},
     "output_type": "display_data"
    },
    {
     "data": {
      "text/html": [
       "<span class=\"tex2jax_ignore\"><div class=\"entities\" style=\"line-height: 2.5; direction: ltr\">This study examines reciprocal effects between self-concept and achievement by considering a long time span covering grades 5 through 9. Extending previous research on the reciprocal effects model (REM), this study tests (1) the assumption of developmental equilibrium as time-invariant crosslagged paths from self-concept to achievement and from achievement to self-concept, (2) the generalizability of reciprocal relations when using school grades and standardized achievement test scores as achievement indicators, and (3) the invariance of findings across secondary school achievement tracks. Math self-concept, school grades in math, and math achievement test scores were measured once each school year with a representative sample of \n",
       "<mark class=\"entity\" style=\"background: #fab1a0; padding: 0.45em 0.6em; margin: 0 0.25em; line-height: 1; border-radius: 0.35em;\">\n",
       "    3,425 German students\n",
       "    <span style=\"font-size: 0.8em; font-weight: bold; line-height: 1; border-radius: 0.35em; vertical-align: middle; margin-left: 0.5rem\">SAMPLE_SIZE</span>\n",
       "</mark>\n",
       ". Students' gender, IQ, and socioeconomic status (SES) were controlled in all analyses. The findings supported the assumption of developmental equilibrium for reciprocal effects between self-concept and achievement across time. The pattern of results was found to be invariant across students attending different achievement tracks and could be replicated when using school grades and achievement test scores in separate and in combined models. The findings of this study thus underscore the generalizability and robustness of the REM.</div></span>"
      ],
      "text/plain": [
       "<IPython.core.display.HTML object>"
      ]
     },
     "metadata": {},
     "output_type": "display_data"
    },
    {
     "data": {
      "text/html": [
       "<span class=\"tex2jax_ignore\"><div class=\"entities\" style=\"line-height: 2.5; direction: ltr\">Declines in students' achievement motivation across the transition to middle school may be explained by characteristics of both the academic and social environment of the new school. This study proposes that students' sense of belonging in middle school and their endorsement of social responsibility, relationship, and status goals in that setting should explain, in part, changes in their achievement goal orientations between 5th and 6th grades. Longitudinal survey data from \n",
       "<mark class=\"entity\" style=\"background: #fab1a0; padding: 0.45em 0.6em; margin: 0 0.25em; line-height: 1; border-radius: 0.35em;\">\n",
       "    660\n",
       "    <span style=\"font-size: 0.8em; font-weight: bold; line-height: 1; border-radius: 0.35em; vertical-align: middle; margin-left: 0.5rem\">SAMPLE_SIZE</span>\n",
       "</mark>\n",
       " students indicated that, on average, endorsement of personal task goals declined, whereas endorsement of ability goals increased across the transition. Increases in task goal orientation were associated with perceiving both a task and an ability goal structure in 6th grade classes, along with sense of school belonging, and endorsing responsibility goals. Increases in ability goal orientation were associated positively with perceiving an ability goal structure in classes, with relationship and status goals, and negatively with school belonging.</div></span>"
      ],
      "text/plain": [
       "<IPython.core.display.HTML object>"
      ]
     },
     "metadata": {},
     "output_type": "display_data"
    },
    {
     "ename": "KeyboardInterrupt",
     "evalue": "",
     "output_type": "error",
     "traceback": [
      "\u001b[0;31m---------------------------------------------------------------------------\u001b[0m",
      "\u001b[0;31mKeyboardInterrupt\u001b[0m                         Traceback (most recent call last)",
      "\u001b[0;32m/var/folders/64/x32rfnbd78n2jj1z9x_tgx9h0000gn/T/ipykernel_49798/1463529815.py\u001b[0m in \u001b[0;36m<module>\u001b[0;34m\u001b[0m\n\u001b[1;32m      7\u001b[0m     \u001b[0mtext\u001b[0m \u001b[0;34m=\u001b[0m \u001b[0mstr\u001b[0m\u001b[0;34m(\u001b[0m\u001b[0mjson_files\u001b[0m\u001b[0;34m[\u001b[0m\u001b[0mi\u001b[0m\u001b[0;34m]\u001b[0m\u001b[0;34m[\u001b[0m\u001b[0;34m'abstract'\u001b[0m\u001b[0;34m]\u001b[0m\u001b[0;34m)\u001b[0m\u001b[0;34m\u001b[0m\u001b[0;34m\u001b[0m\u001b[0m\n\u001b[1;32m      8\u001b[0m     \u001b[0;32mif\u001b[0m \u001b[0;34m(\u001b[0m\u001b[0mlen\u001b[0m\u001b[0;34m(\u001b[0m\u001b[0mtext\u001b[0m\u001b[0;34m)\u001b[0m \u001b[0;34m>\u001b[0m \u001b[0;36m0\u001b[0m\u001b[0;34m)\u001b[0m\u001b[0;34m:\u001b[0m\u001b[0;34m\u001b[0m\u001b[0;34m\u001b[0m\u001b[0m\n\u001b[0;32m----> 9\u001b[0;31m         \u001b[0mres\u001b[0m \u001b[0;34m=\u001b[0m \u001b[0mget_entity\u001b[0m\u001b[0;34m(\u001b[0m\u001b[0mtext\u001b[0m\u001b[0;34m,\u001b[0m \u001b[0;34m'What is the sample size?'\u001b[0m\u001b[0;34m)\u001b[0m\u001b[0;34m\u001b[0m\u001b[0;34m\u001b[0m\u001b[0m\n\u001b[0m\u001b[1;32m     10\u001b[0m         \u001b[0mdoc\u001b[0m \u001b[0;34m=\u001b[0m \u001b[0mnlp\u001b[0m\u001b[0;34m(\u001b[0m\u001b[0mtext\u001b[0m\u001b[0;34m)\u001b[0m\u001b[0;34m\u001b[0m\u001b[0;34m\u001b[0m\u001b[0m\n\u001b[1;32m     11\u001b[0m         \u001b[0mspan\u001b[0m \u001b[0;34m=\u001b[0m \u001b[0mdoc\u001b[0m\u001b[0;34m.\u001b[0m\u001b[0mchar_span\u001b[0m\u001b[0;34m(\u001b[0m\u001b[0mres\u001b[0m\u001b[0;34m[\u001b[0m\u001b[0;34m'start'\u001b[0m\u001b[0;34m]\u001b[0m\u001b[0;34m,\u001b[0m \u001b[0mres\u001b[0m\u001b[0;34m[\u001b[0m\u001b[0;34m'end'\u001b[0m\u001b[0;34m]\u001b[0m\u001b[0;34m,\u001b[0m \u001b[0;34m\"SAMPLE_SIZE\"\u001b[0m\u001b[0;34m)\u001b[0m\u001b[0;34m\u001b[0m\u001b[0;34m\u001b[0m\u001b[0m\n",
      "\u001b[0;32m/var/folders/64/x32rfnbd78n2jj1z9x_tgx9h0000gn/T/ipykernel_49798/2980031788.py\u001b[0m in \u001b[0;36mget_entity\u001b[0;34m(text, question)\u001b[0m\n\u001b[1;32m      5\u001b[0m \u001b[0;34m\u001b[0m\u001b[0m\n\u001b[1;32m      6\u001b[0m \u001b[0;32mdef\u001b[0m \u001b[0mget_entity\u001b[0m\u001b[0;34m(\u001b[0m\u001b[0mtext\u001b[0m\u001b[0;34m,\u001b[0m \u001b[0mquestion\u001b[0m\u001b[0;34m)\u001b[0m\u001b[0;34m:\u001b[0m\u001b[0;34m\u001b[0m\u001b[0;34m\u001b[0m\u001b[0m\n\u001b[0;32m----> 7\u001b[0;31m     \u001b[0;32mreturn\u001b[0m \u001b[0mpipe\u001b[0m\u001b[0;34m(\u001b[0m\u001b[0;34m{\u001b[0m \u001b[0;34m'context'\u001b[0m\u001b[0;34m:\u001b[0m \u001b[0mtext\u001b[0m\u001b[0;34m,\u001b[0m \u001b[0;34m'question'\u001b[0m\u001b[0;34m:\u001b[0m \u001b[0mquestion\u001b[0m \u001b[0;34m}\u001b[0m\u001b[0;34m)\u001b[0m\u001b[0;34m\u001b[0m\u001b[0;34m\u001b[0m\u001b[0m\n\u001b[0m\u001b[1;32m      8\u001b[0m \u001b[0;34m\u001b[0m\u001b[0m\n",
      "\u001b[0;32m~/Documents/semester-project/models/venv/lib/python3.9/site-packages/transformers/pipelines/question_answering.py\u001b[0m in \u001b[0;36m__call__\u001b[0;34m(self, *args, **kwargs)\u001b[0m\n\u001b[1;32m    317\u001b[0m                         \u001b[0;31m# On Windows, the default int type in numpy is np.int32 so we get some non-long tensors.\u001b[0m\u001b[0;34m\u001b[0m\u001b[0;34m\u001b[0m\u001b[0;34m\u001b[0m\u001b[0m\n\u001b[1;32m    318\u001b[0m                         \u001b[0mfw_args\u001b[0m \u001b[0;34m=\u001b[0m \u001b[0;34m{\u001b[0m\u001b[0mk\u001b[0m\u001b[0;34m:\u001b[0m \u001b[0mv\u001b[0m\u001b[0;34m.\u001b[0m\u001b[0mlong\u001b[0m\u001b[0;34m(\u001b[0m\u001b[0;34m)\u001b[0m \u001b[0;32mif\u001b[0m \u001b[0mv\u001b[0m\u001b[0;34m.\u001b[0m\u001b[0mdtype\u001b[0m \u001b[0;34m==\u001b[0m \u001b[0mtorch\u001b[0m\u001b[0;34m.\u001b[0m\u001b[0mint32\u001b[0m \u001b[0;32melse\u001b[0m \u001b[0mv\u001b[0m \u001b[0;32mfor\u001b[0m \u001b[0;34m(\u001b[0m\u001b[0mk\u001b[0m\u001b[0;34m,\u001b[0m \u001b[0mv\u001b[0m\u001b[0;34m)\u001b[0m \u001b[0;32min\u001b[0m \u001b[0mfw_args\u001b[0m\u001b[0;34m.\u001b[0m\u001b[0mitems\u001b[0m\u001b[0;34m(\u001b[0m\u001b[0;34m)\u001b[0m\u001b[0;34m}\u001b[0m\u001b[0;34m\u001b[0m\u001b[0;34m\u001b[0m\u001b[0m\n\u001b[0;32m--> 319\u001b[0;31m                         \u001b[0mstart\u001b[0m\u001b[0;34m,\u001b[0m \u001b[0mend\u001b[0m \u001b[0;34m=\u001b[0m \u001b[0mself\u001b[0m\u001b[0;34m.\u001b[0m\u001b[0mmodel\u001b[0m\u001b[0;34m(\u001b[0m\u001b[0;34m**\u001b[0m\u001b[0mfw_args\u001b[0m\u001b[0;34m)\u001b[0m\u001b[0;34m[\u001b[0m\u001b[0;34m:\u001b[0m\u001b[0;36m2\u001b[0m\u001b[0;34m]\u001b[0m\u001b[0;34m\u001b[0m\u001b[0;34m\u001b[0m\u001b[0m\n\u001b[0m\u001b[1;32m    320\u001b[0m                         \u001b[0mstart\u001b[0m\u001b[0;34m,\u001b[0m \u001b[0mend\u001b[0m \u001b[0;34m=\u001b[0m \u001b[0mstart\u001b[0m\u001b[0;34m.\u001b[0m\u001b[0mcpu\u001b[0m\u001b[0;34m(\u001b[0m\u001b[0;34m)\u001b[0m\u001b[0;34m.\u001b[0m\u001b[0mnumpy\u001b[0m\u001b[0;34m(\u001b[0m\u001b[0;34m)\u001b[0m\u001b[0;34m,\u001b[0m \u001b[0mend\u001b[0m\u001b[0;34m.\u001b[0m\u001b[0mcpu\u001b[0m\u001b[0;34m(\u001b[0m\u001b[0;34m)\u001b[0m\u001b[0;34m.\u001b[0m\u001b[0mnumpy\u001b[0m\u001b[0;34m(\u001b[0m\u001b[0;34m)\u001b[0m\u001b[0;34m\u001b[0m\u001b[0;34m\u001b[0m\u001b[0m\n\u001b[1;32m    321\u001b[0m \u001b[0;34m\u001b[0m\u001b[0m\n",
      "\u001b[0;32m~/Documents/semester-project/models/venv/lib/python3.9/site-packages/torch/nn/modules/module.py\u001b[0m in \u001b[0;36m_call_impl\u001b[0;34m(self, *input, **kwargs)\u001b[0m\n\u001b[1;32m   1049\u001b[0m         if not (self._backward_hooks or self._forward_hooks or self._forward_pre_hooks or _global_backward_hooks\n\u001b[1;32m   1050\u001b[0m                 or _global_forward_hooks or _global_forward_pre_hooks):\n\u001b[0;32m-> 1051\u001b[0;31m             \u001b[0;32mreturn\u001b[0m \u001b[0mforward_call\u001b[0m\u001b[0;34m(\u001b[0m\u001b[0;34m*\u001b[0m\u001b[0minput\u001b[0m\u001b[0;34m,\u001b[0m \u001b[0;34m**\u001b[0m\u001b[0mkwargs\u001b[0m\u001b[0;34m)\u001b[0m\u001b[0;34m\u001b[0m\u001b[0;34m\u001b[0m\u001b[0m\n\u001b[0m\u001b[1;32m   1052\u001b[0m         \u001b[0;31m# Do not call functions when jit is used\u001b[0m\u001b[0;34m\u001b[0m\u001b[0;34m\u001b[0m\u001b[0;34m\u001b[0m\u001b[0m\n\u001b[1;32m   1053\u001b[0m         \u001b[0mfull_backward_hooks\u001b[0m\u001b[0;34m,\u001b[0m \u001b[0mnon_full_backward_hooks\u001b[0m \u001b[0;34m=\u001b[0m \u001b[0;34m[\u001b[0m\u001b[0;34m]\u001b[0m\u001b[0;34m,\u001b[0m \u001b[0;34m[\u001b[0m\u001b[0;34m]\u001b[0m\u001b[0;34m\u001b[0m\u001b[0;34m\u001b[0m\u001b[0m\n",
      "\u001b[0;32m~/Documents/semester-project/models/venv/lib/python3.9/site-packages/transformers/models/roberta/modeling_roberta.py\u001b[0m in \u001b[0;36mforward\u001b[0;34m(self, input_ids, attention_mask, token_type_ids, position_ids, head_mask, inputs_embeds, start_positions, end_positions, output_attentions, output_hidden_states, return_dict)\u001b[0m\n\u001b[1;32m   1501\u001b[0m         \u001b[0mreturn_dict\u001b[0m \u001b[0;34m=\u001b[0m \u001b[0mreturn_dict\u001b[0m \u001b[0;32mif\u001b[0m \u001b[0mreturn_dict\u001b[0m \u001b[0;32mis\u001b[0m \u001b[0;32mnot\u001b[0m \u001b[0;32mNone\u001b[0m \u001b[0;32melse\u001b[0m \u001b[0mself\u001b[0m\u001b[0;34m.\u001b[0m\u001b[0mconfig\u001b[0m\u001b[0;34m.\u001b[0m\u001b[0muse_return_dict\u001b[0m\u001b[0;34m\u001b[0m\u001b[0;34m\u001b[0m\u001b[0m\n\u001b[1;32m   1502\u001b[0m \u001b[0;34m\u001b[0m\u001b[0m\n\u001b[0;32m-> 1503\u001b[0;31m         outputs = self.roberta(\n\u001b[0m\u001b[1;32m   1504\u001b[0m             \u001b[0minput_ids\u001b[0m\u001b[0;34m,\u001b[0m\u001b[0;34m\u001b[0m\u001b[0;34m\u001b[0m\u001b[0m\n\u001b[1;32m   1505\u001b[0m             \u001b[0mattention_mask\u001b[0m\u001b[0;34m=\u001b[0m\u001b[0mattention_mask\u001b[0m\u001b[0;34m,\u001b[0m\u001b[0;34m\u001b[0m\u001b[0;34m\u001b[0m\u001b[0m\n",
      "\u001b[0;32m~/Documents/semester-project/models/venv/lib/python3.9/site-packages/torch/nn/modules/module.py\u001b[0m in \u001b[0;36m_call_impl\u001b[0;34m(self, *input, **kwargs)\u001b[0m\n\u001b[1;32m   1049\u001b[0m         if not (self._backward_hooks or self._forward_hooks or self._forward_pre_hooks or _global_backward_hooks\n\u001b[1;32m   1050\u001b[0m                 or _global_forward_hooks or _global_forward_pre_hooks):\n\u001b[0;32m-> 1051\u001b[0;31m             \u001b[0;32mreturn\u001b[0m \u001b[0mforward_call\u001b[0m\u001b[0;34m(\u001b[0m\u001b[0;34m*\u001b[0m\u001b[0minput\u001b[0m\u001b[0;34m,\u001b[0m \u001b[0;34m**\u001b[0m\u001b[0mkwargs\u001b[0m\u001b[0;34m)\u001b[0m\u001b[0;34m\u001b[0m\u001b[0;34m\u001b[0m\u001b[0m\n\u001b[0m\u001b[1;32m   1052\u001b[0m         \u001b[0;31m# Do not call functions when jit is used\u001b[0m\u001b[0;34m\u001b[0m\u001b[0;34m\u001b[0m\u001b[0;34m\u001b[0m\u001b[0m\n\u001b[1;32m   1053\u001b[0m         \u001b[0mfull_backward_hooks\u001b[0m\u001b[0;34m,\u001b[0m \u001b[0mnon_full_backward_hooks\u001b[0m \u001b[0;34m=\u001b[0m \u001b[0;34m[\u001b[0m\u001b[0;34m]\u001b[0m\u001b[0;34m,\u001b[0m \u001b[0;34m[\u001b[0m\u001b[0;34m]\u001b[0m\u001b[0;34m\u001b[0m\u001b[0;34m\u001b[0m\u001b[0m\n",
      "\u001b[0;32m~/Documents/semester-project/models/venv/lib/python3.9/site-packages/transformers/models/roberta/modeling_roberta.py\u001b[0m in \u001b[0;36mforward\u001b[0;34m(self, input_ids, attention_mask, token_type_ids, position_ids, head_mask, inputs_embeds, encoder_hidden_states, encoder_attention_mask, past_key_values, use_cache, output_attentions, output_hidden_states, return_dict)\u001b[0m\n\u001b[1;32m    841\u001b[0m             \u001b[0mpast_key_values_length\u001b[0m\u001b[0;34m=\u001b[0m\u001b[0mpast_key_values_length\u001b[0m\u001b[0;34m,\u001b[0m\u001b[0;34m\u001b[0m\u001b[0;34m\u001b[0m\u001b[0m\n\u001b[1;32m    842\u001b[0m         )\n\u001b[0;32m--> 843\u001b[0;31m         encoder_outputs = self.encoder(\n\u001b[0m\u001b[1;32m    844\u001b[0m             \u001b[0membedding_output\u001b[0m\u001b[0;34m,\u001b[0m\u001b[0;34m\u001b[0m\u001b[0;34m\u001b[0m\u001b[0m\n\u001b[1;32m    845\u001b[0m             \u001b[0mattention_mask\u001b[0m\u001b[0;34m=\u001b[0m\u001b[0mextended_attention_mask\u001b[0m\u001b[0;34m,\u001b[0m\u001b[0;34m\u001b[0m\u001b[0;34m\u001b[0m\u001b[0m\n",
      "\u001b[0;32m~/Documents/semester-project/models/venv/lib/python3.9/site-packages/torch/nn/modules/module.py\u001b[0m in \u001b[0;36m_call_impl\u001b[0;34m(self, *input, **kwargs)\u001b[0m\n\u001b[1;32m   1049\u001b[0m         if not (self._backward_hooks or self._forward_hooks or self._forward_pre_hooks or _global_backward_hooks\n\u001b[1;32m   1050\u001b[0m                 or _global_forward_hooks or _global_forward_pre_hooks):\n\u001b[0;32m-> 1051\u001b[0;31m             \u001b[0;32mreturn\u001b[0m \u001b[0mforward_call\u001b[0m\u001b[0;34m(\u001b[0m\u001b[0;34m*\u001b[0m\u001b[0minput\u001b[0m\u001b[0;34m,\u001b[0m \u001b[0;34m**\u001b[0m\u001b[0mkwargs\u001b[0m\u001b[0;34m)\u001b[0m\u001b[0;34m\u001b[0m\u001b[0;34m\u001b[0m\u001b[0m\n\u001b[0m\u001b[1;32m   1052\u001b[0m         \u001b[0;31m# Do not call functions when jit is used\u001b[0m\u001b[0;34m\u001b[0m\u001b[0;34m\u001b[0m\u001b[0;34m\u001b[0m\u001b[0m\n\u001b[1;32m   1053\u001b[0m         \u001b[0mfull_backward_hooks\u001b[0m\u001b[0;34m,\u001b[0m \u001b[0mnon_full_backward_hooks\u001b[0m \u001b[0;34m=\u001b[0m \u001b[0;34m[\u001b[0m\u001b[0;34m]\u001b[0m\u001b[0;34m,\u001b[0m \u001b[0;34m[\u001b[0m\u001b[0;34m]\u001b[0m\u001b[0;34m\u001b[0m\u001b[0;34m\u001b[0m\u001b[0m\n",
      "\u001b[0;32m~/Documents/semester-project/models/venv/lib/python3.9/site-packages/transformers/models/roberta/modeling_roberta.py\u001b[0m in \u001b[0;36mforward\u001b[0;34m(self, hidden_states, attention_mask, head_mask, encoder_hidden_states, encoder_attention_mask, past_key_values, use_cache, output_attentions, output_hidden_states, return_dict)\u001b[0m\n\u001b[1;32m    520\u001b[0m                 )\n\u001b[1;32m    521\u001b[0m             \u001b[0;32melse\u001b[0m\u001b[0;34m:\u001b[0m\u001b[0;34m\u001b[0m\u001b[0;34m\u001b[0m\u001b[0m\n\u001b[0;32m--> 522\u001b[0;31m                 layer_outputs = layer_module(\n\u001b[0m\u001b[1;32m    523\u001b[0m                     \u001b[0mhidden_states\u001b[0m\u001b[0;34m,\u001b[0m\u001b[0;34m\u001b[0m\u001b[0;34m\u001b[0m\u001b[0m\n\u001b[1;32m    524\u001b[0m                     \u001b[0mattention_mask\u001b[0m\u001b[0;34m,\u001b[0m\u001b[0;34m\u001b[0m\u001b[0;34m\u001b[0m\u001b[0m\n",
      "\u001b[0;32m~/Documents/semester-project/models/venv/lib/python3.9/site-packages/torch/nn/modules/module.py\u001b[0m in \u001b[0;36m_call_impl\u001b[0;34m(self, *input, **kwargs)\u001b[0m\n\u001b[1;32m   1049\u001b[0m         if not (self._backward_hooks or self._forward_hooks or self._forward_pre_hooks or _global_backward_hooks\n\u001b[1;32m   1050\u001b[0m                 or _global_forward_hooks or _global_forward_pre_hooks):\n\u001b[0;32m-> 1051\u001b[0;31m             \u001b[0;32mreturn\u001b[0m \u001b[0mforward_call\u001b[0m\u001b[0;34m(\u001b[0m\u001b[0;34m*\u001b[0m\u001b[0minput\u001b[0m\u001b[0;34m,\u001b[0m \u001b[0;34m**\u001b[0m\u001b[0mkwargs\u001b[0m\u001b[0;34m)\u001b[0m\u001b[0;34m\u001b[0m\u001b[0;34m\u001b[0m\u001b[0m\n\u001b[0m\u001b[1;32m   1052\u001b[0m         \u001b[0;31m# Do not call functions when jit is used\u001b[0m\u001b[0;34m\u001b[0m\u001b[0;34m\u001b[0m\u001b[0;34m\u001b[0m\u001b[0m\n\u001b[1;32m   1053\u001b[0m         \u001b[0mfull_backward_hooks\u001b[0m\u001b[0;34m,\u001b[0m \u001b[0mnon_full_backward_hooks\u001b[0m \u001b[0;34m=\u001b[0m \u001b[0;34m[\u001b[0m\u001b[0;34m]\u001b[0m\u001b[0;34m,\u001b[0m \u001b[0;34m[\u001b[0m\u001b[0;34m]\u001b[0m\u001b[0;34m\u001b[0m\u001b[0;34m\u001b[0m\u001b[0m\n",
      "\u001b[0;32m~/Documents/semester-project/models/venv/lib/python3.9/site-packages/transformers/models/roberta/modeling_roberta.py\u001b[0m in \u001b[0;36mforward\u001b[0;34m(self, hidden_states, attention_mask, head_mask, encoder_hidden_states, encoder_attention_mask, past_key_value, output_attentions)\u001b[0m\n\u001b[1;32m    447\u001b[0m             \u001b[0mpresent_key_value\u001b[0m \u001b[0;34m=\u001b[0m \u001b[0mpresent_key_value\u001b[0m \u001b[0;34m+\u001b[0m \u001b[0mcross_attn_present_key_value\u001b[0m\u001b[0;34m\u001b[0m\u001b[0;34m\u001b[0m\u001b[0m\n\u001b[1;32m    448\u001b[0m \u001b[0;34m\u001b[0m\u001b[0m\n\u001b[0;32m--> 449\u001b[0;31m         layer_output = apply_chunking_to_forward(\n\u001b[0m\u001b[1;32m    450\u001b[0m             \u001b[0mself\u001b[0m\u001b[0;34m.\u001b[0m\u001b[0mfeed_forward_chunk\u001b[0m\u001b[0;34m,\u001b[0m \u001b[0mself\u001b[0m\u001b[0;34m.\u001b[0m\u001b[0mchunk_size_feed_forward\u001b[0m\u001b[0;34m,\u001b[0m \u001b[0mself\u001b[0m\u001b[0;34m.\u001b[0m\u001b[0mseq_len_dim\u001b[0m\u001b[0;34m,\u001b[0m \u001b[0mattention_output\u001b[0m\u001b[0;34m\u001b[0m\u001b[0;34m\u001b[0m\u001b[0m\n\u001b[1;32m    451\u001b[0m         )\n",
      "\u001b[0;32m~/Documents/semester-project/models/venv/lib/python3.9/site-packages/transformers/modeling_utils.py\u001b[0m in \u001b[0;36mapply_chunking_to_forward\u001b[0;34m(forward_fn, chunk_size, chunk_dim, *input_tensors)\u001b[0m\n\u001b[1;32m   2194\u001b[0m         \u001b[0;32mreturn\u001b[0m \u001b[0mtorch\u001b[0m\u001b[0;34m.\u001b[0m\u001b[0mcat\u001b[0m\u001b[0;34m(\u001b[0m\u001b[0moutput_chunks\u001b[0m\u001b[0;34m,\u001b[0m \u001b[0mdim\u001b[0m\u001b[0;34m=\u001b[0m\u001b[0mchunk_dim\u001b[0m\u001b[0;34m)\u001b[0m\u001b[0;34m\u001b[0m\u001b[0;34m\u001b[0m\u001b[0m\n\u001b[1;32m   2195\u001b[0m \u001b[0;34m\u001b[0m\u001b[0m\n\u001b[0;32m-> 2196\u001b[0;31m     \u001b[0;32mreturn\u001b[0m \u001b[0mforward_fn\u001b[0m\u001b[0;34m(\u001b[0m\u001b[0;34m*\u001b[0m\u001b[0minput_tensors\u001b[0m\u001b[0;34m)\u001b[0m\u001b[0;34m\u001b[0m\u001b[0;34m\u001b[0m\u001b[0m\n\u001b[0m",
      "\u001b[0;32m~/Documents/semester-project/models/venv/lib/python3.9/site-packages/transformers/models/roberta/modeling_roberta.py\u001b[0m in \u001b[0;36mfeed_forward_chunk\u001b[0;34m(self, attention_output)\u001b[0m\n\u001b[1;32m    460\u001b[0m     \u001b[0;32mdef\u001b[0m \u001b[0mfeed_forward_chunk\u001b[0m\u001b[0;34m(\u001b[0m\u001b[0mself\u001b[0m\u001b[0;34m,\u001b[0m \u001b[0mattention_output\u001b[0m\u001b[0;34m)\u001b[0m\u001b[0;34m:\u001b[0m\u001b[0;34m\u001b[0m\u001b[0;34m\u001b[0m\u001b[0m\n\u001b[1;32m    461\u001b[0m         \u001b[0mintermediate_output\u001b[0m \u001b[0;34m=\u001b[0m \u001b[0mself\u001b[0m\u001b[0;34m.\u001b[0m\u001b[0mintermediate\u001b[0m\u001b[0;34m(\u001b[0m\u001b[0mattention_output\u001b[0m\u001b[0;34m)\u001b[0m\u001b[0;34m\u001b[0m\u001b[0;34m\u001b[0m\u001b[0m\n\u001b[0;32m--> 462\u001b[0;31m         \u001b[0mlayer_output\u001b[0m \u001b[0;34m=\u001b[0m \u001b[0mself\u001b[0m\u001b[0;34m.\u001b[0m\u001b[0moutput\u001b[0m\u001b[0;34m(\u001b[0m\u001b[0mintermediate_output\u001b[0m\u001b[0;34m,\u001b[0m \u001b[0mattention_output\u001b[0m\u001b[0;34m)\u001b[0m\u001b[0;34m\u001b[0m\u001b[0;34m\u001b[0m\u001b[0m\n\u001b[0m\u001b[1;32m    463\u001b[0m         \u001b[0;32mreturn\u001b[0m \u001b[0mlayer_output\u001b[0m\u001b[0;34m\u001b[0m\u001b[0;34m\u001b[0m\u001b[0m\n\u001b[1;32m    464\u001b[0m \u001b[0;34m\u001b[0m\u001b[0m\n",
      "\u001b[0;32m~/Documents/semester-project/models/venv/lib/python3.9/site-packages/torch/nn/modules/module.py\u001b[0m in \u001b[0;36m_call_impl\u001b[0;34m(self, *input, **kwargs)\u001b[0m\n\u001b[1;32m   1049\u001b[0m         if not (self._backward_hooks or self._forward_hooks or self._forward_pre_hooks or _global_backward_hooks\n\u001b[1;32m   1050\u001b[0m                 or _global_forward_hooks or _global_forward_pre_hooks):\n\u001b[0;32m-> 1051\u001b[0;31m             \u001b[0;32mreturn\u001b[0m \u001b[0mforward_call\u001b[0m\u001b[0;34m(\u001b[0m\u001b[0;34m*\u001b[0m\u001b[0minput\u001b[0m\u001b[0;34m,\u001b[0m \u001b[0;34m**\u001b[0m\u001b[0mkwargs\u001b[0m\u001b[0;34m)\u001b[0m\u001b[0;34m\u001b[0m\u001b[0;34m\u001b[0m\u001b[0m\n\u001b[0m\u001b[1;32m   1052\u001b[0m         \u001b[0;31m# Do not call functions when jit is used\u001b[0m\u001b[0;34m\u001b[0m\u001b[0;34m\u001b[0m\u001b[0;34m\u001b[0m\u001b[0m\n\u001b[1;32m   1053\u001b[0m         \u001b[0mfull_backward_hooks\u001b[0m\u001b[0;34m,\u001b[0m \u001b[0mnon_full_backward_hooks\u001b[0m \u001b[0;34m=\u001b[0m \u001b[0;34m[\u001b[0m\u001b[0;34m]\u001b[0m\u001b[0;34m,\u001b[0m \u001b[0;34m[\u001b[0m\u001b[0;34m]\u001b[0m\u001b[0;34m\u001b[0m\u001b[0;34m\u001b[0m\u001b[0m\n",
      "\u001b[0;32m~/Documents/semester-project/models/venv/lib/python3.9/site-packages/transformers/models/roberta/modeling_roberta.py\u001b[0m in \u001b[0;36mforward\u001b[0;34m(self, hidden_states, input_tensor)\u001b[0m\n\u001b[1;32m    374\u001b[0m \u001b[0;34m\u001b[0m\u001b[0m\n\u001b[1;32m    375\u001b[0m     \u001b[0;32mdef\u001b[0m \u001b[0mforward\u001b[0m\u001b[0;34m(\u001b[0m\u001b[0mself\u001b[0m\u001b[0;34m,\u001b[0m \u001b[0mhidden_states\u001b[0m\u001b[0;34m,\u001b[0m \u001b[0minput_tensor\u001b[0m\u001b[0;34m)\u001b[0m\u001b[0;34m:\u001b[0m\u001b[0;34m\u001b[0m\u001b[0;34m\u001b[0m\u001b[0m\n\u001b[0;32m--> 376\u001b[0;31m         \u001b[0mhidden_states\u001b[0m \u001b[0;34m=\u001b[0m \u001b[0mself\u001b[0m\u001b[0;34m.\u001b[0m\u001b[0mdense\u001b[0m\u001b[0;34m(\u001b[0m\u001b[0mhidden_states\u001b[0m\u001b[0;34m)\u001b[0m\u001b[0;34m\u001b[0m\u001b[0;34m\u001b[0m\u001b[0m\n\u001b[0m\u001b[1;32m    377\u001b[0m         \u001b[0mhidden_states\u001b[0m \u001b[0;34m=\u001b[0m \u001b[0mself\u001b[0m\u001b[0;34m.\u001b[0m\u001b[0mdropout\u001b[0m\u001b[0;34m(\u001b[0m\u001b[0mhidden_states\u001b[0m\u001b[0;34m)\u001b[0m\u001b[0;34m\u001b[0m\u001b[0;34m\u001b[0m\u001b[0m\n\u001b[1;32m    378\u001b[0m         \u001b[0mhidden_states\u001b[0m \u001b[0;34m=\u001b[0m \u001b[0mself\u001b[0m\u001b[0;34m.\u001b[0m\u001b[0mLayerNorm\u001b[0m\u001b[0;34m(\u001b[0m\u001b[0mhidden_states\u001b[0m \u001b[0;34m+\u001b[0m \u001b[0minput_tensor\u001b[0m\u001b[0;34m)\u001b[0m\u001b[0;34m\u001b[0m\u001b[0;34m\u001b[0m\u001b[0m\n",
      "\u001b[0;32m~/Documents/semester-project/models/venv/lib/python3.9/site-packages/torch/nn/modules/module.py\u001b[0m in \u001b[0;36m_call_impl\u001b[0;34m(self, *input, **kwargs)\u001b[0m\n\u001b[1;32m   1049\u001b[0m         if not (self._backward_hooks or self._forward_hooks or self._forward_pre_hooks or _global_backward_hooks\n\u001b[1;32m   1050\u001b[0m                 or _global_forward_hooks or _global_forward_pre_hooks):\n\u001b[0;32m-> 1051\u001b[0;31m             \u001b[0;32mreturn\u001b[0m \u001b[0mforward_call\u001b[0m\u001b[0;34m(\u001b[0m\u001b[0;34m*\u001b[0m\u001b[0minput\u001b[0m\u001b[0;34m,\u001b[0m \u001b[0;34m**\u001b[0m\u001b[0mkwargs\u001b[0m\u001b[0;34m)\u001b[0m\u001b[0;34m\u001b[0m\u001b[0;34m\u001b[0m\u001b[0m\n\u001b[0m\u001b[1;32m   1052\u001b[0m         \u001b[0;31m# Do not call functions when jit is used\u001b[0m\u001b[0;34m\u001b[0m\u001b[0;34m\u001b[0m\u001b[0;34m\u001b[0m\u001b[0m\n\u001b[1;32m   1053\u001b[0m         \u001b[0mfull_backward_hooks\u001b[0m\u001b[0;34m,\u001b[0m \u001b[0mnon_full_backward_hooks\u001b[0m \u001b[0;34m=\u001b[0m \u001b[0;34m[\u001b[0m\u001b[0;34m]\u001b[0m\u001b[0;34m,\u001b[0m \u001b[0;34m[\u001b[0m\u001b[0;34m]\u001b[0m\u001b[0;34m\u001b[0m\u001b[0;34m\u001b[0m\u001b[0m\n",
      "\u001b[0;32m~/Documents/semester-project/models/venv/lib/python3.9/site-packages/torch/nn/modules/linear.py\u001b[0m in \u001b[0;36mforward\u001b[0;34m(self, input)\u001b[0m\n\u001b[1;32m     94\u001b[0m \u001b[0;34m\u001b[0m\u001b[0m\n\u001b[1;32m     95\u001b[0m     \u001b[0;32mdef\u001b[0m \u001b[0mforward\u001b[0m\u001b[0;34m(\u001b[0m\u001b[0mself\u001b[0m\u001b[0;34m,\u001b[0m \u001b[0minput\u001b[0m\u001b[0;34m:\u001b[0m \u001b[0mTensor\u001b[0m\u001b[0;34m)\u001b[0m \u001b[0;34m->\u001b[0m \u001b[0mTensor\u001b[0m\u001b[0;34m:\u001b[0m\u001b[0;34m\u001b[0m\u001b[0;34m\u001b[0m\u001b[0m\n\u001b[0;32m---> 96\u001b[0;31m         \u001b[0;32mreturn\u001b[0m \u001b[0mF\u001b[0m\u001b[0;34m.\u001b[0m\u001b[0mlinear\u001b[0m\u001b[0;34m(\u001b[0m\u001b[0minput\u001b[0m\u001b[0;34m,\u001b[0m \u001b[0mself\u001b[0m\u001b[0;34m.\u001b[0m\u001b[0mweight\u001b[0m\u001b[0;34m,\u001b[0m \u001b[0mself\u001b[0m\u001b[0;34m.\u001b[0m\u001b[0mbias\u001b[0m\u001b[0;34m)\u001b[0m\u001b[0;34m\u001b[0m\u001b[0;34m\u001b[0m\u001b[0m\n\u001b[0m\u001b[1;32m     97\u001b[0m \u001b[0;34m\u001b[0m\u001b[0m\n\u001b[1;32m     98\u001b[0m     \u001b[0;32mdef\u001b[0m \u001b[0mextra_repr\u001b[0m\u001b[0;34m(\u001b[0m\u001b[0mself\u001b[0m\u001b[0;34m)\u001b[0m \u001b[0;34m->\u001b[0m \u001b[0mstr\u001b[0m\u001b[0;34m:\u001b[0m\u001b[0;34m\u001b[0m\u001b[0;34m\u001b[0m\u001b[0m\n",
      "\u001b[0;32m~/Documents/semester-project/models/venv/lib/python3.9/site-packages/torch/nn/functional.py\u001b[0m in \u001b[0;36mlinear\u001b[0;34m(input, weight, bias)\u001b[0m\n\u001b[1;32m   1845\u001b[0m     \u001b[0;32mif\u001b[0m \u001b[0mhas_torch_function_variadic\u001b[0m\u001b[0;34m(\u001b[0m\u001b[0minput\u001b[0m\u001b[0;34m,\u001b[0m \u001b[0mweight\u001b[0m\u001b[0;34m)\u001b[0m\u001b[0;34m:\u001b[0m\u001b[0;34m\u001b[0m\u001b[0;34m\u001b[0m\u001b[0m\n\u001b[1;32m   1846\u001b[0m         \u001b[0;32mreturn\u001b[0m \u001b[0mhandle_torch_function\u001b[0m\u001b[0;34m(\u001b[0m\u001b[0mlinear\u001b[0m\u001b[0;34m,\u001b[0m \u001b[0;34m(\u001b[0m\u001b[0minput\u001b[0m\u001b[0;34m,\u001b[0m \u001b[0mweight\u001b[0m\u001b[0;34m)\u001b[0m\u001b[0;34m,\u001b[0m \u001b[0minput\u001b[0m\u001b[0;34m,\u001b[0m \u001b[0mweight\u001b[0m\u001b[0;34m,\u001b[0m \u001b[0mbias\u001b[0m\u001b[0;34m=\u001b[0m\u001b[0mbias\u001b[0m\u001b[0;34m)\u001b[0m\u001b[0;34m\u001b[0m\u001b[0;34m\u001b[0m\u001b[0m\n\u001b[0;32m-> 1847\u001b[0;31m     \u001b[0;32mreturn\u001b[0m \u001b[0mtorch\u001b[0m\u001b[0;34m.\u001b[0m\u001b[0m_C\u001b[0m\u001b[0;34m.\u001b[0m\u001b[0m_nn\u001b[0m\u001b[0;34m.\u001b[0m\u001b[0mlinear\u001b[0m\u001b[0;34m(\u001b[0m\u001b[0minput\u001b[0m\u001b[0;34m,\u001b[0m \u001b[0mweight\u001b[0m\u001b[0;34m,\u001b[0m \u001b[0mbias\u001b[0m\u001b[0;34m)\u001b[0m\u001b[0;34m\u001b[0m\u001b[0;34m\u001b[0m\u001b[0m\n\u001b[0m\u001b[1;32m   1848\u001b[0m \u001b[0;34m\u001b[0m\u001b[0m\n\u001b[1;32m   1849\u001b[0m \u001b[0;34m\u001b[0m\u001b[0m\n",
      "\u001b[0;31mKeyboardInterrupt\u001b[0m: "
     ]
    }
   ],
   "source": [
    "from spacy.tokens import Span\n",
    "nlp=spacy.load(\"en_core_web_sm\") \n",
    "\n",
    "options = {\"ents\": ['SAMPLE_SIZE'], \"colors\": { 'SAMPLE_SIZE': '#fab1a0' }}\n",
    "\n",
    "for i in range(len(json_files)):\n",
    "    text = str(json_files[i]['abstract']) \n",
    "    if (len(text) > 0):\n",
    "        res = get_entity(text, 'What is the sample size?')\n",
    "        doc = nlp(text)\n",
    "        span = doc.char_span(res['start'], res['end'], \"SAMPLE_SIZE\")\n",
    "        doc.set_ents([Span(doc, span.start, span.end, \"SAMPLE_SIZE\")])\n",
    "        displacy.render(doc, style=\"ent\", options=options)"
   ]
  },
  {
   "cell_type": "code",
   "execution_count": 44,
   "id": "3a81cc3a",
   "metadata": {
    "scrolled": false
   },
   "outputs": [
    {
     "name": "stdout",
     "output_type": "stream",
     "text": [
      "{\n",
      "  \"id\": 0,\n",
      "  \"file\": \"../data/json/lazarides 2017.json\",\n",
      "  \"title\": \"Longitudinal Effects of Student-Perceived Classroom Support on Motivation -A Latent Change Model\",\n",
      "  \"sample_size\": \"1088\"\n",
      "},\n",
      "{\n",
      "  \"id\": 1,\n",
      "  \"file\": \"../data/json/Pajares _ Graham, 1999.json\",\n",
      "  \"title\": \"Self-Efficacy, Motivation Constructs, and Mathematics Performance of Entering Middle School Students\",\n",
      "  \"sample_size\": \"273\"\n",
      "},\n",
      "{\n",
      "  \"id\": 2,\n",
      "  \"file\": \"../data/json/Heo 2015.json\",\n",
      "  \"title\": \"Autoregressive Cross-Lagged Modeling of the Reciprocal Longitudinal Relationship Between Self-Esteem and Career Maturity\",\n",
      "  \"sample_size\": \"4\"\n",
      "},\n",
      "{\n",
      "  \"id\": 3,\n",
      "  \"file\": \"../data/json/mailtais_2017.json\",\n",
      "  \"title\": \"Learning climate, academic competence, and anxiety during the transition to middle school: Parental attachment as a protective factor\",\n",
      "  \"sample_size\": \"627\"\n",
      "},\n",
      "{\n",
      "  \"id\": 4,\n",
      "  \"file\": \"../data/json/Lazarides Rubach Ittel2017-1.json\",\n",
      "  \"title\": \"PARENTS AND MATHEMATICS CAREER PLANS 1 NOTE: This is the author's version of a work that was accepted for publication in Developmental Psychology. Changes resulting from the publishing process, such as peer review, editing, corrections, structural formatting, and other quality control mechanisms may not be reflected in this document. Changes may have been made to this work since it was submitted for publication. A definitive version was subsequently published in Developmental Psychology\",\n",
      "  \"sample_size\": \"475\"\n",
      "},\n",
      "{\n",
      "  \"id\": 5,\n",
      "  \"file\": \"../data/json/Viljaranta 2014.json\",\n",
      "  \"title\": \"The Developmental Dynamics between Interest, Self-concept of Ability, and Academic Performance\",\n",
      "  \"sample_size\": \"216\"\n",
      "},\n",
      "{\n",
      "  \"id\": 6,\n",
      "  \"file\": \"../data/json/daniels 2006.json\",\n",
      "  \"title\": \"A Longitudinal Investigation of Sport Participation, Peer Acceptance, and Self-esteem among Adolescent Girls and Boys\",\n",
      "  \"sample_size\": \"4,689\"\n",
      "},\n",
      "{\n",
      "  \"id\": 7,\n",
      "  \"file\": \"../data/json/parker 2010.json\",\n",
      "  \"title\": \"\",\n",
      "  \"sample_size\": \"78\"\n",
      "},\n",
      "{\n",
      "  \"id\": 8,\n",
      "  \"file\": \"../data/json/Marsh_et_al-1998-Child_Development.json\",\n",
      "  \"title\": \"Structure, Stability, and Development of Young Children's Self-Concepts: A Multicohort-Multioccasion Study\",\n",
      "  \"sample_size\": \"5-8\"\n",
      "},\n",
      "{\n",
      "  \"id\": 9,\n",
      "  \"file\": \"../data/json/steiger 2014.json\",\n",
      "  \"title\": \"Low and Decreasing Self-Esteem During Adolescence Predict Adult Depression Two Decades Later\",\n",
      "  \"sample_size\": \"23-year longitudinal study (N \\u03ed 1,527\"\n",
      "},\n",
      "{\n",
      "  \"id\": 10,\n",
      "  \"file\": \"../data/json/Zanobini_Usai2002.json\",\n",
      "  \"title\": \"Domain-specific Self-concept and Achieaement Motizsation in the Transition from Primary to Low Middle School\",\n",
      "  \"sample_size\": \"Ninetg-two\"\n",
      "},\n",
      "{\n",
      "  \"id\": 11,\n",
      "  \"file\": \"../data/json/Gniewosz 2011.json\",\n",
      "  \"title\": \"Secondary School Transition and the Use of Different Sources of Information for the Construction of the Academic Self-concepts ode_635 537..557\",\n",
      "  \"sample_size\": \"1953\"\n",
      "},\n",
      "{\n",
      "  \"id\": 12,\n",
      "  \"file\": \"../data/json/wigfield 1994.json\",\n",
      "  \"title\": \"Children's Competence Beliefs, Achievement Values, and General Self-Esteem Change Across Elementary and Middle School\",\n",
      "  \"sample_size\": \"3 years\"\n",
      "},\n",
      "{\n",
      "  \"id\": 13,\n",
      "  \"file\": \"../data/json/Bouffard_et_al-2003-British_Journal_of_Educational_Psychology.json\",\n",
      "  \"title\": \"Changes in self-perceptions of competence and intrinsic motivation among elementary schoolchildren\",\n",
      "  \"sample_size\": \"115\"\n",
      "},\n",
      "{\n",
      "  \"id\": 14,\n",
      "  \"file\": \"../data/json/wang 2012.json\",\n",
      "  \"title\": \"Social Support Matters: Longitudinal Effects of Social Support on Three Dimensions of School Engagement From Middle to High School\",\n",
      "  \"sample_size\": \"1,479\"\n",
      "},\n",
      "{\n",
      "  \"id\": 15,\n",
      "  \"file\": \"../data/json/Duchesne_2017.json\",\n",
      "  \"title\": \"Learning climate, academic competence, and anxiety during the transition to middle school: Parental attachment as a protective factor\",\n",
      "  \"sample_size\": \"627\"\n",
      "},\n",
      "{\n",
      "  \"id\": 17,\n",
      "  \"file\": \"../data/json/anderman 1997.json\",\n",
      "  \"title\": \"Changes in Achievement Goal Orientations, Perceived Academic Competence, and Grades across the Transition to Middle-Level Schools\",\n",
      "  \"sample_size\": \"341\"\n",
      "},\n",
      "{\n",
      "  \"id\": 18,\n",
      "  \"file\": \"../data/json/Impett 2011-PWQ-Impett-et-al.json\",\n",
      "  \"title\": \"Embodiment Feels Better: Girls' Body Objectification and Well-Being Across Adolescence\",\n",
      "  \"sample_size\": \"587\"\n",
      "},\n",
      "{\n",
      "  \"id\": 19,\n",
      "  \"file\": \"../data/json/Meece _ Miller, 2001.json\",\n",
      "  \"title\": \"A Longitudinal Analysis of Elementary School Students' Achievement Goals in Literacy Activities\",\n",
      "  \"sample_size\": \"432\"\n",
      "},\n",
      "{\n",
      "  \"id\": 20,\n",
      "  \"file\": \"../data/json/OtisGrouzetPelletier2005-JEP.json\",\n",
      "  \"title\": \"Latent Motivational Change in an Academic Setting: A 3-Year Longitudinal Study\",\n",
      "  \"sample_size\": \"646\"\n",
      "},\n",
      "{\n",
      "  \"id\": 21,\n",
      "  \"file\": \"../data/json/Bronstein 2005.json\",\n",
      "  \"title\": \"Parental Predictors of Motivational Orientation in Early Adolescence: A Longitudinal Study\",\n",
      "  \"sample_size\": \"5th\"\n",
      "},\n",
      "{\n",
      "  \"id\": 22,\n",
      "  \"file\": \"../data/json/Tetzner_et_al-2017-Journal_of_Personality.json\",\n",
      "  \"title\": \"Think Positive? Examining the Impact of Optimism on Academic Achievement in Early Adolescents\",\n",
      "  \"sample_size\": \"N 5 6,010\"\n",
      "},\n",
      "{\n",
      "  \"id\": 23,\n",
      "  \"file\": \"../data/json/young 1997.json\",\n",
      "  \"title\": \"I THINK, THEREFORE I'M MOTIVATED: THE RELATIONS AMONG COGNITIVE STRATEGY USE, MOTIVATIONAL ORIENTATION AND CLASSROOM PERCEPTIONS OVER TIME\",\n",
      "  \"sample_size\": \"306\"\n",
      "},\n",
      "{\n",
      "  \"id\": 24,\n",
      "  \"file\": \"../data/json/Musu-Gillette 2015.json\",\n",
      "  \"title\": \"Trajectories of change in students' self-concepts of ability and values in math and college major choice\",\n",
      "  \"sample_size\": \"421\"\n",
      "},\n",
      "{\n",
      "  \"id\": 25,\n",
      "  \"file\": \"../data/json/FriedelCortinaTurnerMidgley2010.json\",\n",
      "  \"title\": \"Changes in Efficacy Beliefs in Mathematics Across the Transition to Middle School: Examining the Effects of Perceived Teacher and Parent Goal Emphases\",\n",
      "  \"sample_size\": \"N \\u03ed 929\"\n",
      "},\n",
      "{\n",
      "  \"id\": 26,\n",
      "  \"file\": \"../data/json/Viljaranta 2015.json\",\n",
      "  \"title\": \"The Different Role of Mothers' and Fathers' Beliefs in the Development of Adolescents' Mathematics and Literacy Task Values\",\n",
      "  \"sample_size\": \"206\"\n",
      "},\n",
      "{\n",
      "  \"id\": 27,\n",
      "  \"file\": \"../data/json/jogi 2015.json\",\n",
      "  \"title\": \"Cross-lagged relations between math-related interest, performance goals and skills in groups of children with different general abilities \\u2606\",\n",
      "  \"sample_size\": \"790\"\n",
      "},\n",
      "{\n",
      "  \"id\": 28,\n",
      "  \"file\": \"../data/json/reyes 2000.json\",\n",
      "  \"title\": \"A Longitudinal Examination of the Transition into Senior High School for Adolescents from Urban, Low-Income Status, and Predominantly Minority Backgrounds 1\",\n",
      "  \"sample_size\": \"107\"\n",
      "},\n",
      "{\n",
      "  \"id\": 29,\n",
      "  \"file\": \"../data/json/NiepelBrunnerPreckel2014.json\",\n",
      "  \"title\": \"The Longitudinal Interplay of Students' Academic Self-Concepts and Achievements Within and Across Domains: Replicating and Extending the Reciprocal Internal/External Frame of Reference Model\",\n",
      "  \"sample_size\": \"2\"\n",
      "},\n",
      "{\n",
      "  \"id\": 30,\n",
      "  \"file\": \"../data/json/Gillen-O Neel _ Fuligni, 2013.json\",\n",
      "  \"title\": \"A Longitudinal Study of School Belonging and Academic Motivation Across High School\",\n",
      "  \"sample_size\": \"572\"\n",
      "},\n",
      "{\n",
      "  \"id\": 31,\n",
      "  \"file\": \"../data/json/Marsh _ Grayson, 1994.json\",\n",
      "  \"title\": \"Longitudinal Stability of Latent Means and Individual Differences: A Unified Approach\",\n",
      "  \"sample_size\": \"five\"\n",
      "},\n",
      "{\n",
      "  \"id\": 32,\n",
      "  \"file\": \"../data/json/Muldoon, 2000.json\",\n",
      "  \"title\": \"Social group membership and self-perceptions in Northern Irish children: A longitudinal study\",\n",
      "  \"sample_size\": \"110\"\n",
      "},\n",
      "{\n",
      "  \"id\": 33,\n",
      "  \"file\": \"../data/json/vasalampi 2010.json\",\n",
      "  \"title\": \"Education-related goal appraisals and self-esteem during the transition to secondary education: A longitudinal study\",\n",
      "  \"sample_size\": \"Six hundred and seven\"\n",
      "},\n",
      "{\n",
      "  \"id\": 34,\n",
      "  \"file\": \"../data/json/chung 1998.json\",\n",
      "  \"title\": \"Patterns of Individual Adjustment Changes During Middle School Transition\",\n",
      "  \"sample_size\": \"99\"\n",
      "},\n",
      "{\n",
      "  \"id\": 35,\n",
      "  \"file\": \"../data/json/domrong 2009.json\",\n",
      "  \"title\": \"The study of growth between academic self-concept, nonacademic self-concept, and academic achievement of ninth-grade students: a multiple group analysis\",\n",
      "  \"sample_size\": \"820\"\n",
      "},\n",
      "{\n",
      "  \"id\": 36,\n",
      "  \"file\": \"../data/json/Riglin, 2013.json\",\n",
      "  \"title\": \"A longitudinal study of psychological functioning and academic attainment at the transition to secondary school\",\n",
      "  \"sample_size\": \"11.25 years\"\n",
      "},\n"
     ]
    },
    {
     "name": "stdout",
     "output_type": "stream",
     "text": [
      "{\n",
      "  \"id\": 37,\n",
      "  \"file\": \"../data/json/Wang_et_al-2009-Child_Development.json\",\n",
      "  \"title\": \"The Motivational Landscape of Early Adolescence in the United States and China: A Longitudinal Investigation\",\n",
      "  \"sample_size\": \"825\"\n",
      "},\n",
      "{\n",
      "  \"id\": 38,\n",
      "  \"file\": \"../data/json/Simpkins06.json\",\n",
      "  \"title\": \"Math and Science Motivation: A Longitudinal Examination of the Links Between Choices and Beliefs\",\n",
      "  \"sample_size\": \"227\"\n",
      "},\n",
      "{\n",
      "  \"id\": 40,\n",
      "  \"file\": \"../data/json/Salmela-Arp, 2016.json\",\n",
      "  \"title\": \"The Dark Side of Internet Use: Two Longitudinal Studies of Excessive Internet Use, Depressive Symptoms, School Burnout and Engagement Among Finnish Early and Late Adolescents\",\n",
      "  \"sample_size\": \"1702\"\n",
      "},\n",
      "{\n",
      "  \"id\": 41,\n",
      "  \"file\": \"../data/json/Birkeland 2012 Trajectories of global self-esteem development during adolescence.json\",\n",
      "  \"title\": \"Trajectories of global self-esteem development during adolescence\",\n",
      "  \"sample_size\": \"1083\"\n",
      "},\n",
      "{\n",
      "  \"id\": 42,\n",
      "  \"file\": \"../data/json/song 2015.json\",\n",
      "  \"title\": \"Longitudinal Investigation Into the Role of Perceived Social Support in Adolescents' Academic Motivation and Achievement\",\n",
      "  \"sample_size\": \"2\"\n",
      "},\n",
      "{\n",
      "  \"id\": 43,\n",
      "  \"file\": \"../data/json/Way 2003.json\",\n",
      "  \"title\": \"A Longitudinal Study of the Effects of Family, Friends, and School Experiences on the Psychological Adjustment of Ethnic Minority, Low-SES Adolescents\",\n",
      "  \"sample_size\": \"100\"\n",
      "},\n",
      "{\n",
      "  \"id\": 44,\n",
      "  \"file\": \"../data/json/nagy 2010.json\",\n",
      "  \"title\": \"The Development of Students' Mathematics Self-Concept in Relation to Gender: Different Countries, Different Trajectories?\",\n",
      "  \"sample_size\": \"three cultural settings: Australia (Sydney; N 5 1,333\"\n",
      "},\n",
      "{\n",
      "  \"id\": 45,\n",
      "  \"file\": \"../data/json/DesRoches 2014.json\",\n",
      "  \"title\": \"Bidirectional Associations Between Valued Activities and Adolescent Positive Adjustment in a Longitudinal Study: Positive Mood as a Mediator\",\n",
      "  \"sample_size\": \"2,270\"\n",
      "},\n",
      "{\n",
      "  \"id\": 46,\n",
      "  \"file\": \"../data/json/zimmermann 1997.json\",\n",
      "  \"title\": \"A Longitudinal Study of Self-Esteem: Implications for Adolescent Development\",\n",
      "  \"sample_size\": \"1,160\"\n",
      "},\n",
      "{\n",
      "  \"id\": 47,\n",
      "  \"file\": \"../data/json/liew 2008.json\",\n",
      "  \"title\": \"Adaptive and Effortful Control and Academic Self-efficacy Beliefs on Achievement: A Longitudinal Study of 1 st through 3 rd Graders\",\n",
      "  \"sample_size\": \"733\"\n",
      "},\n",
      "{\n",
      "  \"id\": 48,\n",
      "  \"file\": \"../data/json/Spinath,B_etal_(2005)_LI.json\",\n",
      "  \"title\": \"Longitudinal analysis of the link between learning motivation and competence beliefs among elementary school children\",\n",
      "  \"sample_size\": \"N Z 789\"\n",
      "},\n",
      "{\n",
      "  \"id\": 49,\n",
      "  \"file\": \"../data/json/benner Graham 2007.json\",\n",
      "  \"title\": \"Navigating the Transition to Multi-Ethnic Urban High Schools: Changing Ethnic Congruence and Adolescents' School-Related Affect\",\n",
      "  \"sample_size\": \"918\"\n",
      "},\n",
      "{\n",
      "  \"id\": 50,\n",
      "  \"file\": \"../data/json/Stroet 2014.json\",\n",
      "  \"title\": \"Educational Psychology: An International Journal of Experimental Educational Psychology\",\n",
      "  \"sample_size\": \"anyone\"\n",
      "},\n",
      "{\n",
      "  \"id\": 51,\n",
      "  \"file\": \"../data/json/Schmalz, 2007.json\",\n",
      "  \"title\": \"A Longitudinal Assessment of the Links Between Physical Activity and Self-Esteem in Early Adolescent Non-Hispanic Females\",\n",
      "  \"sample_size\": \"197\"\n",
      "},\n",
      "{\n",
      "  \"id\": 52,\n",
      "  \"file\": \"../data/json/Bouffard et al 2001.json\",\n",
      "  \"title\": \"Students' transition from elementary to high school and changes of the relationship between motivation and academic performance\",\n",
      "  \"sample_size\": \"336 students\"\n",
      "},\n",
      "{\n",
      "  \"id\": 53,\n",
      "  \"file\": \"../data/json/helmke 1995.json\",\n",
      "  \"title\": \"The Causal Ordering of Academic Achievement and Self-Concept of Ability During Elementary School: A Longitudinal Study\",\n",
      "  \"sample_size\": \"697\"\n",
      "},\n",
      "{\n",
      "  \"id\": 54,\n",
      "  \"file\": \"../data/json/Heinonen_et_al-2002-European_Journal_of_Personality.json\",\n",
      "  \"title\": \"Difficult Temperament Predicts Self-Esteem in Adolescence\",\n",
      "  \"sample_size\": \"\\u00bc 313\"\n",
      "},\n",
      "{\n",
      "  \"id\": 55,\n",
      "  \"file\": \"../data/json/wang 2012b.json\",\n",
      "  \"title\": \"Educational and Career Interests in Math: A Longitudinal Examination of the Links Between Classroom Environment, Motivational Beliefs, and Interests\",\n",
      "  \"sample_size\": \"3,048\"\n",
      "},\n",
      "{\n",
      "  \"id\": 56,\n",
      "  \"file\": \"../data/json/kolic-vehovec, 2014.json\",\n",
      "  \"title\": \"Development of Metacognitive Knowledge of Reading Strategies and Attitudes Toward Reading in Early Adolescence: The Effect on Reading Comprehension\",\n",
      "  \"sample_size\": \"175\"\n",
      "},\n",
      "{\n",
      "  \"id\": 57,\n",
      "  \"file\": \"../data/json/green 2006.json\",\n",
      "  \"title\": \"Trajectories of Perceived Adult and Peer Discrimination Among Black, Latino, and Asian American Adolescents: Patterns and Psychological Correlates\",\n",
      "  \"sample_size\": \"Black, Latino, and Asian American high school students\"\n",
      "},\n",
      "{\n",
      "  \"id\": 58,\n",
      "  \"file\": \"../data/json/shim ryan _ anderson 2008.json\",\n",
      "  \"title\": \"Achievement Goals and Achievement During Early Adolescence: Examining Time-Varying Predictor and Outcome Variables in Growth-Curve Analysis\",\n",
      "  \"sample_size\": \"588\"\n",
      "},\n"
     ]
    },
    {
     "ename": "KeyboardInterrupt",
     "evalue": "",
     "output_type": "error",
     "traceback": [
      "\u001b[0;31m---------------------------------------------------------------------------\u001b[0m",
      "\u001b[0;31mKeyboardInterrupt\u001b[0m                         Traceback (most recent call last)",
      "\u001b[0;32m/var/folders/64/x32rfnbd78n2jj1z9x_tgx9h0000gn/T/ipykernel_49798/227717490.py\u001b[0m in \u001b[0;36m<module>\u001b[0;34m\u001b[0m\n\u001b[1;32m     14\u001b[0m     \u001b[0mresult_score\u001b[0m \u001b[0;34m=\u001b[0m \u001b[0;36m0\u001b[0m\u001b[0;34m\u001b[0m\u001b[0;34m\u001b[0m\u001b[0m\n\u001b[1;32m     15\u001b[0m     \u001b[0;32mfor\u001b[0m \u001b[0mj\u001b[0m\u001b[0;34m,\u001b[0m \u001b[0mquestion\u001b[0m \u001b[0;32min\u001b[0m \u001b[0menumerate\u001b[0m\u001b[0;34m(\u001b[0m\u001b[0mquestions\u001b[0m\u001b[0;34m)\u001b[0m\u001b[0;34m:\u001b[0m\u001b[0;34m\u001b[0m\u001b[0;34m\u001b[0m\u001b[0m\n\u001b[0;32m---> 16\u001b[0;31m         \u001b[0mres\u001b[0m \u001b[0;34m=\u001b[0m \u001b[0mget_entity\u001b[0m\u001b[0;34m(\u001b[0m\u001b[0mcontext\u001b[0m\u001b[0;34m,\u001b[0m \u001b[0mquestion\u001b[0m\u001b[0;34m)\u001b[0m\u001b[0;34m\u001b[0m\u001b[0;34m\u001b[0m\u001b[0m\n\u001b[0m\u001b[1;32m     17\u001b[0m         \u001b[0mresults\u001b[0m\u001b[0;34m.\u001b[0m\u001b[0mappend\u001b[0m\u001b[0;34m(\u001b[0m\u001b[0mres\u001b[0m\u001b[0;34m)\u001b[0m\u001b[0;34m\u001b[0m\u001b[0;34m\u001b[0m\u001b[0m\n\u001b[1;32m     18\u001b[0m         \u001b[0;32mif\u001b[0m \u001b[0mres\u001b[0m\u001b[0;34m[\u001b[0m\u001b[0;34m'score'\u001b[0m\u001b[0;34m]\u001b[0m \u001b[0;34m>\u001b[0m \u001b[0mresult_score\u001b[0m\u001b[0;34m:\u001b[0m\u001b[0;34m\u001b[0m\u001b[0;34m\u001b[0m\u001b[0m\n",
      "\u001b[0;32m/var/folders/64/x32rfnbd78n2jj1z9x_tgx9h0000gn/T/ipykernel_49798/2980031788.py\u001b[0m in \u001b[0;36mget_entity\u001b[0;34m(text, question)\u001b[0m\n\u001b[1;32m      5\u001b[0m \u001b[0;34m\u001b[0m\u001b[0m\n\u001b[1;32m      6\u001b[0m \u001b[0;32mdef\u001b[0m \u001b[0mget_entity\u001b[0m\u001b[0;34m(\u001b[0m\u001b[0mtext\u001b[0m\u001b[0;34m,\u001b[0m \u001b[0mquestion\u001b[0m\u001b[0;34m)\u001b[0m\u001b[0;34m:\u001b[0m\u001b[0;34m\u001b[0m\u001b[0;34m\u001b[0m\u001b[0m\n\u001b[0;32m----> 7\u001b[0;31m     \u001b[0;32mreturn\u001b[0m \u001b[0mpipe\u001b[0m\u001b[0;34m(\u001b[0m\u001b[0;34m{\u001b[0m \u001b[0;34m'context'\u001b[0m\u001b[0;34m:\u001b[0m \u001b[0mtext\u001b[0m\u001b[0;34m,\u001b[0m \u001b[0;34m'question'\u001b[0m\u001b[0;34m:\u001b[0m \u001b[0mquestion\u001b[0m \u001b[0;34m}\u001b[0m\u001b[0;34m)\u001b[0m\u001b[0;34m\u001b[0m\u001b[0;34m\u001b[0m\u001b[0m\n\u001b[0m\u001b[1;32m      8\u001b[0m \u001b[0;34m\u001b[0m\u001b[0m\n",
      "\u001b[0;32m~/Documents/semester-project/models/venv/lib/python3.9/site-packages/transformers/pipelines/question_answering.py\u001b[0m in \u001b[0;36m__call__\u001b[0;34m(self, *args, **kwargs)\u001b[0m\n\u001b[1;32m    317\u001b[0m                         \u001b[0;31m# On Windows, the default int type in numpy is np.int32 so we get some non-long tensors.\u001b[0m\u001b[0;34m\u001b[0m\u001b[0;34m\u001b[0m\u001b[0;34m\u001b[0m\u001b[0m\n\u001b[1;32m    318\u001b[0m                         \u001b[0mfw_args\u001b[0m \u001b[0;34m=\u001b[0m \u001b[0;34m{\u001b[0m\u001b[0mk\u001b[0m\u001b[0;34m:\u001b[0m \u001b[0mv\u001b[0m\u001b[0;34m.\u001b[0m\u001b[0mlong\u001b[0m\u001b[0;34m(\u001b[0m\u001b[0;34m)\u001b[0m \u001b[0;32mif\u001b[0m \u001b[0mv\u001b[0m\u001b[0;34m.\u001b[0m\u001b[0mdtype\u001b[0m \u001b[0;34m==\u001b[0m \u001b[0mtorch\u001b[0m\u001b[0;34m.\u001b[0m\u001b[0mint32\u001b[0m \u001b[0;32melse\u001b[0m \u001b[0mv\u001b[0m \u001b[0;32mfor\u001b[0m \u001b[0;34m(\u001b[0m\u001b[0mk\u001b[0m\u001b[0;34m,\u001b[0m \u001b[0mv\u001b[0m\u001b[0;34m)\u001b[0m \u001b[0;32min\u001b[0m \u001b[0mfw_args\u001b[0m\u001b[0;34m.\u001b[0m\u001b[0mitems\u001b[0m\u001b[0;34m(\u001b[0m\u001b[0;34m)\u001b[0m\u001b[0;34m}\u001b[0m\u001b[0;34m\u001b[0m\u001b[0;34m\u001b[0m\u001b[0m\n\u001b[0;32m--> 319\u001b[0;31m                         \u001b[0mstart\u001b[0m\u001b[0;34m,\u001b[0m \u001b[0mend\u001b[0m \u001b[0;34m=\u001b[0m \u001b[0mself\u001b[0m\u001b[0;34m.\u001b[0m\u001b[0mmodel\u001b[0m\u001b[0;34m(\u001b[0m\u001b[0;34m**\u001b[0m\u001b[0mfw_args\u001b[0m\u001b[0;34m)\u001b[0m\u001b[0;34m[\u001b[0m\u001b[0;34m:\u001b[0m\u001b[0;36m2\u001b[0m\u001b[0;34m]\u001b[0m\u001b[0;34m\u001b[0m\u001b[0;34m\u001b[0m\u001b[0m\n\u001b[0m\u001b[1;32m    320\u001b[0m                         \u001b[0mstart\u001b[0m\u001b[0;34m,\u001b[0m \u001b[0mend\u001b[0m \u001b[0;34m=\u001b[0m \u001b[0mstart\u001b[0m\u001b[0;34m.\u001b[0m\u001b[0mcpu\u001b[0m\u001b[0;34m(\u001b[0m\u001b[0;34m)\u001b[0m\u001b[0;34m.\u001b[0m\u001b[0mnumpy\u001b[0m\u001b[0;34m(\u001b[0m\u001b[0;34m)\u001b[0m\u001b[0;34m,\u001b[0m \u001b[0mend\u001b[0m\u001b[0;34m.\u001b[0m\u001b[0mcpu\u001b[0m\u001b[0;34m(\u001b[0m\u001b[0;34m)\u001b[0m\u001b[0;34m.\u001b[0m\u001b[0mnumpy\u001b[0m\u001b[0;34m(\u001b[0m\u001b[0;34m)\u001b[0m\u001b[0;34m\u001b[0m\u001b[0;34m\u001b[0m\u001b[0m\n\u001b[1;32m    321\u001b[0m \u001b[0;34m\u001b[0m\u001b[0m\n",
      "\u001b[0;32m~/Documents/semester-project/models/venv/lib/python3.9/site-packages/torch/nn/modules/module.py\u001b[0m in \u001b[0;36m_call_impl\u001b[0;34m(self, *input, **kwargs)\u001b[0m\n\u001b[1;32m   1049\u001b[0m         if not (self._backward_hooks or self._forward_hooks or self._forward_pre_hooks or _global_backward_hooks\n\u001b[1;32m   1050\u001b[0m                 or _global_forward_hooks or _global_forward_pre_hooks):\n\u001b[0;32m-> 1051\u001b[0;31m             \u001b[0;32mreturn\u001b[0m \u001b[0mforward_call\u001b[0m\u001b[0;34m(\u001b[0m\u001b[0;34m*\u001b[0m\u001b[0minput\u001b[0m\u001b[0;34m,\u001b[0m \u001b[0;34m**\u001b[0m\u001b[0mkwargs\u001b[0m\u001b[0;34m)\u001b[0m\u001b[0;34m\u001b[0m\u001b[0;34m\u001b[0m\u001b[0m\n\u001b[0m\u001b[1;32m   1052\u001b[0m         \u001b[0;31m# Do not call functions when jit is used\u001b[0m\u001b[0;34m\u001b[0m\u001b[0;34m\u001b[0m\u001b[0;34m\u001b[0m\u001b[0m\n\u001b[1;32m   1053\u001b[0m         \u001b[0mfull_backward_hooks\u001b[0m\u001b[0;34m,\u001b[0m \u001b[0mnon_full_backward_hooks\u001b[0m \u001b[0;34m=\u001b[0m \u001b[0;34m[\u001b[0m\u001b[0;34m]\u001b[0m\u001b[0;34m,\u001b[0m \u001b[0;34m[\u001b[0m\u001b[0;34m]\u001b[0m\u001b[0;34m\u001b[0m\u001b[0;34m\u001b[0m\u001b[0m\n",
      "\u001b[0;32m~/Documents/semester-project/models/venv/lib/python3.9/site-packages/transformers/models/roberta/modeling_roberta.py\u001b[0m in \u001b[0;36mforward\u001b[0;34m(self, input_ids, attention_mask, token_type_ids, position_ids, head_mask, inputs_embeds, start_positions, end_positions, output_attentions, output_hidden_states, return_dict)\u001b[0m\n\u001b[1;32m   1501\u001b[0m         \u001b[0mreturn_dict\u001b[0m \u001b[0;34m=\u001b[0m \u001b[0mreturn_dict\u001b[0m \u001b[0;32mif\u001b[0m \u001b[0mreturn_dict\u001b[0m \u001b[0;32mis\u001b[0m \u001b[0;32mnot\u001b[0m \u001b[0;32mNone\u001b[0m \u001b[0;32melse\u001b[0m \u001b[0mself\u001b[0m\u001b[0;34m.\u001b[0m\u001b[0mconfig\u001b[0m\u001b[0;34m.\u001b[0m\u001b[0muse_return_dict\u001b[0m\u001b[0;34m\u001b[0m\u001b[0;34m\u001b[0m\u001b[0m\n\u001b[1;32m   1502\u001b[0m \u001b[0;34m\u001b[0m\u001b[0m\n\u001b[0;32m-> 1503\u001b[0;31m         outputs = self.roberta(\n\u001b[0m\u001b[1;32m   1504\u001b[0m             \u001b[0minput_ids\u001b[0m\u001b[0;34m,\u001b[0m\u001b[0;34m\u001b[0m\u001b[0;34m\u001b[0m\u001b[0m\n\u001b[1;32m   1505\u001b[0m             \u001b[0mattention_mask\u001b[0m\u001b[0;34m=\u001b[0m\u001b[0mattention_mask\u001b[0m\u001b[0;34m,\u001b[0m\u001b[0;34m\u001b[0m\u001b[0;34m\u001b[0m\u001b[0m\n",
      "\u001b[0;32m~/Documents/semester-project/models/venv/lib/python3.9/site-packages/torch/nn/modules/module.py\u001b[0m in \u001b[0;36m_call_impl\u001b[0;34m(self, *input, **kwargs)\u001b[0m\n\u001b[1;32m   1049\u001b[0m         if not (self._backward_hooks or self._forward_hooks or self._forward_pre_hooks or _global_backward_hooks\n\u001b[1;32m   1050\u001b[0m                 or _global_forward_hooks or _global_forward_pre_hooks):\n\u001b[0;32m-> 1051\u001b[0;31m             \u001b[0;32mreturn\u001b[0m \u001b[0mforward_call\u001b[0m\u001b[0;34m(\u001b[0m\u001b[0;34m*\u001b[0m\u001b[0minput\u001b[0m\u001b[0;34m,\u001b[0m \u001b[0;34m**\u001b[0m\u001b[0mkwargs\u001b[0m\u001b[0;34m)\u001b[0m\u001b[0;34m\u001b[0m\u001b[0;34m\u001b[0m\u001b[0m\n\u001b[0m\u001b[1;32m   1052\u001b[0m         \u001b[0;31m# Do not call functions when jit is used\u001b[0m\u001b[0;34m\u001b[0m\u001b[0;34m\u001b[0m\u001b[0;34m\u001b[0m\u001b[0m\n\u001b[1;32m   1053\u001b[0m         \u001b[0mfull_backward_hooks\u001b[0m\u001b[0;34m,\u001b[0m \u001b[0mnon_full_backward_hooks\u001b[0m \u001b[0;34m=\u001b[0m \u001b[0;34m[\u001b[0m\u001b[0;34m]\u001b[0m\u001b[0;34m,\u001b[0m \u001b[0;34m[\u001b[0m\u001b[0;34m]\u001b[0m\u001b[0;34m\u001b[0m\u001b[0;34m\u001b[0m\u001b[0m\n",
      "\u001b[0;32m~/Documents/semester-project/models/venv/lib/python3.9/site-packages/transformers/models/roberta/modeling_roberta.py\u001b[0m in \u001b[0;36mforward\u001b[0;34m(self, input_ids, attention_mask, token_type_ids, position_ids, head_mask, inputs_embeds, encoder_hidden_states, encoder_attention_mask, past_key_values, use_cache, output_attentions, output_hidden_states, return_dict)\u001b[0m\n\u001b[1;32m    841\u001b[0m             \u001b[0mpast_key_values_length\u001b[0m\u001b[0;34m=\u001b[0m\u001b[0mpast_key_values_length\u001b[0m\u001b[0;34m,\u001b[0m\u001b[0;34m\u001b[0m\u001b[0;34m\u001b[0m\u001b[0m\n\u001b[1;32m    842\u001b[0m         )\n\u001b[0;32m--> 843\u001b[0;31m         encoder_outputs = self.encoder(\n\u001b[0m\u001b[1;32m    844\u001b[0m             \u001b[0membedding_output\u001b[0m\u001b[0;34m,\u001b[0m\u001b[0;34m\u001b[0m\u001b[0;34m\u001b[0m\u001b[0m\n\u001b[1;32m    845\u001b[0m             \u001b[0mattention_mask\u001b[0m\u001b[0;34m=\u001b[0m\u001b[0mextended_attention_mask\u001b[0m\u001b[0;34m,\u001b[0m\u001b[0;34m\u001b[0m\u001b[0;34m\u001b[0m\u001b[0m\n",
      "\u001b[0;32m~/Documents/semester-project/models/venv/lib/python3.9/site-packages/torch/nn/modules/module.py\u001b[0m in \u001b[0;36m_call_impl\u001b[0;34m(self, *input, **kwargs)\u001b[0m\n\u001b[1;32m   1049\u001b[0m         if not (self._backward_hooks or self._forward_hooks or self._forward_pre_hooks or _global_backward_hooks\n\u001b[1;32m   1050\u001b[0m                 or _global_forward_hooks or _global_forward_pre_hooks):\n\u001b[0;32m-> 1051\u001b[0;31m             \u001b[0;32mreturn\u001b[0m \u001b[0mforward_call\u001b[0m\u001b[0;34m(\u001b[0m\u001b[0;34m*\u001b[0m\u001b[0minput\u001b[0m\u001b[0;34m,\u001b[0m \u001b[0;34m**\u001b[0m\u001b[0mkwargs\u001b[0m\u001b[0;34m)\u001b[0m\u001b[0;34m\u001b[0m\u001b[0;34m\u001b[0m\u001b[0m\n\u001b[0m\u001b[1;32m   1052\u001b[0m         \u001b[0;31m# Do not call functions when jit is used\u001b[0m\u001b[0;34m\u001b[0m\u001b[0;34m\u001b[0m\u001b[0;34m\u001b[0m\u001b[0m\n\u001b[1;32m   1053\u001b[0m         \u001b[0mfull_backward_hooks\u001b[0m\u001b[0;34m,\u001b[0m \u001b[0mnon_full_backward_hooks\u001b[0m \u001b[0;34m=\u001b[0m \u001b[0;34m[\u001b[0m\u001b[0;34m]\u001b[0m\u001b[0;34m,\u001b[0m \u001b[0;34m[\u001b[0m\u001b[0;34m]\u001b[0m\u001b[0;34m\u001b[0m\u001b[0;34m\u001b[0m\u001b[0m\n",
      "\u001b[0;32m~/Documents/semester-project/models/venv/lib/python3.9/site-packages/transformers/models/roberta/modeling_roberta.py\u001b[0m in \u001b[0;36mforward\u001b[0;34m(self, hidden_states, attention_mask, head_mask, encoder_hidden_states, encoder_attention_mask, past_key_values, use_cache, output_attentions, output_hidden_states, return_dict)\u001b[0m\n\u001b[1;32m    520\u001b[0m                 )\n\u001b[1;32m    521\u001b[0m             \u001b[0;32melse\u001b[0m\u001b[0;34m:\u001b[0m\u001b[0;34m\u001b[0m\u001b[0;34m\u001b[0m\u001b[0m\n\u001b[0;32m--> 522\u001b[0;31m                 layer_outputs = layer_module(\n\u001b[0m\u001b[1;32m    523\u001b[0m                     \u001b[0mhidden_states\u001b[0m\u001b[0;34m,\u001b[0m\u001b[0;34m\u001b[0m\u001b[0;34m\u001b[0m\u001b[0m\n\u001b[1;32m    524\u001b[0m                     \u001b[0mattention_mask\u001b[0m\u001b[0;34m,\u001b[0m\u001b[0;34m\u001b[0m\u001b[0;34m\u001b[0m\u001b[0m\n",
      "\u001b[0;32m~/Documents/semester-project/models/venv/lib/python3.9/site-packages/torch/nn/modules/module.py\u001b[0m in \u001b[0;36m_call_impl\u001b[0;34m(self, *input, **kwargs)\u001b[0m\n\u001b[1;32m   1049\u001b[0m         if not (self._backward_hooks or self._forward_hooks or self._forward_pre_hooks or _global_backward_hooks\n\u001b[1;32m   1050\u001b[0m                 or _global_forward_hooks or _global_forward_pre_hooks):\n\u001b[0;32m-> 1051\u001b[0;31m             \u001b[0;32mreturn\u001b[0m \u001b[0mforward_call\u001b[0m\u001b[0;34m(\u001b[0m\u001b[0;34m*\u001b[0m\u001b[0minput\u001b[0m\u001b[0;34m,\u001b[0m \u001b[0;34m**\u001b[0m\u001b[0mkwargs\u001b[0m\u001b[0;34m)\u001b[0m\u001b[0;34m\u001b[0m\u001b[0;34m\u001b[0m\u001b[0m\n\u001b[0m\u001b[1;32m   1052\u001b[0m         \u001b[0;31m# Do not call functions when jit is used\u001b[0m\u001b[0;34m\u001b[0m\u001b[0;34m\u001b[0m\u001b[0;34m\u001b[0m\u001b[0m\n\u001b[1;32m   1053\u001b[0m         \u001b[0mfull_backward_hooks\u001b[0m\u001b[0;34m,\u001b[0m \u001b[0mnon_full_backward_hooks\u001b[0m \u001b[0;34m=\u001b[0m \u001b[0;34m[\u001b[0m\u001b[0;34m]\u001b[0m\u001b[0;34m,\u001b[0m \u001b[0;34m[\u001b[0m\u001b[0;34m]\u001b[0m\u001b[0;34m\u001b[0m\u001b[0;34m\u001b[0m\u001b[0m\n",
      "\u001b[0;32m~/Documents/semester-project/models/venv/lib/python3.9/site-packages/transformers/models/roberta/modeling_roberta.py\u001b[0m in \u001b[0;36mforward\u001b[0;34m(self, hidden_states, attention_mask, head_mask, encoder_hidden_states, encoder_attention_mask, past_key_value, output_attentions)\u001b[0m\n\u001b[1;32m    447\u001b[0m             \u001b[0mpresent_key_value\u001b[0m \u001b[0;34m=\u001b[0m \u001b[0mpresent_key_value\u001b[0m \u001b[0;34m+\u001b[0m \u001b[0mcross_attn_present_key_value\u001b[0m\u001b[0;34m\u001b[0m\u001b[0;34m\u001b[0m\u001b[0m\n\u001b[1;32m    448\u001b[0m \u001b[0;34m\u001b[0m\u001b[0m\n\u001b[0;32m--> 449\u001b[0;31m         layer_output = apply_chunking_to_forward(\n\u001b[0m\u001b[1;32m    450\u001b[0m             \u001b[0mself\u001b[0m\u001b[0;34m.\u001b[0m\u001b[0mfeed_forward_chunk\u001b[0m\u001b[0;34m,\u001b[0m \u001b[0mself\u001b[0m\u001b[0;34m.\u001b[0m\u001b[0mchunk_size_feed_forward\u001b[0m\u001b[0;34m,\u001b[0m \u001b[0mself\u001b[0m\u001b[0;34m.\u001b[0m\u001b[0mseq_len_dim\u001b[0m\u001b[0;34m,\u001b[0m \u001b[0mattention_output\u001b[0m\u001b[0;34m\u001b[0m\u001b[0;34m\u001b[0m\u001b[0m\n\u001b[1;32m    451\u001b[0m         )\n",
      "\u001b[0;32m~/Documents/semester-project/models/venv/lib/python3.9/site-packages/transformers/modeling_utils.py\u001b[0m in \u001b[0;36mapply_chunking_to_forward\u001b[0;34m(forward_fn, chunk_size, chunk_dim, *input_tensors)\u001b[0m\n\u001b[1;32m   2194\u001b[0m         \u001b[0;32mreturn\u001b[0m \u001b[0mtorch\u001b[0m\u001b[0;34m.\u001b[0m\u001b[0mcat\u001b[0m\u001b[0;34m(\u001b[0m\u001b[0moutput_chunks\u001b[0m\u001b[0;34m,\u001b[0m \u001b[0mdim\u001b[0m\u001b[0;34m=\u001b[0m\u001b[0mchunk_dim\u001b[0m\u001b[0;34m)\u001b[0m\u001b[0;34m\u001b[0m\u001b[0;34m\u001b[0m\u001b[0m\n\u001b[1;32m   2195\u001b[0m \u001b[0;34m\u001b[0m\u001b[0m\n\u001b[0;32m-> 2196\u001b[0;31m     \u001b[0;32mreturn\u001b[0m \u001b[0mforward_fn\u001b[0m\u001b[0;34m(\u001b[0m\u001b[0;34m*\u001b[0m\u001b[0minput_tensors\u001b[0m\u001b[0;34m)\u001b[0m\u001b[0;34m\u001b[0m\u001b[0;34m\u001b[0m\u001b[0m\n\u001b[0m",
      "\u001b[0;32m~/Documents/semester-project/models/venv/lib/python3.9/site-packages/transformers/models/roberta/modeling_roberta.py\u001b[0m in \u001b[0;36mfeed_forward_chunk\u001b[0;34m(self, attention_output)\u001b[0m\n\u001b[1;32m    459\u001b[0m \u001b[0;34m\u001b[0m\u001b[0m\n\u001b[1;32m    460\u001b[0m     \u001b[0;32mdef\u001b[0m \u001b[0mfeed_forward_chunk\u001b[0m\u001b[0;34m(\u001b[0m\u001b[0mself\u001b[0m\u001b[0;34m,\u001b[0m \u001b[0mattention_output\u001b[0m\u001b[0;34m)\u001b[0m\u001b[0;34m:\u001b[0m\u001b[0;34m\u001b[0m\u001b[0;34m\u001b[0m\u001b[0m\n\u001b[0;32m--> 461\u001b[0;31m         \u001b[0mintermediate_output\u001b[0m \u001b[0;34m=\u001b[0m \u001b[0mself\u001b[0m\u001b[0;34m.\u001b[0m\u001b[0mintermediate\u001b[0m\u001b[0;34m(\u001b[0m\u001b[0mattention_output\u001b[0m\u001b[0;34m)\u001b[0m\u001b[0;34m\u001b[0m\u001b[0;34m\u001b[0m\u001b[0m\n\u001b[0m\u001b[1;32m    462\u001b[0m         \u001b[0mlayer_output\u001b[0m \u001b[0;34m=\u001b[0m \u001b[0mself\u001b[0m\u001b[0;34m.\u001b[0m\u001b[0moutput\u001b[0m\u001b[0;34m(\u001b[0m\u001b[0mintermediate_output\u001b[0m\u001b[0;34m,\u001b[0m \u001b[0mattention_output\u001b[0m\u001b[0;34m)\u001b[0m\u001b[0;34m\u001b[0m\u001b[0;34m\u001b[0m\u001b[0m\n\u001b[1;32m    463\u001b[0m         \u001b[0;32mreturn\u001b[0m \u001b[0mlayer_output\u001b[0m\u001b[0;34m\u001b[0m\u001b[0;34m\u001b[0m\u001b[0m\n",
      "\u001b[0;32m~/Documents/semester-project/models/venv/lib/python3.9/site-packages/torch/nn/modules/module.py\u001b[0m in \u001b[0;36m_call_impl\u001b[0;34m(self, *input, **kwargs)\u001b[0m\n\u001b[1;32m   1049\u001b[0m         if not (self._backward_hooks or self._forward_hooks or self._forward_pre_hooks or _global_backward_hooks\n\u001b[1;32m   1050\u001b[0m                 or _global_forward_hooks or _global_forward_pre_hooks):\n\u001b[0;32m-> 1051\u001b[0;31m             \u001b[0;32mreturn\u001b[0m \u001b[0mforward_call\u001b[0m\u001b[0;34m(\u001b[0m\u001b[0;34m*\u001b[0m\u001b[0minput\u001b[0m\u001b[0;34m,\u001b[0m \u001b[0;34m**\u001b[0m\u001b[0mkwargs\u001b[0m\u001b[0;34m)\u001b[0m\u001b[0;34m\u001b[0m\u001b[0;34m\u001b[0m\u001b[0m\n\u001b[0m\u001b[1;32m   1052\u001b[0m         \u001b[0;31m# Do not call functions when jit is used\u001b[0m\u001b[0;34m\u001b[0m\u001b[0;34m\u001b[0m\u001b[0;34m\u001b[0m\u001b[0m\n\u001b[1;32m   1053\u001b[0m         \u001b[0mfull_backward_hooks\u001b[0m\u001b[0;34m,\u001b[0m \u001b[0mnon_full_backward_hooks\u001b[0m \u001b[0;34m=\u001b[0m \u001b[0;34m[\u001b[0m\u001b[0;34m]\u001b[0m\u001b[0;34m,\u001b[0m \u001b[0;34m[\u001b[0m\u001b[0;34m]\u001b[0m\u001b[0;34m\u001b[0m\u001b[0;34m\u001b[0m\u001b[0m\n",
      "\u001b[0;32m~/Documents/semester-project/models/venv/lib/python3.9/site-packages/transformers/models/roberta/modeling_roberta.py\u001b[0m in \u001b[0;36mforward\u001b[0;34m(self, hidden_states)\u001b[0m\n\u001b[1;32m    360\u001b[0m \u001b[0;34m\u001b[0m\u001b[0m\n\u001b[1;32m    361\u001b[0m     \u001b[0;32mdef\u001b[0m \u001b[0mforward\u001b[0m\u001b[0;34m(\u001b[0m\u001b[0mself\u001b[0m\u001b[0;34m,\u001b[0m \u001b[0mhidden_states\u001b[0m\u001b[0;34m)\u001b[0m\u001b[0;34m:\u001b[0m\u001b[0;34m\u001b[0m\u001b[0;34m\u001b[0m\u001b[0m\n\u001b[0;32m--> 362\u001b[0;31m         \u001b[0mhidden_states\u001b[0m \u001b[0;34m=\u001b[0m \u001b[0mself\u001b[0m\u001b[0;34m.\u001b[0m\u001b[0mdense\u001b[0m\u001b[0;34m(\u001b[0m\u001b[0mhidden_states\u001b[0m\u001b[0;34m)\u001b[0m\u001b[0;34m\u001b[0m\u001b[0;34m\u001b[0m\u001b[0m\n\u001b[0m\u001b[1;32m    363\u001b[0m         \u001b[0mhidden_states\u001b[0m \u001b[0;34m=\u001b[0m \u001b[0mself\u001b[0m\u001b[0;34m.\u001b[0m\u001b[0mintermediate_act_fn\u001b[0m\u001b[0;34m(\u001b[0m\u001b[0mhidden_states\u001b[0m\u001b[0;34m)\u001b[0m\u001b[0;34m\u001b[0m\u001b[0;34m\u001b[0m\u001b[0m\n\u001b[1;32m    364\u001b[0m         \u001b[0;32mreturn\u001b[0m \u001b[0mhidden_states\u001b[0m\u001b[0;34m\u001b[0m\u001b[0;34m\u001b[0m\u001b[0m\n",
      "\u001b[0;32m~/Documents/semester-project/models/venv/lib/python3.9/site-packages/torch/nn/modules/module.py\u001b[0m in \u001b[0;36m_call_impl\u001b[0;34m(self, *input, **kwargs)\u001b[0m\n\u001b[1;32m   1049\u001b[0m         if not (self._backward_hooks or self._forward_hooks or self._forward_pre_hooks or _global_backward_hooks\n\u001b[1;32m   1050\u001b[0m                 or _global_forward_hooks or _global_forward_pre_hooks):\n\u001b[0;32m-> 1051\u001b[0;31m             \u001b[0;32mreturn\u001b[0m \u001b[0mforward_call\u001b[0m\u001b[0;34m(\u001b[0m\u001b[0;34m*\u001b[0m\u001b[0minput\u001b[0m\u001b[0;34m,\u001b[0m \u001b[0;34m**\u001b[0m\u001b[0mkwargs\u001b[0m\u001b[0;34m)\u001b[0m\u001b[0;34m\u001b[0m\u001b[0;34m\u001b[0m\u001b[0m\n\u001b[0m\u001b[1;32m   1052\u001b[0m         \u001b[0;31m# Do not call functions when jit is used\u001b[0m\u001b[0;34m\u001b[0m\u001b[0;34m\u001b[0m\u001b[0;34m\u001b[0m\u001b[0m\n\u001b[1;32m   1053\u001b[0m         \u001b[0mfull_backward_hooks\u001b[0m\u001b[0;34m,\u001b[0m \u001b[0mnon_full_backward_hooks\u001b[0m \u001b[0;34m=\u001b[0m \u001b[0;34m[\u001b[0m\u001b[0;34m]\u001b[0m\u001b[0;34m,\u001b[0m \u001b[0;34m[\u001b[0m\u001b[0;34m]\u001b[0m\u001b[0;34m\u001b[0m\u001b[0;34m\u001b[0m\u001b[0m\n",
      "\u001b[0;32m~/Documents/semester-project/models/venv/lib/python3.9/site-packages/torch/nn/modules/linear.py\u001b[0m in \u001b[0;36mforward\u001b[0;34m(self, input)\u001b[0m\n\u001b[1;32m     94\u001b[0m \u001b[0;34m\u001b[0m\u001b[0m\n\u001b[1;32m     95\u001b[0m     \u001b[0;32mdef\u001b[0m \u001b[0mforward\u001b[0m\u001b[0;34m(\u001b[0m\u001b[0mself\u001b[0m\u001b[0;34m,\u001b[0m \u001b[0minput\u001b[0m\u001b[0;34m:\u001b[0m \u001b[0mTensor\u001b[0m\u001b[0;34m)\u001b[0m \u001b[0;34m->\u001b[0m \u001b[0mTensor\u001b[0m\u001b[0;34m:\u001b[0m\u001b[0;34m\u001b[0m\u001b[0;34m\u001b[0m\u001b[0m\n\u001b[0;32m---> 96\u001b[0;31m         \u001b[0;32mreturn\u001b[0m \u001b[0mF\u001b[0m\u001b[0;34m.\u001b[0m\u001b[0mlinear\u001b[0m\u001b[0;34m(\u001b[0m\u001b[0minput\u001b[0m\u001b[0;34m,\u001b[0m \u001b[0mself\u001b[0m\u001b[0;34m.\u001b[0m\u001b[0mweight\u001b[0m\u001b[0;34m,\u001b[0m \u001b[0mself\u001b[0m\u001b[0;34m.\u001b[0m\u001b[0mbias\u001b[0m\u001b[0;34m)\u001b[0m\u001b[0;34m\u001b[0m\u001b[0;34m\u001b[0m\u001b[0m\n\u001b[0m\u001b[1;32m     97\u001b[0m \u001b[0;34m\u001b[0m\u001b[0m\n\u001b[1;32m     98\u001b[0m     \u001b[0;32mdef\u001b[0m \u001b[0mextra_repr\u001b[0m\u001b[0;34m(\u001b[0m\u001b[0mself\u001b[0m\u001b[0;34m)\u001b[0m \u001b[0;34m->\u001b[0m \u001b[0mstr\u001b[0m\u001b[0;34m:\u001b[0m\u001b[0;34m\u001b[0m\u001b[0;34m\u001b[0m\u001b[0m\n",
      "\u001b[0;32m~/Documents/semester-project/models/venv/lib/python3.9/site-packages/torch/nn/functional.py\u001b[0m in \u001b[0;36mlinear\u001b[0;34m(input, weight, bias)\u001b[0m\n\u001b[1;32m   1845\u001b[0m     \u001b[0;32mif\u001b[0m \u001b[0mhas_torch_function_variadic\u001b[0m\u001b[0;34m(\u001b[0m\u001b[0minput\u001b[0m\u001b[0;34m,\u001b[0m \u001b[0mweight\u001b[0m\u001b[0;34m)\u001b[0m\u001b[0;34m:\u001b[0m\u001b[0;34m\u001b[0m\u001b[0;34m\u001b[0m\u001b[0m\n\u001b[1;32m   1846\u001b[0m         \u001b[0;32mreturn\u001b[0m \u001b[0mhandle_torch_function\u001b[0m\u001b[0;34m(\u001b[0m\u001b[0mlinear\u001b[0m\u001b[0;34m,\u001b[0m \u001b[0;34m(\u001b[0m\u001b[0minput\u001b[0m\u001b[0;34m,\u001b[0m \u001b[0mweight\u001b[0m\u001b[0;34m)\u001b[0m\u001b[0;34m,\u001b[0m \u001b[0minput\u001b[0m\u001b[0;34m,\u001b[0m \u001b[0mweight\u001b[0m\u001b[0;34m,\u001b[0m \u001b[0mbias\u001b[0m\u001b[0;34m=\u001b[0m\u001b[0mbias\u001b[0m\u001b[0;34m)\u001b[0m\u001b[0;34m\u001b[0m\u001b[0;34m\u001b[0m\u001b[0m\n\u001b[0;32m-> 1847\u001b[0;31m     \u001b[0;32mreturn\u001b[0m \u001b[0mtorch\u001b[0m\u001b[0;34m.\u001b[0m\u001b[0m_C\u001b[0m\u001b[0;34m.\u001b[0m\u001b[0m_nn\u001b[0m\u001b[0;34m.\u001b[0m\u001b[0mlinear\u001b[0m\u001b[0;34m(\u001b[0m\u001b[0minput\u001b[0m\u001b[0;34m,\u001b[0m \u001b[0mweight\u001b[0m\u001b[0;34m,\u001b[0m \u001b[0mbias\u001b[0m\u001b[0;34m)\u001b[0m\u001b[0;34m\u001b[0m\u001b[0;34m\u001b[0m\u001b[0m\n\u001b[0m\u001b[1;32m   1848\u001b[0m \u001b[0;34m\u001b[0m\u001b[0m\n\u001b[1;32m   1849\u001b[0m \u001b[0;34m\u001b[0m\u001b[0m\n",
      "\u001b[0;31mKeyboardInterrupt\u001b[0m: "
     ]
    }
   ],
   "source": [
    "questions = [\n",
    "    'What is the number N?', \n",
    "    'What is the sample size?', \n",
    "    'What is the number of students?', \n",
    "    'What is the number of teachers?',\n",
    "    'How many people?'\n",
    "]\n",
    "\n",
    "for i in range(len(json_files)):\n",
    "    context = str(json_files[i]['abstract']) \n",
    "    if context is None or context == '': continue \n",
    "    results = []\n",
    "    result_max = 0\n",
    "    result_score = 0\n",
    "    for j, question in enumerate(questions):\n",
    "        res = get_entity(context, question)\n",
    "        results.append(res)\n",
    "        if res['score'] > result_score:\n",
    "            result_max = j \n",
    "    out = {\n",
    "        'id': i,\n",
    "        'file': files[i],\n",
    "        'title': json_files[i]['title'],\n",
    "        'sample_size': results[result_max]['answer']\n",
    "    }\n",
    "    print(json.dumps(out, indent=2)+',')\n",
    "    "
   ]
  },
  {
   "cell_type": "code",
   "execution_count": null,
   "id": "7cf93c8e",
   "metadata": {},
   "outputs": [],
   "source": []
  }
 ],
 "metadata": {
  "kernelspec": {
   "display_name": "Python 3 (ipykernel)",
   "language": "python",
   "name": "python3"
  },
  "language_info": {
   "codemirror_mode": {
    "name": "ipython",
    "version": 3
   },
   "file_extension": ".py",
   "mimetype": "text/x-python",
   "name": "python",
   "nbconvert_exporter": "python",
   "pygments_lexer": "ipython3",
   "version": "3.9.5"
  }
 },
 "nbformat": 4,
 "nbformat_minor": 5
}
