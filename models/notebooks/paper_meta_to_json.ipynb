{
 "cells": [
  {
   "cell_type": "code",
   "execution_count": 1,
   "id": "a65fbc6f",
   "metadata": {},
   "outputs": [],
   "source": [
    "import sys  \n",
    "sys.path.insert(0, '../')"
   ]
  },
  {
   "cell_type": "code",
   "execution_count": 41,
   "id": "d6b67d7c",
   "metadata": {},
   "outputs": [
    {
     "name": "stdout",
     "output_type": "stream",
     "text": [
      "{\n",
      "  \"paperId\": \"23a812dde149021bab611ca4395279b9d41031f1\",\n",
      "  \"title\": \"Using Word Embeddings to Analyze Teacher Evaluations: An Application to a Filipino Education Non-Profit Organization\"\n",
      "},\n"
     ]
    }
   ],
   "source": [
    "from src.datamodules.apis.semantic_scholar_api import SemanticScholarAPI\n",
    "import json\n",
    "\n",
    "q = \"Using Word Embeddings to Analyze Teacher Evaluations: An Application to a Filipino Education Non-Profit Organization\"\n",
    "\n",
    "api = SemanticScholarAPI() \n",
    "query = api.query(q, fields=['title', 'externalIds'], limit=2)\n",
    "first_result = query['data'][0]\n",
    "title = first_result['title']\n",
    "data = {\n",
    "    'paperId': first_result['paperId'],\n",
    "    'title': first_result['title']\n",
    "}\n",
    "\n",
    "\n",
    "print(json.dumps(data, indent=2)+',')\n",
    "#paper = api.paper('5c7b8f26ae23c457d85da9d0f19b28e588e9b9a7', fields=['title', 'externalIds'])\n"
   ]
  }
 ],
 "metadata": {
  "kernelspec": {
   "display_name": "Python 3 (ipykernel)",
   "language": "python",
   "name": "python3"
  },
  "language_info": {
   "codemirror_mode": {
    "name": "ipython",
    "version": 3
   },
   "file_extension": ".py",
   "mimetype": "text/x-python",
   "name": "python",
   "nbconvert_exporter": "python",
   "pygments_lexer": "ipython3",
   "version": "3.9.5"
  }
 },
 "nbformat": 4,
 "nbformat_minor": 5
}
