{
 "cells": [
  {
   "cell_type": "code",
   "execution_count": 2,
   "metadata": {},
   "outputs": [],
   "source": [
    "import sys  \n",
    "sys.path.insert(0, '../')"
   ]
  },
  {
   "cell_type": "code",
   "execution_count": 88,
   "metadata": {},
   "outputs": [
    {
     "data": {
      "text/plain": [
       "[{'paperId': '8763723e27cc1d4aad166b5e1d9cb0fc8c8043dd',\n",
       "  'title': 'Participatory Problem Formulation for Fairer Machine Learning Through Community Based System Dynamics'},\n",
       " {'paperId': '0e1fce327f17d42c42997a67a9f4ad7944e5789a',\n",
       "  'title': 'Participatory Machine Learning Using Community-Based System Dynamics'}]"
      ]
     },
     "execution_count": 88,
     "metadata": {},
     "output_type": "execute_result"
    }
   ],
   "source": [
    "from src.datamodules.apis.semantic_scholar_api import SemanticScholarAPI\n",
    "\n",
    "api = SemanticScholarAPI() \n",
    "query = api.query(\"Participatory Problem Formulation for Fairer Machine Learning Through Community Based System Dynamics. \", fields=['title'], limit=2)\n",
    "query['data']\n",
    "#paper = api.paper('83a0ae0a6e780d6f2ee672905b827d806edb5d1b', fields=['title', 'abstract', 'externalIds'])\n",
    "#paper"
   ]
  },
  {
   "cell_type": "code",
   "execution_count": null,
   "metadata": {},
   "outputs": [],
   "source": []
  }
 ],
 "metadata": {
  "kernelspec": {
   "display_name": "Python 3 (ipykernel)",
   "language": "python",
   "name": "python3"
  },
  "language_info": {
   "codemirror_mode": {
    "name": "ipython",
    "version": 3
   },
   "file_extension": ".py",
   "mimetype": "text/x-python",
   "name": "python",
   "nbconvert_exporter": "python",
   "pygments_lexer": "ipython3",
   "version": "3.9.5"
  }
 },
 "nbformat": 4,
 "nbformat_minor": 2
}
