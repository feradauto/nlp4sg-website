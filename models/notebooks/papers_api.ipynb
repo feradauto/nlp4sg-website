{
 "cells": [
  {
   "cell_type": "code",
   "execution_count": 3,
   "metadata": {},
   "outputs": [],
   "source": [
    "import sys  \n",
    "sys.path.insert(0, '../')"
   ]
  },
  {
   "cell_type": "code",
   "execution_count": 7,
   "metadata": {},
   "outputs": [
    {
     "name": "stdout",
     "output_type": "stream",
     "text": [
      "[{'paperId': '83a0ae0a6e780d6f2ee672905b827d806edb5d1b', 'title': 'A vocabulary size test'}, {'paperId': 'b0ebbcf713b3ddf3f94325bc58dc39ff76fdc412', 'title': 'A Simple Sequentially Rejective Multiple Test Procedure'}, {'paperId': 'd9e406d1e7d6bd244e9ce1bc8b8a987b11a40c2c', 'title': 'Bias in meta-analysis detected by a simple, graphical test'}, {'paperId': 'f9cce2ca192180e1a404a7577752a9c8ea8259ed', 'title': 'A Heteroskedasticity-Consistent Covariance Matrix Estimator and a Direct Test for Heteroskedasticity'}, {'paperId': 'a76b9144abdb25d7e3252e1360938ec68c077e0d', 'title': 'Operating characteristics of a rank correlation test for publication bias.'}, {'paperId': 'e4a742a4f0585b4e4069726f6628f4d4285a0827', 'title': 'An Analysis of Variance Test for Normality (Complete Samples)'}, {'paperId': 'ea23f3b334f6c95c654a4888c563e3a161c4dff6', 'title': 'The Timed “Up & Go”: A Test of Basic Functional Mobility for Frail Elderly Persons'}, {'paperId': '72c19d84a7a45529da8bf98d1fc21faa981057e6', 'title': 'Test'}, {'paperId': '74c8dd44c488807e054a5ed8711f6bc7b2fbeaea', 'title': 'The Fagerström Test for Nicotine Dependence: a revision of the Fagerström Tolerance Questionnaire.'}, {'paperId': '379df72de684003963f11427c97490a8c2d2a593', 'title': 'The Scree Test For The Number Of Factors.'}]\n"
     ]
    },
    {
     "data": {
      "text/plain": [
       "{'paperId': '83a0ae0a6e780d6f2ee672905b827d806edb5d1b',\n",
       " 'externalIds': {'DOI': '10.26686/wgtn.12552197'},\n",
       " 'title': 'A vocabulary size test',\n",
       " 'abstract': 'Users of the test need to be clear what the test is measuring and not measuring. It is measuring written receptive vocabulary knowledge, that is the vocabulary knowledge required for reading. It is not measuring listening vocabulary size, or the vocabulary knowledge needed for speaking and writing. It is also not a measure of reading skill, because although vocabulary size is a critical factor in reading, it is only a part of the reading skill. Because the test is a measure of receptive vocabulary size, a test-taker’s score provides little indication of how well these words could be used in speaking and writing.'}"
      ]
     },
     "execution_count": 7,
     "metadata": {},
     "output_type": "execute_result"
    }
   ],
   "source": [
    "from src.datamodules.apis.semantic_scholar_api import SemanticScholarAPI\n",
    "\n",
    "api = SemanticScholarAPI() \n",
    "query = api.query('Test', fields=['title'])\n",
    "print(query['data'])\n",
    "\n",
    "paper = api.paper('83a0ae0a6e780d6f2ee672905b827d806edb5d1b', fields=['title', 'abstract', 'externalIds'])\n",
    "paper"
   ]
  },
  {
   "cell_type": "code",
   "execution_count": null,
   "metadata": {},
   "outputs": [],
   "source": []
  }
 ],
 "metadata": {
  "kernelspec": {
   "display_name": "Python 3 (ipykernel)",
   "language": "python",
   "name": "python3"
  },
  "language_info": {
   "codemirror_mode": {
    "name": "ipython",
    "version": 3
   },
   "file_extension": ".py",
   "mimetype": "text/x-python",
   "name": "python",
   "nbconvert_exporter": "python",
   "pygments_lexer": "ipython3",
   "version": "3.9.5"
  }
 },
 "nbformat": 4,
 "nbformat_minor": 2
}
